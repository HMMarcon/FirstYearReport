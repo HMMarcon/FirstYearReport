{
 "cells": [
  {
   "cell_type": "markdown",
   "id": "3aff7f65-5c64-464d-a322-c36f8f24f023",
   "metadata": {},
   "source": [
    "# Indazoles reactivity\n",
    "\n",
    "This notebook will be detailing the data processing to study the reactivity patters of indazoles. First, we need to import some key libraries for our analysis. Some of them will be used on steps that are still in development of the project."
   ]
  },
  {
   "cell_type": "code",
   "execution_count": 13,
   "id": "50e126b7-ebb3-4981-9c8e-d38033d9a676",
   "metadata": {},
   "outputs": [],
   "source": [
    "import pandas as pd\n",
    "from rdkit import Chem"
   ]
  },
  {
   "cell_type": "code",
   "execution_count": 14,
   "id": "97b57cf5-b8b6-4880-89e4-608422c5ffe2",
   "metadata": {},
   "outputs": [],
   "source": [
    "#File paths\n",
    "local_data = \"/Users/hmm/PhD/Reaxys_Datasets/2022-07-04\""
   ]
  },
  {
   "cell_type": "markdown",
   "id": "7133dce9-9a93-4509-9331-b02d5801d76d",
   "metadata": {},
   "source": [
    "Now we need to import data extracted from the Reaxys web-interface. Beacuse we can export up to 5k reactions at a time, some reaction patters will need to be combined from diferent files."
   ]
  },
  {
   "cell_type": "code",
   "execution_count": 18,
   "id": "c5979d58-a387-4738-a435-0acfc8f9ba98",
   "metadata": {},
   "outputs": [
    {
     "name": "stderr",
     "output_type": "stream",
     "text": [
      "/Users/hmm/opt/anaconda3/envs/my-rdkit-env/lib/python3.10/site-packages/openpyxl/styles/stylesheet.py:226: UserWarning: Workbook contains no default style, apply openpyxl's default\n",
      "  warn(\"Workbook contains no default style, apply openpyxl's default\")\n",
      "/Users/hmm/opt/anaconda3/envs/my-rdkit-env/lib/python3.10/site-packages/openpyxl/styles/stylesheet.py:226: UserWarning: Workbook contains no default style, apply openpyxl's default\n",
      "  warn(\"Workbook contains no default style, apply openpyxl's default\")\n",
      "/Users/hmm/opt/anaconda3/envs/my-rdkit-env/lib/python3.10/site-packages/openpyxl/styles/stylesheet.py:226: UserWarning: Workbook contains no default style, apply openpyxl's default\n",
      "  warn(\"Workbook contains no default style, apply openpyxl's default\")\n",
      "/Users/hmm/opt/anaconda3/envs/my-rdkit-env/lib/python3.10/site-packages/openpyxl/styles/stylesheet.py:226: UserWarning: Workbook contains no default style, apply openpyxl's default\n",
      "  warn(\"Workbook contains no default style, apply openpyxl's default\")\n"
     ]
    }
   ],
   "source": [
    "!cd {local_data}\n",
    "dfN1_1 = pd.read_excel(\"Indazoles_N1_1-5k.xlsx\",)\n",
    "dfN1_2 = pd.read_excel(\"Indazoles_N1_5k1-10k.xlsx\",)\n",
    "dfN1_3 = pd.read_excel(\"Indazoles_N1_10k1-10k11.xlsx\",)\n",
    "\n",
    "dfN1 = [dfN1_1 , dfN1_2 , dfN1_3]\n",
    "dfN1 = pd.concat(dfN1, ignore_index=True)\n",
    "\n",
    "dfN2 = pd.read_excel(\"Indazoles_N2.xlsx\",)"
   ]
  },
  {
   "cell_type": "code",
   "execution_count": 19,
   "id": "ab908f2b-cbcb-440f-b922-afebe6839cce",
   "metadata": {},
   "outputs": [
    {
     "data": {
      "text/plain": [
       "Reaction ID                                        12380\n",
       "Reaction: Links to Reaxys                          12374\n",
       "Data Count                                         12374\n",
       "Number of Reaction Details                         12374\n",
       "Reaction Rank                                      12374\n",
       "Record Type                                        12374\n",
       "Reactant                                           12374\n",
       "Product                                            12374\n",
       "Bin                                                11788\n",
       "Reaction                                           12343\n",
       "Reaction Details: Reaction Classification          12374\n",
       "Example label                                       4067\n",
       "Example title                                       3637\n",
       "Fulltext of reaction                                4997\n",
       "Number of Reaction Steps                           12374\n",
       "Multi-step Scheme                                   4815\n",
       "Multi-step Details                                  4813\n",
       "Number of Stages                                    1551\n",
       "Solid Phase                                            0\n",
       "Time (Reaction Details) [h]                         5179\n",
       "Temperature (Reaction Details) [C]                  5812\n",
       "Pressure (Reaction Details) [Torr]                    13\n",
       "pH-Value (Reaction Details)                            6\n",
       "Other Conditions                                    2482\n",
       "Reaction Type                                        235\n",
       "Subject Studied                                       48\n",
       "Prototype Reaction                                    76\n",
       "Named Reaction                                         0\n",
       "Type of reaction description (Reaction Details)     1693\n",
       "Location                                            5480\n",
       "Comment (Reaction Details)                           871\n",
       "Product.1                                           4534\n",
       "Yield                                               4534\n",
       "Yield (numerical)                                   4051\n",
       "Yield (optical)                                        6\n",
       "Stage Reactant                                      1551\n",
       "Reagent                                            11731\n",
       "Catalyst                                             555\n",
       "Solvent (Reaction Details)                         11363\n",
       "References                                         12374\n",
       "Links to Reaxys                                    12374\n",
       "dtype: int64"
      ]
     },
     "execution_count": 19,
     "metadata": {},
     "output_type": "execute_result"
    }
   ],
   "source": [
    "dfN1.count()"
   ]
  },
  {
   "cell_type": "code",
   "execution_count": 25,
   "id": "26f8761c-e2a7-4299-a860-8cc1e24e5d7a",
   "metadata": {},
   "outputs": [
    {
     "data": {
      "text/plain": [
       "10011"
      ]
     },
     "execution_count": 25,
     "metadata": {},
     "output_type": "execute_result"
    }
   ],
   "source": [
    "len(set(dfN1[\"Reaction ID\"]))-2\n",
    "#Important: last 2 entries of the dataset are N/A. Thus, 10011 unique rxt IDs"
   ]
  },
  {
   "cell_type": "code",
   "execution_count": 22,
   "id": "0b812713-4572-42f5-9389-ce4539ca790e",
   "metadata": {},
   "outputs": [
    {
     "data": {
      "text/plain": [
       "Reaction ID                                        1928\n",
       "Reaction: Links to Reaxys                          1926\n",
       "Data Count                                         1926\n",
       "Number of Reaction Details                         1926\n",
       "Reaction Rank                                      1926\n",
       "Record Type                                        1926\n",
       "Reactant                                           1926\n",
       "Product                                            1926\n",
       "Bin                                                1816\n",
       "Reaction                                           1911\n",
       "Reaction Details: Reaction Classification          1926\n",
       "Example label                                       699\n",
       "Example title                                       618\n",
       "Fulltext of reaction                                867\n",
       "Number of Reaction Steps                           1926\n",
       "Multi-step Scheme                                   621\n",
       "Multi-step Details                                  616\n",
       "Number of Stages                                    321\n",
       "Solid Phase                                           0\n",
       "Time (Reaction Details) [h]                         917\n",
       "Temperature (Reaction Details) [C]                 1056\n",
       "Pressure (Reaction Details) [Torr]                    3\n",
       "pH-Value (Reaction Details)                           3\n",
       "Other Conditions                                    351\n",
       "Reaction Type                                        17\n",
       "Subject Studied                                      30\n",
       "Prototype Reaction                                   13\n",
       "Named Reaction                                        0\n",
       "Type of reaction description (Reaction Details)     222\n",
       "Location                                            940\n",
       "Comment (Reaction Details)                          190\n",
       "Product.1                                           829\n",
       "Yield                                               829\n",
       "Yield (numerical)                                   655\n",
       "Yield (optical)                                       4\n",
       "Stage Reactant                                      321\n",
       "Reagent                                            1735\n",
       "Catalyst                                             82\n",
       "Solvent (Reaction Details)                         1739\n",
       "References                                         1926\n",
       "Links to Reaxys                                    1926\n",
       "dtype: int64"
      ]
     },
     "execution_count": 22,
     "metadata": {},
     "output_type": "execute_result"
    }
   ],
   "source": [
    "dfN2.count()"
   ]
  },
  {
   "cell_type": "code",
   "execution_count": 26,
   "id": "c7117467-56e0-4fff-a838-f5eff6498f90",
   "metadata": {},
   "outputs": [
    {
     "data": {
      "text/plain": [
       "1489"
      ]
     },
     "execution_count": 26,
     "metadata": {},
     "output_type": "execute_result"
    }
   ],
   "source": [
    "len(set(dfN2[\"Reaction ID\"]))-2\n",
    "#Important: last 2 entries of the dataset are N/A. Thus, 1489 unique rxt IDs"
   ]
  },
  {
   "cell_type": "code",
   "execution_count": null,
   "id": "5420220d-93aa-4755-8ebf-c3cff20238d9",
   "metadata": {},
   "outputs": [],
   "source": []
  }
 ],
 "metadata": {
  "kernelspec": {
   "display_name": "Python [conda env:my-rdkit-env]",
   "language": "python",
   "name": "conda-env-my-rdkit-env-py"
  },
  "language_info": {
   "codemirror_mode": {
    "name": "ipython",
    "version": 3
   },
   "file_extension": ".py",
   "mimetype": "text/x-python",
   "name": "python",
   "nbconvert_exporter": "python",
   "pygments_lexer": "ipython3",
   "version": "3.10.4"
  }
 },
 "nbformat": 4,
 "nbformat_minor": 5
}
