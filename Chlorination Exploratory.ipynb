{
 "cells": [
  {
   "cell_type": "markdown",
   "id": "cc71c223-542f-4dbb-b15e-841f984daa0f",
   "metadata": {},
   "source": [
    "Most of this code was adapted from:\n",
    "\n",
    "Ree, N.; Göller, A. H.; Jensen, J. H. RegioML: Predicting the Regioselectivity of Electrophilic Aromatic Substitution Reactions Using Machine Learning. Digital Discovery 2022. https://doi.org/10.1039/D1DD00032B."
   ]
  },
  {
   "cell_type": "code",
   "execution_count": 21,
   "id": "c9a4354c-8e7f-40ee-b229-8f78649194de",
   "metadata": {},
   "outputs": [
    {
     "name": "stdout",
     "output_type": "stream",
     "text": [
      "/Users/hmm/PhD/Reaxys_Datasets/2022-05-06\n",
      "/Users/hmm/PhD/Reaxys_Datasets/2022-05-06\n"
     ]
    }
   ],
   "source": [
    "## Local for data files - update with latest Reaxys data\n",
    "local_data = \"/Users/hmm/PhD/Reaxys_Datasets/2022-05-06\"\n",
    "%cd {local_data}\n",
    "!pwd"
   ]
  },
  {
   "cell_type": "code",
   "execution_count": 22,
   "id": "77948e37-6538-4d7f-b12e-bd24502b6641",
   "metadata": {},
   "outputs": [
    {
     "name": "stdout",
     "output_type": "stream",
     "text": [
      "/Users/hmm/PhD/JupyterNotebooks/Dependencies/data_cleaning\n"
     ]
    }
   ],
   "source": [
    "dependencies = \"/Users/hmm/PhD/JupyterNotebooks/Dependencies/data_cleaning/\"\n",
    "%cd {dependencies}"
   ]
  },
  {
   "cell_type": "code",
   "execution_count": 23,
   "id": "b74c9bad-169e-4ad7-9ecd-312dd2963bf7",
   "metadata": {},
   "outputs": [
    {
     "name": "stdout",
     "output_type": "stream",
     "text": [
      "/Users/hmm/PhD/JupyterNotebooks\n"
     ]
    }
   ],
   "source": [
    "## Notebook working directory\n",
    "work_dir = \"/Users/hmm/PhD/JupyterNotebooks\"\n",
    "%cd {work_dir}"
   ]
  },
  {
   "cell_type": "markdown",
   "id": "52e41081-e642-42df-92dd-7e287154d14a",
   "metadata": {},
   "source": [
    "# Import Modules"
   ]
  },
  {
   "cell_type": "code",
   "execution_count": 24,
   "id": "366929bb-1454-4b75-9b24-9b461f7a23c3",
   "metadata": {},
   "outputs": [
    {
     "name": "stdout",
     "output_type": "stream",
     "text": [
      "/Users/hmm/PhD/JupyterNotebooks/Dependencies/data_cleaning\n",
      "/Users/hmm/PhD/JupyterNotebooks\n"
     ]
    }
   ],
   "source": [
    "import numpy as np\n",
    "import pandas as pd\n",
    "\n",
    "from functools import reduce\n",
    "import operator\n",
    "import copy\n",
    "from tqdm import tqdm\n",
    "from natsort import natsorted, index_natsorted\n",
    "\n",
    "from rdkit import Chem\n",
    "from rdkit.Chem import AllChem\n",
    "from rdkit.Chem import Draw\n",
    "from rdkit.Chem import rdFMCS\n",
    "from rdkit.Chem import rdmolops\n",
    "from rdkit.Chem.Draw import rdMolDraw2D\n",
    "\"\"\"\n",
    "## To use widgets on data exploration\n",
    "\n",
    "import ipywidgets as widgets\n",
    "from ipywidgets import interact,fixed\n",
    "from IPython.display import SVG,Image\n",
    "from IPython.core.display import display\n",
    "\"\"\"\n",
    "\n",
    "%cd {dependencies}\n",
    "from reorder_atoms import single_bonded_mol, reorder_labels, get_atoms_in_order\n",
    "from locate_EAS_sites import locate_sites\n",
    "from find_atoms import find_identical_atoms\n",
    "%cd {work_dir}"
   ]
  },
  {
   "cell_type": "markdown",
   "id": "458c89ab-cc55-4de2-88b9-2a0833d34359",
   "metadata": {},
   "source": [
    "# Main Functions"
   ]
  },
  {
   "cell_type": "code",
   "execution_count": 25,
   "id": "a4e5cc73-da1c-472b-aa73-2dc57441f121",
   "metadata": {},
   "outputs": [],
   "source": [
    "def mol_with_atom_index(rdkit_mol):\n",
    "    m = copy.deepcopy(rdkit_mol) \n",
    "    for atom in m.GetAtoms():\n",
    "        atom.SetAtomMapNum(atom.GetIdx())\n",
    "    return m\n",
    "\n",
    "\n",
    "def modifify_mol(rdkit_smi):\n",
    "    \"\"\" correct nitrogen charges  \"\"\"\n",
    "\n",
    "    rdkit_mol = Chem.MolFromSmiles(rdkit_smi, sanitize=False)\n",
    "    rdkit_mol.UpdatePropertyCache(strict=False)\n",
    "    rdmolops.SetAromaticity(rdkit_mol)\n",
    "\n",
    "    rxn_smarts = ['[*;R:1]-[#7;R:2](=[*;R:3])=[#7;!R:4]-[*:5]>>[*;R:1]-[#7;R+:2](=[*;R:3])-[#7;!R-:4]-[*:5]',\n",
    "                  '[#8;!R:1]=[#6;R:2]1-[#6;R:3]=[#7;R:4](-[*:5])=[#7;R:6]-[#8;R:7]1>>[#8;!R-:1]-[#6;R:2]-1=[#6;R:3]-[#7;R+:4](-[*:5])=[#7;R:6]-[#8;R:7]-1',\n",
    "                  '[#6;R:1]=[#7;R:2]=[#7;R:3]-[#6;R:4]=[#7;R:5]>>[#6;R:1]=[#7;R+:2]-[#7;R-:3]-[#6;R:4]=[#7;R:5]',\n",
    "                  '[*:1]-[#6;!R:2](=[O;!R:3])-[#7;!R:4]=[#6;R:5]1-[#8;R:6]-[#7;R:7]=[#7;R:8](-[*:9])=[#6;R:10]1>>[*:1]-[#6;!R:2](=[O;!R:3])-[#7;!R-:4]-[#6;R:5]=1-[#8;R:6]-[#7;R:7]=[#7;R+:8](-[*:9])-[#6;R:10]=1']\n",
    "\n",
    "    fragments = Chem.GetMolFrags(rdkit_mol,asMols=True,sanitizeFrags=False)\n",
    "\n",
    "    for i, fragment in enumerate(fragments):\n",
    "        for smarts in rxn_smarts:\n",
    "            patt = Chem.MolFromSmarts(smarts.split(\">>\")[0])\n",
    "            while fragment.HasSubstructMatch(patt):\n",
    "                rxn = AllChem.ReactionFromSmarts(smarts)\n",
    "                ps = rxn.RunReactants((fragment,))\n",
    "                fragment = ps[0][0]\n",
    "                Chem.SanitizeMol(fragment)\n",
    "        if i == 0:\n",
    "            rdkit_mol = fragment\n",
    "        else:\n",
    "            rdkit_mol = Chem.CombineMols(rdkit_mol, fragment)\n",
    "    \n",
    "    rdmolops.Kekulize(rdkit_mol,clearAromaticFlags=True)\n",
    "    rdkit_mol = Chem.MolFromSmiles(Chem.MolToSmiles(rdkit_mol))\n",
    "    return rdkit_mol"
   ]
  },
  {
   "cell_type": "code",
   "execution_count": 26,
   "id": "58b26185-1131-48f3-9ca7-0f316c5891f5",
   "metadata": {},
   "outputs": [],
   "source": [
    "def get_unique_reps2(rdkit_smis):\n",
    "    unique_mols = []\n",
    "    unique_smiles = []\n",
    "    for rdkit_smi in rdkit_smis:\n",
    "        try:\n",
    "            rdkit_mol = modifify_mol(rdkit_smi)\n",
    "            Chem.SanitizeMol(rdkit_mol)\n",
    "            rdkit_smi = Chem.MolToSmiles(rdkit_mol, isomericSmiles=True)\n",
    "        except:\n",
    "            continue\n",
    "        if rdkit_smi not in unique_smiles:\n",
    "            unique_smiles.append(rdkit_smi)\n",
    "            unique_mols.append(Chem.MolFromSmiles(rdkit_smi, sanitize=False))\n",
    "    return unique_mols, unique_smiles"
   ]
  },
  {
   "cell_type": "code",
   "execution_count": 27,
   "id": "c53baafe-207d-41d6-8053-b33c5583cea3",
   "metadata": {},
   "outputs": [],
   "source": [
    "def get_reps2(rdkit_smis):\n",
    "    mols = []\n",
    "    smiles = []\n",
    "    for rdkit_smi in rdkit_smis:\n",
    "        try:\n",
    "            rdkit_mol = modifify_mol(rdkit_smi)\n",
    "            Chem.SanitizeMol(rdkit_mol)\n",
    "            rdkit_smi = Chem.MolToSmiles(rdkit_mol, isomericSmiles=True)\n",
    "        except:\n",
    "            continue\n",
    "        smiles.append(rdkit_smi)\n",
    "        mols.append(Chem.MolFromSmiles(rdkit_smi, sanitize=False))\n",
    "    return mols, smiles"
   ]
  },
  {
   "cell_type": "code",
   "execution_count": 28,
   "id": "2b30b54f-67aa-44dd-94df-b25c2bc51b90",
   "metadata": {},
   "outputs": [],
   "source": [
    "def get_mols(rdkit_smis):\n",
    "    mols = []\n",
    "    unique_smiles = []\n",
    "    for rdkit_smi in rdkit_smis:\n",
    "        try:\n",
    "            rdkit_mol = modifify_mol(rdkit_smi)\n",
    "            Chem.SanitizeMol(rdkit_mol)\n",
    "            rdkit_smi = Chem.MolToSmiles(rdkit_mol, isomericSmiles=True)\n",
    "        except:\n",
    "            continue\n",
    "        mols.append(Chem.MolFromSmiles(rdkit_smi, sanitize=False))\n",
    "    return mols"
   ]
  },
  {
   "cell_type": "markdown",
   "id": "419d4d7f-ad9a-4bb8-b328-5d44b076326d",
   "metadata": {},
   "source": [
    "# Load Reaxys Data (Chlorination Dataset)"
   ]
  },
  {
   "cell_type": "code",
   "execution_count": 29,
   "id": "530efcbb-c56b-49f1-8841-a1ce70b48238",
   "metadata": {},
   "outputs": [
    {
     "name": "stdout",
     "output_type": "stream",
     "text": [
      "/Users/hmm/PhD/Reaxys_Datasets/2022-05-06/raw_reaxys_data\n"
     ]
    },
    {
     "name": "stderr",
     "output_type": "stream",
     "text": [
      "/Users/hmm/opt/anaconda3/envs/my-rdkit-env/lib/python3.10/site-packages/openpyxl/styles/stylesheet.py:226: UserWarning: Workbook contains no default style, apply openpyxl's default\n",
      "  warn(\"Workbook contains no default style, apply openpyxl's default\")\n",
      "/Users/hmm/opt/anaconda3/envs/my-rdkit-env/lib/python3.10/site-packages/openpyxl/styles/stylesheet.py:226: UserWarning: Workbook contains no default style, apply openpyxl's default\n",
      "  warn(\"Workbook contains no default style, apply openpyxl's default\")\n",
      "/Users/hmm/opt/anaconda3/envs/my-rdkit-env/lib/python3.10/site-packages/openpyxl/styles/stylesheet.py:226: UserWarning: Workbook contains no default style, apply openpyxl's default\n",
      "  warn(\"Workbook contains no default style, apply openpyxl's default\")\n",
      "/Users/hmm/opt/anaconda3/envs/my-rdkit-env/lib/python3.10/site-packages/openpyxl/styles/stylesheet.py:226: UserWarning: Workbook contains no default style, apply openpyxl's default\n",
      "  warn(\"Workbook contains no default style, apply openpyxl's default\")\n"
     ]
    },
    {
     "name": "stdout",
     "output_type": "stream",
     "text": [
      "/Users/hmm/PhD/JupyterNotebooks\n",
      "Shape of DataFrame: (27734, 41)\n",
      "Unique compounds in DataFrame: 15478\n"
     ]
    }
   ],
   "source": [
    "%cd {local_data}/raw_reaxys_data\n",
    "\n",
    "df1 = pd.read_excel(\"Reaxys_Exp_20220506_1-5000.xlsx\", )\n",
    "df2 = pd.read_excel(\"Reaxys_Exp_20220506_5001-10000.xlsx\", )\n",
    "df3 = pd.read_excel(\"Reaxys_Exp_20220506_10001-15000.xlsx\", )\n",
    "df4 = pd.read_excel(\"Reaxys_Exp_20220506_15001-15476.xlsx\", )\n",
    "\n",
    "%cd {work_dir}\n",
    "\n",
    "\n",
    "dataframes = [df1, df2, df3, df4]\n",
    "df = pd.concat(dataframes, ignore_index = True)\n",
    "print(f'Shape of DataFrame: {df.shape}')\n",
    "print(f'Unique compounds in DataFrame: {len(set(list(df[\"Reaction ID\"])))}')"
   ]
  },
  {
   "cell_type": "code",
   "execution_count": 30,
   "id": "668446f9-63cc-410e-8f43-0039acd3c3c5",
   "metadata": {},
   "outputs": [
    {
     "data": {
      "text/plain": [
       "(27734, 15478)"
      ]
     },
     "execution_count": 30,
     "metadata": {},
     "output_type": "execute_result"
    }
   ],
   "source": [
    "df.head(1)\n",
    "len(df), len(set(df[\"Reaction ID\"]))"
   ]
  },
  {
   "cell_type": "code",
   "execution_count": 31,
   "id": "7709d545-2c32-4f26-ad80-80928d22b489",
   "metadata": {},
   "outputs": [
    {
     "name": "stdout",
     "output_type": "stream",
     "text": [
      "<class 'pandas.core.frame.DataFrame'>\n",
      "RangeIndex: 27734 entries, 0 to 27733\n",
      "Data columns (total 41 columns):\n",
      " #   Column                                           Non-Null Count  Dtype  \n",
      "---  ------                                           --------------  -----  \n",
      " 0   Reaction ID                                      27734 non-null  object \n",
      " 1   Reaction: Links to Reaxys                        27726 non-null  object \n",
      " 2   Data Count                                       27726 non-null  object \n",
      " 3   Number of Reaction Details                       27726 non-null  float64\n",
      " 4   Reaction Rank                                    27726 non-null  float64\n",
      " 5   Record Type                                      27726 non-null  object \n",
      " 6   Reactant                                         27726 non-null  object \n",
      " 7   Product                                          27726 non-null  object \n",
      " 8   Bin                                              24327 non-null  object \n",
      " 9   Reaction                                         27515 non-null  object \n",
      " 10  Reaction Details: Reaction Classification        27726 non-null  object \n",
      " 11  Example label                                    8606 non-null   object \n",
      " 12  Example title                                    8101 non-null   object \n",
      " 13  Fulltext of reaction                             11492 non-null  object \n",
      " 14  Number of Reaction Steps                         27726 non-null  float64\n",
      " 15  Multi-step Scheme                                448 non-null    object \n",
      " 16  Multi-step Details                               448 non-null    object \n",
      " 17  Number of Stages                                 2379 non-null   float64\n",
      " 18  Solid Phase                                      0 non-null      float64\n",
      " 19  Time (Reaction Details) [h]                      19605 non-null  object \n",
      " 20  Temperature (Reaction Details) [C]               16894 non-null  object \n",
      " 21  Pressure (Reaction Details) [Torr]               266 non-null    object \n",
      " 22  pH-Value (Reaction Details)                      305 non-null    object \n",
      " 23  Other Conditions                                 11736 non-null  object \n",
      " 24  Reaction Type                                    742 non-null    object \n",
      " 25  Subject Studied                                  537 non-null    object \n",
      " 26  Prototype Reaction                               850 non-null    object \n",
      " 27  Named Reaction                                   0 non-null      float64\n",
      " 28  Type of reaction description (Reaction Details)  7484 non-null   object \n",
      " 29  Location                                         13698 non-null  object \n",
      " 30  Comment (Reaction Details)                       1990 non-null   object \n",
      " 31  Product.1                                        22220 non-null  object \n",
      " 32  Yield                                            22220 non-null  object \n",
      " 33  Yield (numerical)                                21543 non-null  object \n",
      " 34  Yield (optical)                                  49 non-null     object \n",
      " 35  Stage Reactant                                   2379 non-null   object \n",
      " 36  Reagent                                          26916 non-null  object \n",
      " 37  Catalyst                                         504 non-null    object \n",
      " 38  Solvent (Reaction Details)                       15968 non-null  object \n",
      " 39  References                                       27726 non-null  object \n",
      " 40  Links to Reaxys                                  27726 non-null  object \n",
      "dtypes: float64(6), object(35)\n",
      "memory usage: 8.7+ MB\n"
     ]
    }
   ],
   "source": [
    "df.info()"
   ]
  },
  {
   "cell_type": "markdown",
   "id": "84e3cfb7-d21b-483d-8d67-56e9c5bcd765",
   "metadata": {},
   "source": [
    "# Exploratory Data Exploration"
   ]
  },
  {
   "cell_type": "code",
   "execution_count": 32,
   "id": "a700062c-6764-42cd-a2eb-2850888f579e",
   "metadata": {},
   "outputs": [],
   "source": [
    "def FMCS_atoms(mol1, mol2):\n",
    "    \"\"\" Find maximum common substructure.\n",
    "        return: list of atoms indexes for mol2 \"\"\"\n",
    "\n",
    "    mol1_copy = copy.deepcopy(mol1)\n",
    "    mol1_copy.UpdatePropertyCache(strict=False)\n",
    "    rdmolops.SetAromaticity(mol1_copy)\n",
    "\n",
    "    mol2_copy = copy.deepcopy(mol2)\n",
    "    mol2_copy.UpdatePropertyCache(strict=False)\n",
    "    rdmolops.SetAromaticity(mol2_copy)\n",
    "\n",
    "    mols = [mol1_copy, mol2_copy]\n",
    "    res = rdFMCS.FindMCS(mols, atomCompare=rdFMCS.AtomCompare.CompareAnyHeavyAtom, bondCompare=rdFMCS.BondCompare.CompareAny, ringMatchesRingOnly=True)\n",
    "\n",
    "    return mol2_copy.GetSubstructMatch(Chem.MolFromSmarts(res.smartsString))"
   ]
  },
  {
   "cell_type": "code",
   "execution_count": 33,
   "id": "d77405f1-cac3-41a3-bb07-cbc6e1d8875f",
   "metadata": {},
   "outputs": [],
   "source": [
    "def get_site_selectivity(reac_mol, prod_mol):\n",
    "    \n",
    "    # Make a copy of the mols\n",
    "    reac_mol_copy = copy.deepcopy(reac_mol)\n",
    "    prod_mol_copy = copy.deepcopy(prod_mol)\n",
    "\n",
    "    # Create single bonded mols\n",
    "    single_bonded_reac = single_bonded_mol(reac_mol_copy)\n",
    "    single_bonded_prod = single_bonded_mol(prod_mol_copy)\n",
    "\n",
    "    # Compare reac_mol and prod_mol\n",
    "    MCS_atoms = FMCS_atoms(reac_mol_copy, prod_mol_copy)\n",
    "    atoms = single_bonded_prod.GetSubstructMatch(single_bonded_reac)\n",
    "\n",
    "    if len(MCS_atoms) != reac_mol_copy.GetNumHeavyAtoms(): #check if the atoms in the MCS match the number of atoms in the reactant\n",
    "        #print(len(MCS_atoms), reac_mol_copy.GetNumAtoms())\n",
    "        raise ValueError('Reactant And Product Error I')\n",
    "    elif len(MCS_atoms) == prod_mol_copy.GetNumHeavyAtoms(): #check if the product contains other atoms than just the MCS\n",
    "        #print(len(MCS_atoms), prod_mol_copy.GetNumAtoms())\n",
    "        raise ValueError('Reactant And Product Error II')\n",
    "\n",
    "    for a in single_bonded_prod.GetAtoms():\n",
    "        if a.GetIdx() not in MCS_atoms and a.GetSymbol() != 'Cl': #check if the atoms of the product not included in the MCS are chorine\n",
    "            #print(a.GetIdx(), a.GetSymbol())\n",
    "            raise ValueError('Reactant And Product Error III')\n",
    "\n",
    "\n",
    "    # Find chlorine in product mol\n",
    "    pat = Chem.MolFromSmarts(\"[#17]\")\n",
    "    chlorine_in_product = [atom for element in prod_mol_copy.GetSubstructMatches(pat) for atom in element] \n",
    "        \n",
    "    if len(chlorine_in_product) == prod_mol_copy.GetNumAtoms(): #check if all atoms in products are chlorine\n",
    "        #print(len(chlorine_in_product), prod_mol_copy.GetNumAtoms())\n",
    "        raise ValueError('Reactant And Product Error IV')\n",
    "\n",
    "\n",
    "    # Find chlorine in reactant mol\n",
    "    pat = Chem.MolFromSmarts(\"[#17]\")\n",
    "    chlorine_in_reactant = [atom for element in reac_mol_copy.GetSubstructMatches(pat) for atom in element]\n",
    "    \n",
    "    if len(chlorine_in_reactant) == reac_mol_copy.GetNumAtoms(): #check if all atoms in reactant are chlorine\n",
    "        #print(len(chlorine_in_reactant), reac_mol_copy.GetNumAtoms())\n",
    "        raise ValueError('Reactant And Product Error V') \n",
    "    \n",
    "    # Find reaction centers\n",
    "    if len(chlorine_in_reactant):\n",
    "        chlorine_in_reactant = [atoms[idx] for idx in chlorine_in_reactant]\n",
    "    \n",
    "\n",
    "    prod_mol_copy.UpdatePropertyCache(strict=False)\n",
    "    rdmolops.SetAromaticity(prod_mol_copy)\n",
    "    reaction_centers = []\n",
    "    for atom in prod_mol_copy.GetAtoms():\n",
    "        for atomNeighbor in atom.GetNeighbors():\n",
    "\n",
    "            if atomNeighbor.GetSymbol() == 'Cl' and atomNeighbor.GetIdx() not in chlorine_in_reactant:\n",
    "                \n",
    "                if not atom.GetIsAromatic() or atom.GetAtomicNum() != 6: #check if the chlorine is attached to an aromatic carbon atom\n",
    "                # if not atom.IsInRing() or atom.GetAtomicNum() != 6 or len(atom.GetBonds()) != 3: #check if the chlorine is attached to a cyclic SP2 hybridized carbon atom (THIS COULD ALSO BE USED IN THE FUTURE)\n",
    "                    raise ValueError('Reactant And Product Error VI')\n",
    "                else:\n",
    "                    reaction_centers.append(atom.GetIdx())\n",
    "    \n",
    "    # Make sure that the reaction centers correspond to the atomnumbering of the reactant\n",
    "    reaction_centers = reorder_labels(reac_mol, prod_mol, reaction_centers)\n",
    "\n",
    "    return reaction_centers"
   ]
  },
  {
   "cell_type": "code",
   "execution_count": 34,
   "id": "ed04abff-f6e5-4457-a33d-ed8e22385bcd",
   "metadata": {},
   "outputs": [
    {
     "name": "stderr",
     "output_type": "stream",
     "text": [
      "  3%|▎         | 529/15478 [00:09<03:30, 71.15it/s][10:39:35] Explicit valence for atom # 1 N, 5, is greater than permitted\n",
      "  7%|▋         | 1083/15478 [00:27<06:44, 35.63it/s][10:39:53] Explicit valence for atom # 1 Cl, 2, is greater than permitted\n",
      " 13%|█▎        | 2046/15478 [00:44<04:50, 46.32it/s] [10:40:10] Explicit valence for atom # 1 N, 5, is greater than permitted\n",
      " 13%|█▎        | 2076/15478 [00:45<05:24, 41.32it/s][10:40:10] Explicit valence for atom # 1 B, 4, is greater than permitted\n",
      " 22%|██▏       | 3402/15478 [01:58<08:16, 24.31it/s]  [10:41:24] Explicit valence for atom # 3 C, 5, is greater than permitted\n",
      "[10:41:24] Explicit valence for atom # 3 C, 5, is greater than permitted\n",
      "[10:41:24] SMILES Parse Error: unclosed ring for input: 'ClC1=CC=C(C=C1)[Pt]123[Cl][Pt]4([Cl]1)(C1=CC=C(Cl)C=C1)[CH]1=[CH]4CCC(=C)CCC1'\n",
      "[10:41:24] SMILES Parse Error: unclosed ring for input: 'C=C1CCC[CH]2=[CH]3CC1'\n",
      "[10:41:24] Explicit valence for atom # 3 C, 5, is greater than permitted\n",
      "[10:41:24] Explicit valence for atom # 3 C, 5, is greater than permitted\n",
      "[10:41:24] SMILES Parse Error: unclosed ring for input: 'ClC1=CC=C(C=C1)[Pt]123[Cl][Pt]4([Cl]1)(C1=CC=C(Cl)C=C1)[CH]1=[CH]4CCC(=C)CCC1'\n",
      "[10:41:24] SMILES Parse Error: unclosed ring for input: 'C=C1CCC[CH]2=[CH]3CC1'\n",
      " 22%|██▏       | 3407/15478 [01:58<07:40, 26.21it/s][10:41:24] Explicit valence for atom # 1 C, 5, is greater than permitted\n",
      "[10:41:24] Explicit valence for atom # 1 C, 5, is greater than permitted\n",
      "[10:41:24] Explicit valence for atom # 1 C, 5, is greater than permitted\n",
      "[10:41:24] Explicit valence for atom # 1 C, 5, is greater than permitted\n",
      "[10:41:24] Explicit valence for atom # 1 C, 5, is greater than permitted\n",
      "[10:41:24] Explicit valence for atom # 1 C, 5, is greater than permitted\n",
      "[10:41:24] Explicit valence for atom # 1 C, 5, is greater than permitted\n",
      "[10:41:24] Explicit valence for atom # 1 C, 5, is greater than permitted\n",
      "[10:41:24] Explicit valence for atom # 1 C, 5, is greater than permitted\n",
      "[10:41:24] Explicit valence for atom # 1 C, 5, is greater than permitted\n",
      "[10:41:24] Explicit valence for atom # 1 C, 5, is greater than permitted\n",
      "[10:41:24] Explicit valence for atom # 1 C, 5, is greater than permitted\n",
      "[10:41:24] Explicit valence for atom # 1 C, 5, is greater than permitted\n",
      "[10:41:24] Explicit valence for atom # 1 C, 5, is greater than permitted\n",
      "[10:41:24] Explicit valence for atom # 1 C, 5, is greater than permitted\n",
      " 22%|██▏       | 3440/15478 [01:59<03:40, 54.53it/s][10:41:25] Explicit valence for atom # 2 N, 4, is greater than permitted\n",
      "[10:41:25] Explicit valence for atom # 2 N, 4, is greater than permitted\n",
      "[10:41:25] Explicit valence for atom # 2 N, 4, is greater than permitted\n",
      "[10:41:25] Explicit valence for atom # 2 N, 4, is greater than permitted\n",
      "[10:41:25] Explicit valence for atom # 2 N, 4, is greater than permitted\n",
      "[10:41:25] Explicit valence for atom # 2 N, 4, is greater than permitted\n",
      "[10:41:25] Explicit valence for atom # 2 N, 4, is greater than permitted\n",
      "[10:41:25] Explicit valence for atom # 2 N, 4, is greater than permitted\n",
      " 22%|██▏       | 3448/15478 [01:59<03:27, 57.98it/s][10:41:25] SMILES Parse Error: unclosed ring for input: 'Br[Cu+]123[N]4=CC=CC=C4C4=[N]1C=CC=C4'\n",
      "[10:41:25] SMILES Parse Error: unclosed ring for input: 'C1=CC(C4=CC=CC=[N]24)=[N]3C=C1'\n",
      "[10:41:25] Explicit valence for atom # 21 N, 4, is greater than permitted\n",
      " 22%|██▏       | 3463/15478 [01:59<02:31, 79.15it/s][10:41:25] Explicit valence for atom # 3 N, 4, is greater than permitted\n",
      "[10:41:25] Explicit valence for atom # 3 N, 4, is greater than permitted\n",
      "[10:41:25] Explicit valence for atom # 3 N, 4, is greater than permitted\n",
      "[10:41:25] Explicit valence for atom # 3 N, 4, is greater than permitted\n",
      " 22%|██▏       | 3473/15478 [01:59<03:20, 59.99it/s][10:41:25] Explicit valence for atom # 8 N, 4, is greater than permitted\n",
      "[10:41:25] WARNING: not removing hydrogen atom without neighbors\n",
      "[10:41:25] WARNING: not removing hydrogen atom without neighbors\n",
      "[10:41:25] WARNING: not removing hydrogen atom without neighbors\n",
      "[10:41:25] WARNING: not removing hydrogen atom without neighbors\n",
      "[10:41:25] WARNING: not removing hydrogen atom without neighbors\n",
      "[10:41:25] WARNING: not removing hydrogen atom without neighbors\n",
      "[10:41:25] Explicit valence for atom # 4 H, 2, is greater than permitted\n",
      "[10:41:26] Explicit valence for atom # 4 N, 4, is greater than permitted\n",
      " 23%|██▎       | 3493/15478 [02:00<05:13, 38.27it/s][10:41:26] Explicit valence for atom # 0 O, 4, is greater than permitted\n",
      "[10:41:26] Explicit valence for atom # 10 Cl, 2, is greater than permitted\n",
      "[10:41:26] Explicit valence for atom # 10 Cl, 2, is greater than permitted\n",
      " 23%|██▎       | 3499/15478 [02:00<04:46, 41.75it/s][10:41:26] Explicit valence for atom # 3 O, 4, is greater than permitted\n",
      "[10:41:26] Explicit valence for atom # 16 O, 3, is greater than permitted\n",
      "[10:41:26] Explicit valence for atom # 7 O, 3, is greater than permitted\n",
      "[10:41:26] Explicit valence for atom # 7 O, 3, is greater than permitted\n",
      " 23%|██▎       | 3527/15478 [02:01<02:48, 71.11it/s][10:41:26] SMILES Parse Error: unclosed ring for input: 'CC(C)[O-][Ti+4]123([O-]C(C)C)[O-]CC4=CC=CC=[N]14'\n",
      "[10:41:26] SMILES Parse Error: unclosed ring for input: 'C([O-]2)C1=CC=CC=[N]31'\n",
      "[10:41:26] SMILES Parse Error: unclosed ring for input: 'ClC1=CC(Cl)=C([O-][Ti+4]234([O-]C5=C(Cl)C=C(Cl)C=C5Cl)[O-]CC5=CC=CC=[N]25)C(Cl)=C1'\n",
      "[10:41:26] SMILES Parse Error: unclosed ring for input: 'C([O-]3)C1=CC=CC=[N]41'\n",
      " 23%|██▎       | 3536/15478 [02:01<03:29, 56.90it/s][10:41:27] Explicit valence for atom # 3 N, 4, is greater than permitted\n",
      " 26%|██▋       | 4065/15478 [02:15<03:16, 57.96it/s] [10:41:41] Explicit valence for atom # 2 N, 4, is greater than permitted\n",
      " 28%|██▊       | 4407/15478 [02:40<07:13, 25.57it/s]  [10:42:06] Explicit valence for atom # 1 B, 4, is greater than permitted\n",
      " 30%|███       | 4669/15478 [02:44<02:24, 75.03it/s][10:42:10] Explicit valence for atom # 9 N, 5, is greater than permitted\n",
      " 34%|███▍      | 5235/15478 [02:55<02:37, 64.99it/s] [10:42:21] Explicit valence for atom # 18 O, 4, is greater than permitted\n",
      "[10:42:21] Explicit valence for atom # 19 O, 4, is greater than permitted\n",
      "[10:42:21] Explicit valence for atom # 18 O, 4, is greater than permitted\n",
      "[10:42:21] Explicit valence for atom # 19 O, 4, is greater than permitted\n",
      " 37%|███▋      | 5678/15478 [03:11<03:17, 49.64it/s] [10:42:37] Explicit valence for atom # 8 B, 4, is greater than permitted\n",
      " 37%|███▋      | 5687/15478 [03:11<02:56, 55.34it/s][10:42:37] Explicit valence for atom # 16 B, 4, is greater than permitted\n",
      "[10:42:37] Explicit valence for atom # 1 B, 4, is greater than permitted\n",
      "[10:42:37] Explicit valence for atom # 1 B, 4, is greater than permitted\n",
      "[10:42:37] Explicit valence for atom # 1 B, 4, is greater than permitted\n",
      "[10:42:37] Explicit valence for atom # 7 B, 4, is greater than permitted\n",
      "[10:42:37] Explicit valence for atom # 1 B, 4, is greater than permitted\n",
      "[10:42:37] Explicit valence for atom # 6 B, 4, is greater than permitted\n",
      "[10:42:37] Explicit valence for atom # 8 B, 4, is greater than permitted\n",
      "[10:42:37] Explicit valence for atom # 1 B, 4, is greater than permitted\n",
      "[10:42:37] Explicit valence for atom # 1 B, 4, is greater than permitted\n",
      " 37%|███▋      | 5698/15478 [03:11<02:26, 66.82it/s][10:42:37] Explicit valence for atom # 15 B, 4, is greater than permitted\n",
      "[10:42:37] Explicit valence for atom # 1 B, 4, is greater than permitted\n",
      " 38%|███▊      | 5842/15478 [03:14<02:32, 63.02it/s][10:42:40] Explicit valence for atom # 7 N, 4, is greater than permitted\n",
      "[10:42:40] Explicit valence for atom # 7 N, 4, is greater than permitted\n",
      " 42%|████▏     | 6516/15478 [10:51<05:21, 27.87it/s]   [10:50:17] Explicit valence for atom # 1 B, 4, is greater than permitted\n",
      "[10:50:17] Explicit valence for atom # 1 B, 4, is greater than permitted\n",
      "[10:50:17] Explicit valence for atom # 1 B, 4, is greater than permitted\n",
      " 44%|████▎     | 6760/15478 [10:54<02:29, 58.17it/s] [10:50:20] Explicit valence for atom # 4 N, 4, is greater than permitted\n",
      " 46%|████▋     | 7181/15478 [11:03<02:53, 47.83it/s][10:50:29] WARNING: not removing hydrogen atom without neighbors\n",
      " 49%|████▉     | 7591/15478 [11:27<02:35, 50.79it/s]  [10:50:53] Explicit valence for atom # 1 B, 4, is greater than permitted\n",
      "[10:50:53] Explicit valence for atom # 1 B, 4, is greater than permitted\n",
      " 49%|████▉     | 7626/15478 [11:28<02:22, 55.07it/s][10:50:53] Explicit valence for atom # 6 C, 5, is greater than permitted\n",
      "[10:50:53] Explicit valence for atom # 6 C, 5, is greater than permitted\n",
      " 50%|█████     | 7807/15478 [11:30<02:16, 56.30it/s][10:50:56] Explicit valence for atom # 0 O, 3, is greater than permitted\n",
      "[10:50:56] Explicit valence for atom # 5 N, 4, is greater than permitted\n",
      " 52%|█████▏    | 8007/15478 [11:35<01:59, 62.73it/s][10:51:01] Explicit valence for atom # 8 Cl, 2, is greater than permitted\n",
      "[10:51:01] Explicit valence for atom # 8 Cl, 2, is greater than permitted\n",
      "[10:51:01] Explicit valence for atom # 8 Cl, 2, is greater than permitted\n",
      "[10:51:01] Explicit valence for atom # 8 Br, 2, is greater than permitted\n",
      "[10:51:01] Explicit valence for atom # 8 Cl, 2, is greater than permitted\n",
      "[10:51:01] Explicit valence for atom # 8 Br, 2, is greater than permitted\n",
      " 53%|█████▎    | 8174/15478 [11:54<02:05, 58.34it/s]  [10:51:20] Explicit valence for atom # 6 C, 5, is greater than permitted\n",
      "[10:51:20] Explicit valence for atom # 6 C, 5, is greater than permitted\n",
      " 55%|█████▍    | 8449/15478 [11:59<01:37, 72.02it/s][10:51:24] Explicit valence for atom # 1 B, 4, is greater than permitted\n",
      "[10:51:24] Explicit valence for atom # 1 B, 4, is greater than permitted\n",
      " 60%|█████▉    | 9285/15478 [12:12<01:25, 72.63it/s] [10:51:38] Explicit valence for atom # 5 N, 4, is greater than permitted\n",
      " 69%|██████▉   | 10739/15478 [13:21<01:16, 61.82it/s] [10:52:47] Explicit valence for atom # 5 C, 5, is greater than permitted\n",
      "[10:52:47] Explicit valence for atom # 5 C, 5, is greater than permitted\n",
      "[10:52:47] Explicit valence for atom # 7 N, 4, is greater than permitted\n",
      " 70%|███████   | 10851/15478 [13:22<00:56, 82.01it/s][10:52:48] WARNING: not removing hydrogen atom without neighbors\n",
      " 71%|███████▏  | 11035/15478 [13:25<01:46, 41.55it/s][10:52:51] WARNING: not removing hydrogen atom without neighbors\n",
      "[10:52:51] Explicit valence for atom # 1 B, 4, is greater than permitted\n",
      " 74%|███████▎  | 11402/15478 [13:30<00:44, 91.11it/s][10:52:56] Explicit valence for atom # 3 N, 5, is greater than permitted\n",
      "[10:52:56] Explicit valence for atom # 1 B, 4, is greater than permitted\n",
      " 76%|███████▌  | 11711/15478 [13:35<00:56, 66.60it/s][10:53:01] Explicit valence for atom # 1 B, 4, is greater than permitted\n",
      " 77%|███████▋  | 11846/15478 [13:37<00:44, 82.29it/s][10:53:03] Explicit valence for atom # 1 B, 4, is greater than permitted\n",
      "[10:53:03] Explicit valence for atom # 1 B, 4, is greater than permitted\n",
      " 78%|███████▊  | 12026/15478 [13:40<00:53, 64.51it/s] [10:53:05] Explicit valence for atom # 1 B, 4, is greater than permitted\n",
      " 79%|███████▉  | 12190/15478 [13:42<00:41, 79.26it/s][10:53:07] Explicit valence for atom # 6 B, 4, is greater than permitted\n",
      "[10:53:07] Explicit valence for atom # 6 B, 4, is greater than permitted\n",
      " 81%|████████  | 12510/15478 [13:46<00:44, 67.01it/s] [10:53:11] Explicit valence for atom # 10 N, 4, is greater than permitted\n",
      " 83%|████████▎ | 12812/15478 [13:51<00:31, 85.75it/s][10:53:17] Explicit valence for atom # 6 C, 5, is greater than permitted\n",
      "[10:53:17] Explicit valence for atom # 10 C, 5, is greater than permitted\n",
      "[10:53:17] Explicit valence for atom # 10 C, 5, is greater than permitted\n",
      " 83%|████████▎ | 12824/15478 [13:51<00:29, 90.34it/s][10:53:17] Explicit valence for atom # 6 N, 4, is greater than permitted\n",
      "[10:53:17] Explicit valence for atom # 6 N, 4, is greater than permitted\n",
      "[10:53:17] Explicit valence for atom # 5 N, 4, is greater than permitted\n",
      "[10:53:17] Explicit valence for atom # 5 N, 4, is greater than permitted\n",
      " 83%|████████▎ | 12901/15478 [13:53<01:23, 30.77it/s][10:53:19] Explicit valence for atom # 6 N, 4, is greater than permitted\n",
      "[10:53:19] Explicit valence for atom # 6 N, 4, is greater than permitted\n",
      " 88%|████████▊ | 13558/15478 [14:02<00:19, 99.77it/s] [10:53:27] Explicit valence for atom # 13 N, 4, is greater than permitted\n",
      " 90%|████████▉ | 13909/15478 [14:36<00:49, 31.75it/s] [10:54:02] Explicit valence for atom # 13 O, 4, is greater than permitted\n",
      " 90%|████████▉ | 13918/15478 [14:36<00:41, 37.32it/s][10:54:02] Explicit valence for atom # 1 B, 4, is greater than permitted\n",
      " 92%|█████████▏| 14221/15478 [18:29<03:43,  5.63it/s]  [10:57:54] Explicit valence for atom # 1 B, 4, is greater than permitted\n",
      " 98%|█████████▊| 15165/15478 [19:00<00:07, 43.63it/s] [10:58:26] Explicit valence for atom # 1 B, 4, is greater than permitted\n",
      "100%|██████████| 15478/15478 [19:05<00:00, 13.51it/s] \n"
     ]
    },
    {
     "name": "stdout",
     "output_type": "stream",
     "text": [
      "CPU times: user 17min 6s, sys: 25 s, total: 17min 31s\n",
      "Wall time: 19min 5s\n"
     ]
    }
   ],
   "source": [
    "%%time\n",
    "reactants_dataset2 = []\n",
    "reaction_centers_dataset2 = []\n",
    "reaction_id2 = []\n",
    "\n",
    "for k, reaction in tqdm(df.groupby(['Reaction ID'])):\n",
    "    reactants = []\n",
    "    reaction_centers = []\n",
    "    for idx, exp_obs in reaction.iterrows():\n",
    "        rxn_smiles = exp_obs['Reaction']\n",
    "        if rxn_smiles is np.nan:\n",
    "           continue\n",
    "\n",
    "        rxn_reactants = rxn_smiles.split('>>')[0].split('.')\n",
    "        rxn_products = rxn_smiles.split('>>')[1].split('.')\n",
    "\n",
    "        reac_mols, reac_smiles = get_unique_reps2(rxn_reactants)\n",
    "        prod_mols, prod_smiles = get_unique_reps2(rxn_products)\n",
    "\n",
    "        for reac_mol, reac_smi in zip(reac_mols, reac_smiles):\n",
    "            reaction_okay = False\n",
    "            for prod_mol, prod_smi in zip(prod_mols, prod_smiles):\n",
    "                \n",
    "                if reac_smi == prod_smi:\n",
    "                    continue\n",
    "                \n",
    "                try:\n",
    "                    rc = get_site_selectivity(reac_mol, prod_mol)\n",
    "                except:\n",
    "                    continue\n",
    "                \n",
    "                reaction_centers.extend(rc)\n",
    "                reaction_okay = True\n",
    "                \n",
    "            if reaction_okay and reac_smi not in reactants:\n",
    "                reactants.append(reac_smi)\n",
    "        reaction_centers = np.unique(reaction_centers).tolist()\n",
    "\n",
    "    if len(reactants) == 1 and len(reaction_centers):\n",
    "        reactants_dataset2.append(reactants)\n",
    "        reaction_centers_dataset2.append(reaction_centers)\n",
    "        reaction_id2.append(k)"
   ]
  },
  {
   "cell_type": "code",
   "execution_count": 35,
   "id": "05f10a8c-7019-4b80-8b3d-990d5de3bf8f",
   "metadata": {},
   "outputs": [
    {
     "data": {
      "text/plain": [
       "0        False\n",
       "1        False\n",
       "2        False\n",
       "3        False\n",
       "4        False\n",
       "         ...  \n",
       "27729    False\n",
       "27730     True\n",
       "27731     True\n",
       "27732    False\n",
       "27733    False\n",
       "Name: Reaction ID, Length: 27734, dtype: bool"
      ]
     },
     "execution_count": 35,
     "metadata": {},
     "output_type": "execute_result"
    }
   ],
   "source": [
    "df['Reaction ID'].isin(reaction_id2)"
   ]
  },
  {
   "cell_type": "code",
   "execution_count": 36,
   "id": "8381ce04-2573-4724-90bf-bb7583c66580",
   "metadata": {},
   "outputs": [
    {
     "name": "stderr",
     "output_type": "stream",
     "text": [
      "/var/folders/jp/w62zl0z932s8hz_k3b5m5wk80000gn/T/ipykernel_79995/656130862.py:2: SettingWithCopyWarning: \n",
      "A value is trying to be set on a copy of a slice from a DataFrame\n",
      "\n",
      "See the caveats in the documentation: https://pandas.pydata.org/pandas-docs/stable/user_guide/indexing.html#returning-a-view-versus-a-copy\n",
      "  new_df.sort_values(by=\"Yield\", ascending=False, inplace=True, key=lambda x: natsorted(new_df[\"Yield\"]))\n"
     ]
    },
    {
     "data": {
      "text/plain": [
       "(5504, 41)"
      ]
     },
     "execution_count": 36,
     "metadata": {},
     "output_type": "execute_result"
    }
   ],
   "source": [
    "new_df = df[df['Reaction ID'].isin(reaction_id2)]\n",
    "new_df.sort_values(by=\"Yield\", ascending=False, inplace=True, key=lambda x: natsorted(new_df[\"Yield\"]))\n",
    "new_df = new_df.groupby(['Reaction ID']).head(1)\n",
    "new_df.reset_index(drop=True, inplace=True)\n",
    "new_df.shape"
   ]
  },
  {
   "cell_type": "code",
   "execution_count": 37,
   "id": "f1841dcf-c568-42f9-90de-323218ddb04d",
   "metadata": {},
   "outputs": [
    {
     "name": "stderr",
     "output_type": "stream",
     "text": [
      "/var/folders/jp/w62zl0z932s8hz_k3b5m5wk80000gn/T/ipykernel_79995/2616834694.py:1: SettingWithCopyWarning: \n",
      "A value is trying to be set on a copy of a slice from a DataFrame.\n",
      "Try using .loc[row_indexer,col_indexer] = value instead\n",
      "\n",
      "See the caveats in the documentation: https://pandas.pydata.org/pandas-docs/stable/user_guide/indexing.html#returning-a-view-versus-a-copy\n",
      "  new_df['Reactant Smiles'] = None\n",
      "/var/folders/jp/w62zl0z932s8hz_k3b5m5wk80000gn/T/ipykernel_79995/2616834694.py:2: SettingWithCopyWarning: \n",
      "A value is trying to be set on a copy of a slice from a DataFrame.\n",
      "Try using .loc[row_indexer,col_indexer] = value instead\n",
      "\n",
      "See the caveats in the documentation: https://pandas.pydata.org/pandas-docs/stable/user_guide/indexing.html#returning-a-view-versus-a-copy\n",
      "  new_df['Reaction Centers'] = None\n"
     ]
    },
    {
     "data": {
      "text/plain": [
       "(5504, 43)"
      ]
     },
     "execution_count": 37,
     "metadata": {},
     "output_type": "execute_result"
    }
   ],
   "source": [
    "new_df['Reactant Smiles'] = None\n",
    "new_df['Reaction Centers'] = None\n",
    "for index, row in new_df.iterrows():\n",
    "    new_df.at[index, 'Reactant Smiles'] = reactants_dataset2[reaction_id2.index(row['Reaction ID'])][0]\n",
    "    new_df.at[index, 'Reaction Centers'] = reaction_centers_dataset2[reaction_id2.index(row['Reaction ID'])]\n",
    "new_df.shape"
   ]
  },
  {
   "cell_type": "code",
   "execution_count": 38,
   "id": "a3352a33-3766-4868-9844-4e8440f48b51",
   "metadata": {},
   "outputs": [
    {
     "name": "stdout",
     "output_type": "stream",
     "text": [
      "Unique reactions in DataFrame: 15478\n",
      "Compounds left: 5504 5504\n",
      "Unique reactants: 4854\n"
     ]
    }
   ],
   "source": [
    "print(f'Unique reactions in DataFrame: {len(set(list(df[\"Reaction ID\"])))}')\n",
    "print('Compounds left:', len(reactants_dataset2), len(reaction_centers_dataset2))\n",
    "print('Unique reactants:', len(set(reduce(operator.concat, reactants_dataset2))))"
   ]
  },
  {
   "cell_type": "code",
   "execution_count": 39,
   "id": "011a6f68-5bfa-404c-9850-a0bdd57a4238",
   "metadata": {},
   "outputs": [
    {
     "name": "stdout",
     "output_type": "stream",
     "text": [
      "/Users/hmm/PhD/JupyterNotebooks\n"
     ]
    }
   ],
   "source": [
    "!pwd"
   ]
  },
  {
   "cell_type": "code",
   "execution_count": 41,
   "id": "884a12d5-03d2-4e42-8b91-fccdf764fd97",
   "metadata": {},
   "outputs": [
    {
     "name": "stdout",
     "output_type": "stream",
     "text": [
      "/Users/hmm/PhD/Reaxys_Datasets/2022-05-06\n"
     ]
    },
    {
     "name": "stderr",
     "output_type": "stream",
     "text": [
      "  3%|▎         | 139/4854 [00:01<00:22, 212.28it/s]"
     ]
    },
    {
     "name": "stdout",
     "output_type": "stream",
     "text": [
      "39349381 C=CCOC1=CC(=O)CCC1 [8] [5]\n",
      "39349380 C=CCOC1=CC(=O)CCC1 [10] [5]\n"
     ]
    },
    {
     "name": "stderr",
     "output_type": "stream",
     "text": [
      "  7%|▋         | 320/4854 [00:01<00:18, 251.70it/s]"
     ]
    },
    {
     "name": "stdout",
     "output_type": "stream",
     "text": [
      "39349363 CC(C)(C)C(=O)OC1=CC(=O)CCC1 [11] [8]\n"
     ]
    },
    {
     "name": "stderr",
     "output_type": "stream",
     "text": [
      "  9%|▉         | 457/4854 [00:02<00:16, 260.50it/s]"
     ]
    },
    {
     "name": "stdout",
     "output_type": "stream",
     "text": [
      "39349397 CC(C)(C)OC(=O)OC1=CC(=O)CCC1 [14] [9]\n",
      "39349398 CC(C)(C)OC(=O)OC1=CC(=O)CCC1 [12] [9]\n",
      "39349362 CC(C)(C)OC1=CC(=O)CCC1 [9] [6]\n"
     ]
    },
    {
     "name": "stderr",
     "output_type": "stream",
     "text": [
      " 11%|█▏        | 556/4854 [00:02<00:14, 300.74it/s]"
     ]
    },
    {
     "name": "stdout",
     "output_type": "stream",
     "text": [
      "50882863 CC(C)(C)n1ccn(C(C)(C)C)[cH+]1 [12] [5, 6]\n",
      "44704249 CC(C)=CCCC(C)=CCCC(C)=CCC1=C(OC(=O)OC(C)(C)C)CC(C)CC1=O [28] []\n",
      "53963158 CC(C)=CCOC1=CC(=O)CC(c2ccccc2)C1 [10] [7, 13, 14, 15, 16, 17]\n"
     ]
    },
    {
     "name": "stderr",
     "output_type": "stream",
     "text": [
      " 14%|█▍        | 685/4854 [00:03<00:13, 306.02it/s]"
     ]
    },
    {
     "name": "stdout",
     "output_type": "stream",
     "text": [
      "47062678 CC(C)c1cccc(C(C)C)c1N1C=C(C(=O)c2ccccc2)N(c2c(C(C)C)cccc2C(C)C)C1 [36] [4, 5, 6, 13, 18, 19, 20, 21, 22, 29, 30, 31]\n",
      "2029549 CC1=C(C)CC(C)=C(C)C1 [4, 9] []\n",
      "55281492 CC1=C(C)N(C)[CH-]N1C [6] []\n",
      "29153271 CC1=C(C)N(CC(C)(C)C)CN1CC(C)(C)C [10] []\n",
      "56488404 CC1=C(C)N(c2c(C)cc(C)cc2C)CN1c1c(C)cc(C)cc1C [14] [8, 11, 19, 22]\n"
     ]
    },
    {
     "name": "stderr",
     "output_type": "stream",
     "text": [
      " 17%|█▋        | 814/4854 [00:03<00:12, 317.26it/s]"
     ]
    },
    {
     "name": "stdout",
     "output_type": "stream",
     "text": [
      "2832849 CCCC1CC(O)=CC(O)=C1C(=O)OCC [4, 7] [7]\n",
      "42347035 CCCCCCOC1=C(C#N)CSC1 [13] []\n"
     ]
    },
    {
     "name": "stderr",
     "output_type": "stream",
     "text": [
      " 21%|██        | 1022/4854 [00:04<00:11, 343.93it/s]"
     ]
    },
    {
     "name": "stdout",
     "output_type": "stream",
     "text": [
      "43381321 CCOC(=O)C1CC(Br)=NN1c1ncccc1Cl [6] [13, 14, 15]\n"
     ]
    },
    {
     "name": "stderr",
     "output_type": "stream",
     "text": [
      " 26%|██▌       | 1274/4854 [00:04<00:10, 331.31it/s]"
     ]
    },
    {
     "name": "stdout",
     "output_type": "stream",
     "text": [
      "39349414 CCOC1=C(C)C(=O)CCC1 [8] []\n",
      "39349413 CCOC1=C(C)C(=O)CCC1 [10] []\n",
      "39349412 CCOC1=CC(=O)C(C)CC1 [10] [4]\n",
      "39349407 CCOC1=CC(=O)CC(c2ccccc2)C1 [15] [4, 10, 11, 12, 13, 14]\n",
      "42662360 CCOC1=CC(=O)CCC1 [7] [4]\n",
      "42662361 CCOC1=CC(=O)CCC1 [7] [4]\n",
      "42662359 CCOC1=CC(=O)CCC1 [7] [4]\n",
      "39349374 CCOC1=CC(=O)CCC1 [9] [4]\n"
     ]
    },
    {
     "name": "stderr",
     "output_type": "stream",
     "text": [
      " 39%|███▉      | 1905/4854 [00:06<00:09, 305.88it/s]"
     ]
    },
    {
     "name": "stdout",
     "output_type": "stream",
     "text": [
      "39349358 COC1=CC(=O)CCC1 [6] [3]\n",
      "55698244 COC1CC=CN=C1C [3] [4, 5]\n"
     ]
    },
    {
     "name": "stderr",
     "output_type": "stream",
     "text": [
      " 57%|█████▋    | 2775/4854 [00:09<00:06, 321.09it/s]"
     ]
    },
    {
     "name": "stdout",
     "output_type": "stream",
     "text": [
      "46642675 Cc1cc(C)c(N2C=CN(c3c(C)cc(C)cc3C)C2)c(C)c1 [19] [2, 7, 8, 13, 16, 22]\n",
      "5047910 Cc1cc(C)c(N2CN(c3c(C)cc(C)cc3C)C(Cl)=C2Cl)c(C)c1 [7] [2, 12, 15, 24]\n"
     ]
    },
    {
     "name": "stderr",
     "output_type": "stream",
     "text": [
      " 59%|█████▉    | 2873/4854 [00:09<00:06, 300.83it/s]"
     ]
    },
    {
     "name": "stdout",
     "output_type": "stream",
     "text": [
      "24593717 Cc1cc2c(n1CC(C)C)CNN=C2 [10] [2, 13]\n"
     ]
    },
    {
     "name": "stderr",
     "output_type": "stream",
     "text": [
      " 77%|███████▋  | 3732/4854 [00:12<00:03, 301.94it/s]"
     ]
    },
    {
     "name": "stdout",
     "output_type": "stream",
     "text": [
      "2216302 Ic1cccc2c1NCC2 [9] [2, 3, 4]\n"
     ]
    },
    {
     "name": "stderr",
     "output_type": "stream",
     "text": [
      " 87%|████████▋ | 4247/4854 [00:14<00:02, 260.14it/s]"
     ]
    },
    {
     "name": "stdout",
     "output_type": "stream",
     "text": [
      "39349357 O=C1C=C(N2CCCC2)CCC1 [9] [2]\n",
      "39349383 O=C1C=C(OCc2ccccc2)CCC1 [12] [2, 7, 8, 9, 10, 11]\n",
      "39349392 O=C1C=C(Oc2ccccc2)CCC1 [11] [2, 6, 7, 8, 9, 10]\n",
      "39349355 O=C1C=C(Sc2ccccc2)CCC1 [13] [2, 6, 7, 8, 9, 10]\n",
      "53678217 O=C1CCCCN1 [2] []\n",
      "51616666 O=CC1Cc2ccccc2S1 [3] [5, 6, 7, 8]\n"
     ]
    },
    {
     "name": "stderr",
     "output_type": "stream",
     "text": [
      "100%|██████████| 4854/4854 [00:17<00:00, 281.09it/s]"
     ]
    },
    {
     "name": "stdout",
     "output_type": "stream",
     "text": [
      "/Users/hmm/PhD/JupyterNotebooks\n"
     ]
    },
    {
     "name": "stderr",
     "output_type": "stream",
     "text": [
      "\n"
     ]
    }
   ],
   "source": [
    "# Write data set to file - with some cleaning for reactant and product EAS sites locations\n",
    "\n",
    "%cd {local_data}\n",
    "\n",
    "f = open('./reaxys_chlorination_dataset2.txt','w')\n",
    "g = open('./reaxys_chlorination_conflicts.txt', \"w\")\n",
    "\n",
    "for index, reaction in tqdm(new_df.groupby(['Reactant Smiles'])): \n",
    "    if len(reaction) > 1:\n",
    "        reaction_id = []\n",
    "        reaction_smiles = []\n",
    "        reaction_centers = []\n",
    "        for reac_id, reac_smi, rc in zip(reaction['Reaction ID'], reaction['Reactant Smiles'], reaction['Reaction Centers']):\n",
    "            write_okay = True\n",
    "            measured_atoms = rc\n",
    "            measured_atoms = find_identical_atoms(reac_smi, measured_atoms)\n",
    "            rdkit_mol = Chem.MolFromSmiles(reac_smi)\n",
    "            eas_sites = sorted(locate_sites(rdkit_mol))\n",
    "            for matom in measured_atoms:\n",
    "                if matom not in eas_sites:\n",
    "                    print(reac_id, reac_smi, measured_atoms, eas_sites) # reaction does not obey the reaction rules\n",
    "                    write_okay = False\n",
    "                    # raise ValueError('Measured site not in located EAS sites')\n",
    "                    break\n",
    "            if not write_okay:\n",
    "                continue\n",
    "            reaction_id.append(str(reac_id))\n",
    "            reaction_smiles.append(reac_smi)\n",
    "            reaction_centers.extend(rc)\n",
    "        \n",
    "        if len(reaction_smiles):\n",
    "            write_okay = True\n",
    "            reaction_id = '_'.join(reaction_id)\n",
    "            reaction_smiles = reaction_smiles[0]\n",
    "            reaction_centers = ','.join(map(str, np.unique(reaction_centers)))\n",
    "    else:\n",
    "        reaction_id = reaction['Reaction ID'].values[0]\n",
    "        reaction_smiles = reaction['Reactant Smiles'].values[0]\n",
    "        reaction_centers = reaction['Reaction Centers'].values[0]\n",
    "\n",
    "        write_okay = True\n",
    "        measured_atoms = reaction_centers\n",
    "        measured_atoms = find_identical_atoms(reaction_smiles, measured_atoms)\n",
    "        rdkit_mol = Chem.MolFromSmiles(reaction_smiles)\n",
    "        eas_sites = sorted(locate_sites(rdkit_mol))\n",
    "        for matom in measured_atoms:\n",
    "            if matom not in eas_sites:\n",
    "                print(reaction_id, reaction_smiles, measured_atoms, eas_sites) # reaction does not obey the reaction rules\n",
    "                write_okay = False\n",
    "                # raise ValueError('Measured site not in located EAS sites')\n",
    "                break\n",
    "\n",
    "        reaction_centers = ','.join(map(str, np.unique(reaction_centers)))\n",
    "    \n",
    "    if write_okay:\n",
    "        f.write(f\"{reaction_id}    {reaction_smiles}    {reaction_centers}\\n\")\n",
    "    else:\n",
    "        g.write(f\"{reaction_id}    {reaction_smiles}    {measured_atoms}    {eas_sites}\\n\")\n",
    "f.close()\n",
    "%cd {work_dir}"
   ]
  },
  {
   "cell_type": "code",
   "execution_count": 28,
   "id": "e1c8ed7b-b764-4299-b70e-bf1e2bd72cbc",
   "metadata": {},
   "outputs": [],
   "source": [
    "def read_input(smiles_filename, exam=True):\n",
    "\n",
    "    f = open(smiles_filename, \"r\")\n",
    "\n",
    "    names_list = []\n",
    "    input_smiles_list = []\n",
    "    atom_measured_list = []\n",
    "    for line in f:\n",
    "        words = line.split()\n",
    "        names_list.append(words[0])\n",
    "        input_smiles_list.append(words[1])\n",
    "\n",
    "        if exam:\n",
    "            atom_measured = [int(x) for x in words[2].split(\",\")]\n",
    "            atom_measured = find_identical_atoms(words[1], atom_measured)\n",
    "            atom_measured_list.append(atom_measured)\n",
    "        else:\n",
    "            atom_measured_list.append(None)\n",
    "    f.close()\n",
    "\n",
    "    return names_list, input_smiles_list, atom_measured_list"
   ]
  },
  {
   "cell_type": "code",
   "execution_count": 29,
   "id": "e462a145-d339-4f8c-9705-37c532002440",
   "metadata": {},
   "outputs": [
    {
     "name": "stdout",
     "output_type": "stream",
     "text": [
      "/Users/hmm/PhD/Reaxys_Datasets/2022-05-06\n",
      "/Users/hmm/PhD/JupyterNotebooks\n"
     ]
    }
   ],
   "source": [
    "%cd {local_data}\n",
    "names_list, input_smiles_list, atom_measured_list = read_input('reaxys_chlorination_dataset2.txt')\n",
    "%cd {work_dir}"
   ]
  },
  {
   "cell_type": "code",
   "execution_count": 30,
   "id": "ee4a5e3f-9ab5-4e30-bd6b-25c6b79a05e3",
   "metadata": {},
   "outputs": [
    {
     "data": {
      "text/plain": [
       "4824"
      ]
     },
     "execution_count": 30,
     "metadata": {},
     "output_type": "execute_result"
    }
   ],
   "source": [
    "len(names_list)"
   ]
  },
  {
   "cell_type": "markdown",
   "id": "ff9e97e9-f717-43ca-b13e-49cc06f8b3d9",
   "metadata": {},
   "source": [
    "# Looking for conflicting reactions\n",
    "\n",
    "Definition: a conflicting reaction pair have the same starting material but give different chlorination products. \n",
    "\n",
    "An encountered issue observed are reactions that have entries with multiple reaction sites and others that have a subset of those. This might arise form shorter reaction times, or lesser equivalents of chlorination agents."
   ]
  },
  {
   "cell_type": "code",
   "execution_count": 31,
   "id": "26aab9b9-c513-4c47-a2e7-50d4b96d9523",
   "metadata": {},
   "outputs": [
    {
     "data": {
      "text/html": [
       "<div>\n",
       "<style scoped>\n",
       "    .dataframe tbody tr th:only-of-type {\n",
       "        vertical-align: middle;\n",
       "    }\n",
       "\n",
       "    .dataframe tbody tr th {\n",
       "        vertical-align: top;\n",
       "    }\n",
       "\n",
       "    .dataframe thead th {\n",
       "        text-align: right;\n",
       "    }\n",
       "</style>\n",
       "<table border=\"1\" class=\"dataframe\">\n",
       "  <thead>\n",
       "    <tr style=\"text-align: right;\">\n",
       "      <th></th>\n",
       "      <th>ID</th>\n",
       "      <th>Reactant</th>\n",
       "      <th>Rxt_Site</th>\n",
       "      <th>Conflict</th>\n",
       "    </tr>\n",
       "  </thead>\n",
       "  <tbody>\n",
       "  </tbody>\n",
       "</table>\n",
       "</div>"
      ],
      "text/plain": [
       "Empty DataFrame\n",
       "Columns: [ID, Reactant, Rxt_Site, Conflict]\n",
       "Index: []"
      ]
     },
     "execution_count": 31,
     "metadata": {},
     "output_type": "execute_result"
    }
   ],
   "source": [
    "reactants_dataset2 = []\n",
    "reaction_centers_dataset2 = []\n",
    "reaction_id2 = []\n",
    "conflicting = []\n",
    "total_df = pd.DataFrame(columns = (\"ID\", \"Reactant\", \"Rxt_Site\", \"Conflict\"))\n",
    "total_df"
   ]
  },
  {
   "cell_type": "code",
   "execution_count": 32,
   "id": "773cef9d-1978-4740-8fc8-47ff9da0d733",
   "metadata": {},
   "outputs": [
    {
     "name": "stderr",
     "output_type": "stream",
     "text": [
      "  3%|▎         | 530/15478 [00:09<03:23, 73.49it/s][15:28:17] Explicit valence for atom # 1 N, 5, is greater than permitted\n",
      "  7%|▋         | 1082/15478 [00:28<08:39, 27.73it/s][15:28:36] Explicit valence for atom # 1 Cl, 2, is greater than permitted\n",
      " 13%|█▎        | 2045/15478 [00:48<04:00, 55.77it/s] [15:28:57] Explicit valence for atom # 1 N, 5, is greater than permitted\n",
      " 13%|█▎        | 2079/15478 [00:49<04:50, 46.20it/s][15:28:58] Explicit valence for atom # 1 B, 4, is greater than permitted\n",
      " 22%|██▏       | 3404/15478 [02:01<10:35, 18.99it/s]  [15:30:09] Explicit valence for atom # 3 C, 5, is greater than permitted\n",
      "[15:30:09] Explicit valence for atom # 3 C, 5, is greater than permitted\n",
      "[15:30:09] SMILES Parse Error: unclosed ring for input: 'ClC1=CC=C(C=C1)[Pt]123[Cl][Pt]4([Cl]1)(C1=CC=C(Cl)C=C1)[CH]1=[CH]4CCC(=C)CCC1'\n",
      "[15:30:09] SMILES Parse Error: unclosed ring for input: 'C=C1CCC[CH]2=[CH]3CC1'\n",
      "[15:30:09] Explicit valence for atom # 3 C, 5, is greater than permitted\n",
      "[15:30:09] Explicit valence for atom # 3 C, 5, is greater than permitted\n",
      "[15:30:09] SMILES Parse Error: unclosed ring for input: 'ClC1=CC=C(C=C1)[Pt]123[Cl][Pt]4([Cl]1)(C1=CC=C(Cl)C=C1)[CH]1=[CH]4CCC(=C)CCC1'\n",
      "[15:30:09] SMILES Parse Error: unclosed ring for input: 'C=C1CCC[CH]2=[CH]3CC1'\n",
      "[15:30:09] Explicit valence for atom # 1 C, 5, is greater than permitted\n",
      "[15:30:09] Explicit valence for atom # 1 C, 5, is greater than permitted\n",
      "[15:30:09] Explicit valence for atom # 1 C, 5, is greater than permitted\n",
      "[15:30:09] Explicit valence for atom # 1 C, 5, is greater than permitted\n",
      "[15:30:09] Explicit valence for atom # 1 C, 5, is greater than permitted\n",
      "[15:30:09] Explicit valence for atom # 1 C, 5, is greater than permitted\n",
      "[15:30:09] Explicit valence for atom # 1 C, 5, is greater than permitted\n",
      "[15:30:10] Explicit valence for atom # 1 C, 5, is greater than permitted\n",
      "[15:30:10] Explicit valence for atom # 1 C, 5, is greater than permitted\n",
      "[15:30:10] Explicit valence for atom # 1 C, 5, is greater than permitted\n",
      "[15:30:10] Explicit valence for atom # 1 C, 5, is greater than permitted\n",
      "[15:30:10] Explicit valence for atom # 1 C, 5, is greater than permitted\n",
      "[15:30:10] Explicit valence for atom # 1 C, 5, is greater than permitted\n",
      "[15:30:10] Explicit valence for atom # 1 C, 5, is greater than permitted\n",
      "[15:30:10] Explicit valence for atom # 1 C, 5, is greater than permitted\n",
      " 22%|██▏       | 3441/15478 [02:02<04:04, 49.32it/s][15:30:10] Explicit valence for atom # 2 N, 4, is greater than permitted\n",
      "[15:30:10] Explicit valence for atom # 2 N, 4, is greater than permitted\n",
      "[15:30:10] Explicit valence for atom # 2 N, 4, is greater than permitted\n",
      "[15:30:10] Explicit valence for atom # 2 N, 4, is greater than permitted\n",
      "[15:30:10] Explicit valence for atom # 2 N, 4, is greater than permitted\n",
      "[15:30:10] Explicit valence for atom # 2 N, 4, is greater than permitted\n",
      "[15:30:10] Explicit valence for atom # 2 N, 4, is greater than permitted\n",
      "[15:30:10] Explicit valence for atom # 2 N, 4, is greater than permitted\n",
      " 22%|██▏       | 3448/15478 [02:02<03:55, 51.16it/s][15:30:10] SMILES Parse Error: unclosed ring for input: 'Br[Cu+]123[N]4=CC=CC=C4C4=[N]1C=CC=C4'\n",
      "[15:30:10] SMILES Parse Error: unclosed ring for input: 'C1=CC(C4=CC=CC=[N]24)=[N]3C=C1'\n",
      "[15:30:10] Explicit valence for atom # 21 N, 4, is greater than permitted\n",
      " 22%|██▏       | 3471/15478 [02:02<03:26, 58.24it/s][15:30:10] Explicit valence for atom # 3 N, 4, is greater than permitted\n",
      "[15:30:10] Explicit valence for atom # 3 N, 4, is greater than permitted\n",
      "[15:30:10] Explicit valence for atom # 3 N, 4, is greater than permitted\n",
      "[15:30:10] Explicit valence for atom # 3 N, 4, is greater than permitted\n",
      "[15:30:11] Explicit valence for atom # 8 N, 4, is greater than permitted\n",
      "[15:30:11] WARNING: not removing hydrogen atom without neighbors\n",
      "[15:30:11] WARNING: not removing hydrogen atom without neighbors\n",
      "[15:30:11] WARNING: not removing hydrogen atom without neighbors\n",
      "[15:30:11] WARNING: not removing hydrogen atom without neighbors\n",
      "[15:30:11] WARNING: not removing hydrogen atom without neighbors\n",
      "[15:30:11] WARNING: not removing hydrogen atom without neighbors\n",
      "[15:30:11] Explicit valence for atom # 4 H, 2, is greater than permitted\n",
      " 22%|██▏       | 3479/15478 [02:03<06:20, 31.52it/s][15:30:11] Explicit valence for atom # 4 N, 4, is greater than permitted\n",
      " 23%|██▎       | 3491/15478 [02:03<05:27, 36.55it/s][15:30:11] Explicit valence for atom # 0 O, 4, is greater than permitted\n",
      " 23%|██▎       | 3497/15478 [02:03<05:12, 38.33it/s][15:30:11] Explicit valence for atom # 10 Cl, 2, is greater than permitted\n",
      "[15:30:11] Explicit valence for atom # 10 Cl, 2, is greater than permitted\n",
      "[15:30:11] Explicit valence for atom # 3 O, 4, is greater than permitted\n",
      "[15:30:11] Explicit valence for atom # 16 O, 3, is greater than permitted\n",
      "[15:30:11] Explicit valence for atom # 7 O, 3, is greater than permitted\n",
      "[15:30:11] Explicit valence for atom # 7 O, 3, is greater than permitted\n",
      " 23%|██▎       | 3522/15478 [02:03<03:28, 57.43it/s][15:30:12] SMILES Parse Error: unclosed ring for input: 'CC(C)[O-][Ti+4]123([O-]C(C)C)[O-]CC4=CC=CC=[N]14'\n",
      "[15:30:12] SMILES Parse Error: unclosed ring for input: 'C([O-]2)C1=CC=CC=[N]31'\n",
      "[15:30:12] SMILES Parse Error: unclosed ring for input: 'ClC1=CC(Cl)=C([O-][Ti+4]234([O-]C5=C(Cl)C=C(Cl)C=C5Cl)[O-]CC5=CC=CC=[N]25)C(Cl)=C1'\n",
      "[15:30:12] SMILES Parse Error: unclosed ring for input: 'C([O-]3)C1=CC=CC=[N]41'\n",
      " 23%|██▎       | 3539/15478 [02:04<03:44, 53.14it/s][15:30:12] Explicit valence for atom # 3 N, 4, is greater than permitted\n",
      " 26%|██▋       | 4065/15478 [02:18<03:30, 54.31it/s][15:30:26] Explicit valence for atom # 2 N, 4, is greater than permitted\n",
      " 28%|██▊       | 4406/15478 [02:43<07:21, 25.06it/s]  [15:30:52] Explicit valence for atom # 1 B, 4, is greater than permitted\n",
      " 30%|███       | 4671/15478 [02:48<02:55, 61.47it/s][15:30:57] Explicit valence for atom # 9 N, 5, is greater than permitted\n",
      " 34%|███▍      | 5229/15478 [03:02<03:22, 50.67it/s] [15:31:11] Explicit valence for atom # 18 O, 4, is greater than permitted\n",
      "[15:31:11] Explicit valence for atom # 19 O, 4, is greater than permitted\n",
      "[15:31:11] Explicit valence for atom # 18 O, 4, is greater than permitted\n",
      "[15:31:11] Explicit valence for atom # 19 O, 4, is greater than permitted\n",
      " 37%|███▋      | 5683/15478 [03:15<02:39, 61.45it/s] [15:31:23] Explicit valence for atom # 8 B, 4, is greater than permitted\n",
      "[15:31:23] Explicit valence for atom # 16 B, 4, is greater than permitted\n",
      "[15:31:23] Explicit valence for atom # 1 B, 4, is greater than permitted\n",
      "[15:31:23] Explicit valence for atom # 1 B, 4, is greater than permitted\n",
      "[15:31:23] Explicit valence for atom # 1 B, 4, is greater than permitted\n",
      "[15:31:23] Explicit valence for atom # 7 B, 4, is greater than permitted\n",
      "[15:31:23] Explicit valence for atom # 1 B, 4, is greater than permitted\n",
      "[15:31:23] Explicit valence for atom # 6 B, 4, is greater than permitted\n",
      "[15:31:23] Explicit valence for atom # 8 B, 4, is greater than permitted\n",
      "[15:31:23] Explicit valence for atom # 1 B, 4, is greater than permitted\n",
      "[15:31:23] Explicit valence for atom # 1 B, 4, is greater than permitted\n",
      "[15:31:23] Explicit valence for atom # 15 B, 4, is greater than permitted\n",
      " 37%|███▋      | 5699/15478 [03:15<01:57, 83.56it/s][15:31:23] Explicit valence for atom # 1 B, 4, is greater than permitted\n",
      " 38%|███▊      | 5843/15478 [03:17<02:53, 55.39it/s][15:31:26] Explicit valence for atom # 7 N, 4, is greater than permitted\n",
      "[15:31:26] Explicit valence for atom # 7 N, 4, is greater than permitted\n",
      " 42%|████▏     | 6515/15478 [45:01<1:43:54,  1.44it/s]  [16:13:09] Explicit valence for atom # 1 B, 4, is greater than permitted\n",
      "[16:13:09] Explicit valence for atom # 1 B, 4, is greater than permitted\n",
      "[16:13:09] Explicit valence for atom # 1 B, 4, is greater than permitted\n",
      " 44%|████▎     | 6758/15478 [45:04<02:25, 60.12it/s]  [16:13:13] Explicit valence for atom # 4 N, 4, is greater than permitted\n",
      " 46%|████▋     | 7177/15478 [52:38<1:05:00,  2.13it/s] [16:20:47] WARNING: not removing hydrogen atom without neighbors\n",
      " 49%|████▉     | 7590/15478 [53:39<02:46, 47.49it/s]  [16:21:47] Explicit valence for atom # 1 B, 4, is greater than permitted\n",
      "[16:21:47] Explicit valence for atom # 1 B, 4, is greater than permitted\n",
      " 49%|████▉     | 7624/15478 [53:40<03:12, 40.75it/s][16:21:48] Explicit valence for atom # 6 C, 5, is greater than permitted\n",
      "[16:21:48] Explicit valence for atom # 6 C, 5, is greater than permitted\n",
      " 50%|█████     | 7810/15478 [53:43<02:45, 46.29it/s] [16:21:51] Explicit valence for atom # 0 O, 3, is greater than permitted\n",
      "[16:21:51] Explicit valence for atom # 5 N, 4, is greater than permitted\n",
      " 52%|█████▏    | 8009/15478 [53:48<02:17, 54.23it/s][16:21:56] Explicit valence for atom # 8 Cl, 2, is greater than permitted\n",
      "[16:21:56] Explicit valence for atom # 8 Cl, 2, is greater than permitted\n",
      "[16:21:56] Explicit valence for atom # 8 Cl, 2, is greater than permitted\n",
      "[16:21:56] Explicit valence for atom # 8 Br, 2, is greater than permitted\n",
      "[16:21:56] Explicit valence for atom # 8 Cl, 2, is greater than permitted\n",
      "[16:21:56] Explicit valence for atom # 8 Br, 2, is greater than permitted\n",
      " 53%|█████▎    | 8168/15478 [54:05<02:03, 59.06it/s]  [16:22:13] Explicit valence for atom # 6 C, 5, is greater than permitted\n",
      "[16:22:13] Explicit valence for atom # 6 C, 5, is greater than permitted\n",
      " 55%|█████▍    | 8452/15478 [54:13<02:00, 58.09it/s][16:22:21] Explicit valence for atom # 1 B, 4, is greater than permitted\n",
      "[16:22:21] Explicit valence for atom # 1 B, 4, is greater than permitted\n",
      " 60%|██████    | 9290/15478 [54:27<01:38, 62.96it/s][16:22:36] Explicit valence for atom # 5 N, 4, is greater than permitted\n",
      " 69%|██████▉   | 10742/15478 [55:41<01:13, 64.05it/s] [16:23:49] Explicit valence for atom # 5 C, 5, is greater than permitted\n",
      "[16:23:49] Explicit valence for atom # 5 C, 5, is greater than permitted\n",
      "[16:23:49] Explicit valence for atom # 7 N, 4, is greater than permitted\n",
      " 70%|███████   | 10849/15478 [55:42<01:02, 73.83it/s][16:23:51] WARNING: not removing hydrogen atom without neighbors\n",
      " 71%|███████▏  | 11033/15478 [55:45<01:50, 40.10it/s][16:23:54] WARNING: not removing hydrogen atom without neighbors\n",
      "[16:23:54] Explicit valence for atom # 1 B, 4, is greater than permitted\n",
      " 74%|███████▎  | 11406/15478 [55:51<02:01, 33.40it/s][16:23:59] Explicit valence for atom # 3 N, 5, is greater than permitted\n",
      "[16:23:59] Explicit valence for atom # 1 B, 4, is greater than permitted\n",
      " 76%|███████▌  | 11712/15478 [55:56<00:51, 73.74it/s][16:24:04] Explicit valence for atom # 1 B, 4, is greater than permitted\n",
      " 77%|███████▋  | 11848/15478 [55:58<00:42, 84.75it/s][16:24:06] Explicit valence for atom # 1 B, 4, is greater than permitted\n",
      "[16:24:06] Explicit valence for atom # 1 B, 4, is greater than permitted\n",
      " 78%|███████▊  | 12028/15478 [56:00<00:49, 69.79it/s] [16:24:09] Explicit valence for atom # 1 B, 4, is greater than permitted\n",
      " 79%|███████▊  | 12180/15478 [56:02<00:48, 67.66it/s][16:24:11] Explicit valence for atom # 6 B, 4, is greater than permitted\n",
      "[16:24:11] Explicit valence for atom # 6 B, 4, is greater than permitted\n",
      " 81%|████████  | 12506/15478 [56:06<00:29, 101.13it/s][16:24:15] Explicit valence for atom # 10 N, 4, is greater than permitted\n",
      " 83%|████████▎ | 12807/15478 [56:11<00:37, 71.55it/s] [16:24:20] Explicit valence for atom # 6 C, 5, is greater than permitted\n",
      "[16:24:20] Explicit valence for atom # 10 C, 5, is greater than permitted\n",
      "[16:24:20] Explicit valence for atom # 10 C, 5, is greater than permitted\n",
      " 83%|████████▎ | 12823/15478 [56:11<00:29, 91.11it/s][16:24:20] Explicit valence for atom # 6 N, 4, is greater than permitted\n",
      "[16:24:20] Explicit valence for atom # 6 N, 4, is greater than permitted\n",
      "[16:24:20] Explicit valence for atom # 5 N, 4, is greater than permitted\n",
      "[16:24:20] Explicit valence for atom # 5 N, 4, is greater than permitted\n",
      " 83%|████████▎ | 12896/15478 [56:13<01:06, 39.02it/s] [16:24:21] Explicit valence for atom # 6 N, 4, is greater than permitted\n",
      "[16:24:21] Explicit valence for atom # 6 N, 4, is greater than permitted\n",
      " 88%|████████▊ | 13553/15478 [56:21<00:21, 90.58it/s] [16:24:30] Explicit valence for atom # 13 N, 4, is greater than permitted\n",
      " 90%|████████▉ | 13909/15478 [56:55<00:53, 29.52it/s] [16:25:03] Explicit valence for atom # 13 O, 4, is greater than permitted\n",
      " 90%|████████▉ | 13918/15478 [56:55<00:44, 35.21it/s][16:25:03] Explicit valence for atom # 1 B, 4, is greater than permitted\n",
      " 92%|█████████▏| 14222/15478 [1:00:41<03:21,  6.23it/s]  [16:28:50] Explicit valence for atom # 1 B, 4, is greater than permitted\n",
      " 98%|█████████▊| 15168/15478 [1:01:17<00:06, 47.74it/s] [16:29:26] Explicit valence for atom # 1 B, 4, is greater than permitted\n",
      "100%|██████████| 15478/15478 [1:01:22<00:00,  4.20it/s] \n"
     ]
    }
   ],
   "source": [
    "# Iterate over the reaction list and create an output that gives the following:\n",
    "# For each reaction, the rxt ID + reactant + reaction site + conflicting (T/F)\n",
    "\n",
    "reactants_dataset2 = []\n",
    "reaction_centers_dataset2 = []\n",
    "reaction_id2 = []\n",
    "conflicting = []\n",
    "\n",
    "for k, reaction in tqdm(df.groupby(['Reaction ID'])):\n",
    "    reactants = []\n",
    "    reaction_centers = []\n",
    "    for idx, exp_obs in reaction.iterrows():\n",
    "        rxn_smiles = exp_obs['Reaction']\n",
    "        if rxn_smiles is np.nan:\n",
    "           continue\n",
    "\n",
    "        rxn_reactants = rxn_smiles.split('>>')[0].split('.')\n",
    "        rxn_products = rxn_smiles.split('>>')[1].split('.')\n",
    "\n",
    "        reac_mols, reac_smiles = get_reps2(rxn_reactants)\n",
    "        prod_mols, prod_smiles = get_reps2(rxn_products)\n",
    "\n",
    "        for reac_mol, reac_smi in zip(reac_mols, reac_smiles):\n",
    "            reaction_okay = False\n",
    "            for prod_mol, prod_smi in zip(prod_mols, prod_smiles):\n",
    "                \n",
    "                if reac_smi == prod_smi:\n",
    "                    continue\n",
    "                \n",
    "                try:\n",
    "                    rc = get_site_selectivity(reac_mol, prod_mol)\n",
    "                except:\n",
    "                    continue\n",
    "                \n",
    "                reaction_centers.extend(rc)\n",
    "                reaction_okay = True\n",
    "                \n",
    "            if reaction_okay and reac_smi not in reactants:\n",
    "                reactants.append(reac_smi)\n",
    "        reaction_centers = np.unique(reaction_centers).tolist()\n",
    "\n",
    "    if len(reactants) == 1 and len(reaction_centers):\n",
    "        reactants_dataset2.append(reactants[0])\n",
    "        reaction_centers_dataset2.append(reaction_centers)\n",
    "        reaction_id2.append(k)\n",
    "        conflicting.append(False)"
   ]
  },
  {
   "cell_type": "code",
   "execution_count": 33,
   "id": "85399526-4d1a-4e5a-850a-1c5b9ebdccc8",
   "metadata": {},
   "outputs": [
    {
     "data": {
      "text/plain": [
       "(5504, 5504, 5504, 5504)"
      ]
     },
     "execution_count": 33,
     "metadata": {},
     "output_type": "execute_result"
    }
   ],
   "source": [
    "len(reactants_dataset2) , len(reaction_centers_dataset2), len(reaction_id2), len(conflicting)"
   ]
  },
  {
   "cell_type": "code",
   "execution_count": 34,
   "id": "40ed0606-7d50-47cf-aefe-ac8f8f9cc044",
   "metadata": {},
   "outputs": [
    {
     "data": {
      "text/html": [
       "<div>\n",
       "<style scoped>\n",
       "    .dataframe tbody tr th:only-of-type {\n",
       "        vertical-align: middle;\n",
       "    }\n",
       "\n",
       "    .dataframe tbody tr th {\n",
       "        vertical-align: top;\n",
       "    }\n",
       "\n",
       "    .dataframe thead th {\n",
       "        text-align: right;\n",
       "    }\n",
       "</style>\n",
       "<table border=\"1\" class=\"dataframe\">\n",
       "  <thead>\n",
       "    <tr style=\"text-align: right;\">\n",
       "      <th></th>\n",
       "      <th>ID</th>\n",
       "      <th>Reactant</th>\n",
       "      <th>Rxt_Site</th>\n",
       "      <th>Conflict</th>\n",
       "    </tr>\n",
       "  </thead>\n",
       "  <tbody>\n",
       "    <tr>\n",
       "      <th>0</th>\n",
       "      <td>10002925</td>\n",
       "      <td>CC(C)(C)OC(=O)c1cn(-c2ccc(Cl)cc2)c(-c2ccc(Cl)c...</td>\n",
       "      <td>[8]</td>\n",
       "      <td>False</td>\n",
       "    </tr>\n",
       "    <tr>\n",
       "      <th>1</th>\n",
       "      <td>10023067</td>\n",
       "      <td>COc1cccc(N)n1</td>\n",
       "      <td>[3, 5]</td>\n",
       "      <td>False</td>\n",
       "    </tr>\n",
       "    <tr>\n",
       "      <th>2</th>\n",
       "      <td>10026626</td>\n",
       "      <td>Fc1cccnc1F</td>\n",
       "      <td>[2]</td>\n",
       "      <td>False</td>\n",
       "    </tr>\n",
       "    <tr>\n",
       "      <th>3</th>\n",
       "      <td>10027100</td>\n",
       "      <td>Fc1ncccc1Cl</td>\n",
       "      <td>[5]</td>\n",
       "      <td>False</td>\n",
       "    </tr>\n",
       "    <tr>\n",
       "      <th>4</th>\n",
       "      <td>10027717</td>\n",
       "      <td>Fc1ccccn1</td>\n",
       "      <td>[2]</td>\n",
       "      <td>False</td>\n",
       "    </tr>\n",
       "    <tr>\n",
       "      <th>...</th>\n",
       "      <td>...</td>\n",
       "      <td>...</td>\n",
       "      <td>...</td>\n",
       "      <td>...</td>\n",
       "    </tr>\n",
       "    <tr>\n",
       "      <th>5499</th>\n",
       "      <td>9993498</td>\n",
       "      <td>CCN(CC)C(=O)Oc1cccc(I)c1</td>\n",
       "      <td>[14]</td>\n",
       "      <td>False</td>\n",
       "    </tr>\n",
       "    <tr>\n",
       "      <th>5500</th>\n",
       "      <td>9993501</td>\n",
       "      <td>CCN(CC)C(=O)Oc1cccc(Br)c1</td>\n",
       "      <td>[14]</td>\n",
       "      <td>False</td>\n",
       "    </tr>\n",
       "    <tr>\n",
       "      <th>5501</th>\n",
       "      <td>9993991</td>\n",
       "      <td>CC(C)(C)OC(=O)Oc1ccc2cc[nH]c2c1</td>\n",
       "      <td>[12]</td>\n",
       "      <td>False</td>\n",
       "    </tr>\n",
       "    <tr>\n",
       "      <th>5502</th>\n",
       "      <td>9997597</td>\n",
       "      <td>CCCCCC(=O)c1c(O)cc(OC)cc1O</td>\n",
       "      <td>[10, 14]</td>\n",
       "      <td>False</td>\n",
       "    </tr>\n",
       "    <tr>\n",
       "      <th>5503</th>\n",
       "      <td>9997598</td>\n",
       "      <td>CCCCCC(=O)c1c(O)cc(OC)cc1O</td>\n",
       "      <td>[14]</td>\n",
       "      <td>False</td>\n",
       "    </tr>\n",
       "  </tbody>\n",
       "</table>\n",
       "<p>5504 rows × 4 columns</p>\n",
       "</div>"
      ],
      "text/plain": [
       "            ID                                           Reactant  Rxt_Site  \\\n",
       "0     10002925  CC(C)(C)OC(=O)c1cn(-c2ccc(Cl)cc2)c(-c2ccc(Cl)c...       [8]   \n",
       "1     10023067                                      COc1cccc(N)n1    [3, 5]   \n",
       "2     10026626                                         Fc1cccnc1F       [2]   \n",
       "3     10027100                                        Fc1ncccc1Cl       [5]   \n",
       "4     10027717                                          Fc1ccccn1       [2]   \n",
       "...        ...                                                ...       ...   \n",
       "5499   9993498                           CCN(CC)C(=O)Oc1cccc(I)c1      [14]   \n",
       "5500   9993501                          CCN(CC)C(=O)Oc1cccc(Br)c1      [14]   \n",
       "5501   9993991                    CC(C)(C)OC(=O)Oc1ccc2cc[nH]c2c1      [12]   \n",
       "5502   9997597                         CCCCCC(=O)c1c(O)cc(OC)cc1O  [10, 14]   \n",
       "5503   9997598                         CCCCCC(=O)c1c(O)cc(OC)cc1O      [14]   \n",
       "\n",
       "      Conflict  \n",
       "0        False  \n",
       "1        False  \n",
       "2        False  \n",
       "3        False  \n",
       "4        False  \n",
       "...        ...  \n",
       "5499     False  \n",
       "5500     False  \n",
       "5501     False  \n",
       "5502     False  \n",
       "5503     False  \n",
       "\n",
       "[5504 rows x 4 columns]"
      ]
     },
     "execution_count": 34,
     "metadata": {},
     "output_type": "execute_result"
    }
   ],
   "source": [
    "total_df = pd.DataFrame(columns = (\"ID\", \"Reactant\", \"Rxt_Site\", \"Conflict\"))\n",
    "total_df[\"ID\"] = reaction_id2\n",
    "total_df[\"Reactant\"] = reactants_dataset2\n",
    "total_df[\"Rxt_Site\"] = reaction_centers_dataset2\n",
    "total_df[\"Conflict\"] = conflicting\n",
    "total_df"
   ]
  },
  {
   "cell_type": "code",
   "execution_count": 35,
   "id": "2544981b-c18d-42d1-9626-3504c52b2872",
   "metadata": {},
   "outputs": [
    {
     "name": "stderr",
     "output_type": "stream",
     "text": [
      "/var/folders/jp/w62zl0z932s8hz_k3b5m5wk80000gn/T/ipykernel_55393/4124123186.py:15: SettingWithCopyWarning: \n",
      "A value is trying to be set on a copy of a slice from a DataFrame\n",
      "\n",
      "See the caveats in the documentation: https://pandas.pydata.org/pandas-docs/stable/user_guide/indexing.html#returning-a-view-versus-a-copy\n",
      "  total_df[\"Conflict\"][react_iter] = True\n"
     ]
    },
    {
     "data": {
      "text/plain": [
       "900"
      ]
     },
     "execution_count": 35,
     "metadata": {},
     "output_type": "execute_result"
    }
   ],
   "source": [
    "## Get the previous list and for each entry look for:\n",
    "    # If another entry with same reactant && conflicting == False\n",
    "        ## If reaction sites are different, conflicting = True\n",
    "        \n",
    "for react_iter in range(len(total_df[\"Reactant\"])):\n",
    "    for compare_iter in range(len(total_df[\"Reactant\"])):\n",
    "        react = total_df[\"Reactant\"][react_iter]\n",
    "        compare = total_df[\"Reactant\"][compare_iter]\n",
    "    # If another entry with same reactant AND conflicting == False\n",
    "        if react == compare and react_iter != compare_iter and total_df[\"Conflict\"][react_iter] == False:\n",
    "            rxt_site = total_df[\"Rxt_Site\"][react_iter]\n",
    "            compare_site = total_df[\"Rxt_Site\"][compare_iter]\n",
    "            \n",
    "            if rxt_site != compare_site:\n",
    "                total_df[\"Conflict\"][react_iter] = True\n",
    "                \n",
    "sum(total_df[\"Conflict\"])"
   ]
  },
  {
   "cell_type": "code",
   "execution_count": 36,
   "id": "b0a76eda-2c12-4e0a-b0b8-246610f42083",
   "metadata": {},
   "outputs": [],
   "source": [
    "conflicting_df = total_df.copy()\n",
    "conflicting_df = conflicting_df[conflicting_df.Conflict == True]\n",
    "conflicting_df = conflicting_df.sort_values(by = [\"Reactant\"])"
   ]
  },
  {
   "cell_type": "code",
   "execution_count": 37,
   "id": "548453a1-a123-4336-b42a-9fa1de47374a",
   "metadata": {},
   "outputs": [
    {
     "data": {
      "text/html": [
       "<div>\n",
       "<style scoped>\n",
       "    .dataframe tbody tr th:only-of-type {\n",
       "        vertical-align: middle;\n",
       "    }\n",
       "\n",
       "    .dataframe tbody tr th {\n",
       "        vertical-align: top;\n",
       "    }\n",
       "\n",
       "    .dataframe thead th {\n",
       "        text-align: right;\n",
       "    }\n",
       "</style>\n",
       "<table border=\"1\" class=\"dataframe\">\n",
       "  <thead>\n",
       "    <tr style=\"text-align: right;\">\n",
       "      <th></th>\n",
       "      <th>ID</th>\n",
       "      <th>Reactant</th>\n",
       "      <th>Rxt_Site</th>\n",
       "      <th>Conflict</th>\n",
       "    </tr>\n",
       "  </thead>\n",
       "  <tbody>\n",
       "    <tr>\n",
       "      <th>0</th>\n",
       "      <td>39565104</td>\n",
       "      <td>Brc1ccc(-c2ccccn2)cc1</td>\n",
       "      <td>[3]</td>\n",
       "      <td>True</td>\n",
       "    </tr>\n",
       "    <tr>\n",
       "      <th>1</th>\n",
       "      <td>37125432</td>\n",
       "      <td>Brc1ccc(-c2ccccn2)cc1</td>\n",
       "      <td>[3, 11]</td>\n",
       "      <td>True</td>\n",
       "    </tr>\n",
       "    <tr>\n",
       "      <th>2</th>\n",
       "      <td>29236441</td>\n",
       "      <td>C=C(Cl)CNc1ccc([N+](=O)[O-])cc1</td>\n",
       "      <td>[13]</td>\n",
       "      <td>True</td>\n",
       "    </tr>\n",
       "    <tr>\n",
       "      <th>3</th>\n",
       "      <td>29236442</td>\n",
       "      <td>C=C(Cl)CNc1ccc([N+](=O)[O-])cc1</td>\n",
       "      <td>[6, 13]</td>\n",
       "      <td>True</td>\n",
       "    </tr>\n",
       "    <tr>\n",
       "      <th>4</th>\n",
       "      <td>39349381</td>\n",
       "      <td>C=CCOC1=CC(=O)CCC1</td>\n",
       "      <td>[8]</td>\n",
       "      <td>True</td>\n",
       "    </tr>\n",
       "    <tr>\n",
       "      <th>...</th>\n",
       "      <td>...</td>\n",
       "      <td>...</td>\n",
       "      <td>...</td>\n",
       "      <td>...</td>\n",
       "    </tr>\n",
       "    <tr>\n",
       "      <th>895</th>\n",
       "      <td>2189389</td>\n",
       "      <td>c1csc(-c2cccs2)c1</td>\n",
       "      <td>[1, 5, 7, 9]</td>\n",
       "      <td>True</td>\n",
       "    </tr>\n",
       "    <tr>\n",
       "      <th>896</th>\n",
       "      <td>4726774</td>\n",
       "      <td>c1csc(-c2cccs2)c1</td>\n",
       "      <td>[1, 6, 7, 9]</td>\n",
       "      <td>True</td>\n",
       "    </tr>\n",
       "    <tr>\n",
       "      <th>897</th>\n",
       "      <td>4726773</td>\n",
       "      <td>c1csc(-c2cccs2)c1</td>\n",
       "      <td>[1, 5, 7]</td>\n",
       "      <td>True</td>\n",
       "    </tr>\n",
       "    <tr>\n",
       "      <th>898</th>\n",
       "      <td>47634166</td>\n",
       "      <td>c1cscn1</td>\n",
       "      <td>[1, 3]</td>\n",
       "      <td>True</td>\n",
       "    </tr>\n",
       "    <tr>\n",
       "      <th>899</th>\n",
       "      <td>5255176</td>\n",
       "      <td>c1cscn1</td>\n",
       "      <td>[3]</td>\n",
       "      <td>True</td>\n",
       "    </tr>\n",
       "  </tbody>\n",
       "</table>\n",
       "<p>900 rows × 4 columns</p>\n",
       "</div>"
      ],
      "text/plain": [
       "           ID                         Reactant      Rxt_Site  Conflict\n",
       "0    39565104            Brc1ccc(-c2ccccn2)cc1           [3]      True\n",
       "1    37125432            Brc1ccc(-c2ccccn2)cc1       [3, 11]      True\n",
       "2    29236441  C=C(Cl)CNc1ccc([N+](=O)[O-])cc1          [13]      True\n",
       "3    29236442  C=C(Cl)CNc1ccc([N+](=O)[O-])cc1       [6, 13]      True\n",
       "4    39349381               C=CCOC1=CC(=O)CCC1           [8]      True\n",
       "..        ...                              ...           ...       ...\n",
       "895   2189389                c1csc(-c2cccs2)c1  [1, 5, 7, 9]      True\n",
       "896   4726774                c1csc(-c2cccs2)c1  [1, 6, 7, 9]      True\n",
       "897   4726773                c1csc(-c2cccs2)c1     [1, 5, 7]      True\n",
       "898  47634166                          c1cscn1        [1, 3]      True\n",
       "899   5255176                          c1cscn1           [3]      True\n",
       "\n",
       "[900 rows x 4 columns]"
      ]
     },
     "execution_count": 37,
     "metadata": {},
     "output_type": "execute_result"
    }
   ],
   "source": [
    "conflicting_df.index = pd.RangeIndex(len(conflicting_df.index))\n",
    "conflicting_df"
   ]
  },
  {
   "cell_type": "code",
   "execution_count": 38,
   "id": "3b38a34e-843b-4fe6-a1d6-b6502166dbfc",
   "metadata": {},
   "outputs": [
    {
     "data": {
      "text/plain": [
       "361"
      ]
     },
     "execution_count": 38,
     "metadata": {},
     "output_type": "execute_result"
    }
   ],
   "source": [
    "len(set(list(conflicting_df[\"Reactant\"])))"
   ]
  },
  {
   "cell_type": "code",
   "execution_count": null,
   "id": "221fc03f-0aee-439b-a894-19cc243de9b6",
   "metadata": {},
   "outputs": [],
   "source": []
  }
 ],
 "metadata": {
  "kernelspec": {
   "display_name": "Python 3 (ipykernel)",
   "language": "python",
   "name": "python3"
  },
  "language_info": {
   "codemirror_mode": {
    "name": "ipython",
    "version": 3
   },
   "file_extension": ".py",
   "mimetype": "text/x-python",
   "name": "python",
   "nbconvert_exporter": "python",
   "pygments_lexer": "ipython3",
   "version": "3.9.12"
  },
  "vscode": {
   "interpreter": {
    "hash": "a8fbd04c4d2ce7cd5b3b5bd9de222360c0918031833ded07a919f41589efefe3"
   }
  }
 },
 "nbformat": 4,
 "nbformat_minor": 5
}
