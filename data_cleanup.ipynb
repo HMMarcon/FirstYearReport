{
 "cells": [
  {
   "cell_type": "code",
   "execution_count": 1,
   "metadata": {},
   "outputs": [
    {
     "name": "stdout",
     "output_type": "stream",
     "text": [
      "/Users/hmm/PhD/Reaxys_Datasets/2022-05-06\n",
      "/Users/hmm/PhD/JupyterNotebooks/Dependencies/data_cleaning\n",
      "/Users/hmm/PhD/JupyterNotebooks\n"
     ]
    }
   ],
   "source": [
    "local_data = \"/Users/hmm/PhD/Reaxys_Datasets/2022-05-06\"\n",
    "%cd {local_data}\n",
    "\n",
    "dependencies = \"/Users/hmm/PhD/JupyterNotebooks/Dependencies/data_cleaning/\"\n",
    "%cd {dependencies}\n",
    "\n",
    "work_dir = \"/Users/hmm/PhD/JupyterNotebooks\"\n",
    "%cd {work_dir}"
   ]
  },
  {
   "cell_type": "markdown",
   "metadata": {},
   "source": [
    "# Import Modules"
   ]
  },
  {
   "cell_type": "code",
   "execution_count": 1,
   "metadata": {},
   "outputs": [
    {
     "name": "stdout",
     "output_type": "stream",
     "text": [
      "/Users/hmm/PhD/JupyterNotebooks/Dependencies/data_cleaning\n",
      "/Users/hmm/PhD/JupyterNotebooks\n"
     ]
    },
    {
     "name": "stderr",
     "output_type": "stream",
     "text": [
      "/var/folders/jp/w62zl0z932s8hz_k3b5m5wk80000gn/T/ipykernel_24787/2523461568.py:19: DeprecationWarning: Importing display from IPython.core.display is deprecated since IPython 7.14, please import from IPython display\n",
      "  from IPython.core.display import display\n"
     ]
    }
   ],
   "source": [
    "import numpy as np\n",
    "import pandas as pd\n",
    "\n",
    "from functools import reduce\n",
    "import operator\n",
    "import copy\n",
    "from tqdm import tqdm\n",
    "from natsort import natsorted, index_natsorted\n",
    "\n",
    "from rdkit import Chem\n",
    "from rdkit.Chem import AllChem\n",
    "from rdkit.Chem import Draw\n",
    "from rdkit.Chem import rdFMCS\n",
    "from rdkit.Chem import rdmolops\n",
    "from rdkit.Chem.Draw import rdMolDraw2D\n",
    "import ipywidgets as widgets\n",
    "from ipywidgets import interact,fixed\n",
    "from IPython.display import SVG,Image\n",
    "from IPython.core.display import display\n",
    "\n",
    "%cd /Users/hmm/PhD/JupyterNotebooks/Dependencies/data_cleaning/\n",
    "\n",
    "from reorder_atoms import single_bonded_mol, reorder_labels, get_atoms_in_order\n",
    "from locate_EAS_sites import locate_sites\n",
    "from find_atoms import find_identical_atoms\n",
    "\n",
    "%cd /Users/hmm/PhD/JupyterNotebooks"
   ]
  },
  {
   "cell_type": "markdown",
   "metadata": {},
   "source": [
    "# Functions"
   ]
  },
  {
   "cell_type": "code",
   "execution_count": 3,
   "metadata": {},
   "outputs": [],
   "source": [
    "def mol_with_atom_index(rdkit_mol):\n",
    "    m = copy.deepcopy(rdkit_mol) \n",
    "    for atom in m.GetAtoms():\n",
    "        atom.SetAtomMapNum(atom.GetIdx())\n",
    "    return m\n",
    "\n",
    "\n",
    "def modifify_mol(rdkit_smi):\n",
    "    \"\"\" correct nitrogen charges  \"\"\"\n",
    "\n",
    "    rdkit_mol = Chem.MolFromSmiles(rdkit_smi, sanitize=False)\n",
    "    rdkit_mol.UpdatePropertyCache(strict=False)\n",
    "    rdmolops.SetAromaticity(rdkit_mol)\n",
    "\n",
    "    rxn_smarts = ['[*;R:1]-[#7;R:2](=[*;R:3])=[#7;!R:4]-[*:5]>>[*;R:1]-[#7;R+:2](=[*;R:3])-[#7;!R-:4]-[*:5]',\n",
    "                  '[#8;!R:1]=[#6;R:2]1-[#6;R:3]=[#7;R:4](-[*:5])=[#7;R:6]-[#8;R:7]1>>[#8;!R-:1]-[#6;R:2]-1=[#6;R:3]-[#7;R+:4](-[*:5])=[#7;R:6]-[#8;R:7]-1',\n",
    "                  '[#6;R:1]=[#7;R:2]=[#7;R:3]-[#6;R:4]=[#7;R:5]>>[#6;R:1]=[#7;R+:2]-[#7;R-:3]-[#6;R:4]=[#7;R:5]',\n",
    "                  '[*:1]-[#6;!R:2](=[O;!R:3])-[#7;!R:4]=[#6;R:5]1-[#8;R:6]-[#7;R:7]=[#7;R:8](-[*:9])=[#6;R:10]1>>[*:1]-[#6;!R:2](=[O;!R:3])-[#7;!R-:4]-[#6;R:5]=1-[#8;R:6]-[#7;R:7]=[#7;R+:8](-[*:9])-[#6;R:10]=1']\n",
    "\n",
    "    fragments = Chem.GetMolFrags(rdkit_mol,asMols=True,sanitizeFrags=False)\n",
    "\n",
    "    for i, fragment in enumerate(fragments):\n",
    "        for smarts in rxn_smarts:\n",
    "            patt = Chem.MolFromSmarts(smarts.split(\">>\")[0])\n",
    "            while fragment.HasSubstructMatch(patt):\n",
    "                rxn = AllChem.ReactionFromSmarts(smarts)\n",
    "                ps = rxn.RunReactants((fragment,))\n",
    "                fragment = ps[0][0]\n",
    "                Chem.SanitizeMol(fragment)\n",
    "        if i == 0:\n",
    "            rdkit_mol = fragment\n",
    "        else:\n",
    "            rdkit_mol = Chem.CombineMols(rdkit_mol, fragment)\n",
    "    \n",
    "    rdmolops.Kekulize(rdkit_mol,clearAromaticFlags=True)\n",
    "    rdkit_mol = Chem.MolFromSmiles(Chem.MolToSmiles(rdkit_mol))\n",
    "    return rdkit_mol\n",
    "\n",
    "\n",
    "def get_unique_reps_hmm(rdkit_smis, reagents):\n",
    "    unique_mols = []\n",
    "    mols = []\n",
    "    smiles = []\n",
    "    unique_smiles = []\n",
    "    reagents = []\n",
    "    \n",
    "    ##Fix issues with SMILES:\n",
    "    for rdkit_smi,reagent in zip(rdkit_smis, reagents):\n",
    "        try:\n",
    "            rdkit_mol = modifify_mol(rdkit_smi)\n",
    "            Chem.SanitizeMol(rdkit_mol)\n",
    "            rdkit_smi = Chem.MolToSmiles(rdkit_mol, isomericSmiles=True)\n",
    "        except:\n",
    "            continue\n",
    "    \n",
    "    ##Put everything into a SMILES, molecule and reagent lists\n",
    "        \n",
    "        smiles.append(rdkit_smi)\n",
    "        mols.append(Chem.MolFromSmiles(rdkit_smi, sanitize=False))\n",
    "        reagents.append(reagent)\n",
    "    \n",
    "    \n",
    "    \n",
    "        \n",
    "    df = pd.DataFrame({\"Mols\":mols,\n",
    "                        \"SMILES\": smiles,\n",
    "                       \"Reagent\":reagents})\n",
    "    df.drop_duplicates()\n",
    "        \n",
    "    return df[\"Mols\"], df[\"SMILES\"], df[\"Reagent\"]"
   ]
  },
  {
   "cell_type": "code",
   "execution_count": 4,
   "metadata": {},
   "outputs": [],
   "source": [
    "def get_unique_reps2(rdkit_smis):\n",
    "    unique_mols = []\n",
    "    unique_smiles = []\n",
    "    for rdkit_smi in rdkit_smis:\n",
    "        try:\n",
    "            rdkit_mol = modifify_mol(rdkit_smi)\n",
    "            Chem.SanitizeMol(rdkit_mol)\n",
    "            rdkit_smi = Chem.MolToSmiles(rdkit_mol, isomericSmiles=True)\n",
    "        except:\n",
    "            continue\n",
    "        if rdkit_smi not in unique_smiles:\n",
    "            unique_smiles.append(rdkit_smi)\n",
    "            unique_mols.append(Chem.MolFromSmiles(rdkit_smi, sanitize=False))\n",
    "    return unique_mols, unique_smiles"
   ]
  },
  {
   "cell_type": "code",
   "execution_count": 5,
   "metadata": {},
   "outputs": [],
   "source": [
    "def get_reps2(rdkit_smis):\n",
    "    mols = []\n",
    "    smiles = []\n",
    "    for rdkit_smi in rdkit_smis:\n",
    "        try:\n",
    "            rdkit_mol = modifify_mol(rdkit_smi)\n",
    "            Chem.SanitizeMol(rdkit_mol)\n",
    "            rdkit_smi = Chem.MolToSmiles(rdkit_mol, isomericSmiles=True)\n",
    "        except:\n",
    "            continue\n",
    "        smiles.append(rdkit_smi)\n",
    "        mols.append(Chem.MolFromSmiles(rdkit_smi, sanitize=False))\n",
    "    return mols, smiles"
   ]
  },
  {
   "cell_type": "code",
   "execution_count": 6,
   "metadata": {},
   "outputs": [],
   "source": [
    "def get_mols(rdkit_smis):\n",
    "    mols = []\n",
    "    unique_smiles = []\n",
    "    for rdkit_smi in rdkit_smis:\n",
    "        try:\n",
    "            rdkit_mol = modifify_mol(rdkit_smi)\n",
    "            Chem.SanitizeMol(rdkit_mol)\n",
    "            rdkit_smi = Chem.MolToSmiles(rdkit_mol, isomericSmiles=True)\n",
    "        except:\n",
    "            continue\n",
    "        mols.append(Chem.MolFromSmiles(rdkit_smi, sanitize=False))\n",
    "    return mols"
   ]
  },
  {
   "cell_type": "markdown",
   "metadata": {},
   "source": [
    "\n",
    "# Load Reaxys Data (EAS - Bromination 7)"
   ]
  },
  {
   "cell_type": "code",
   "execution_count": 7,
   "metadata": {},
   "outputs": [
    {
     "data": {
      "text/plain": [
       "\"\\n!cd raw_reaxys_data/\\ndf1 = pd.read_csv('data_1_5000.xls', delimiter='\\t')\\ndf2 = pd.read_csv('data_5001_10000.xls', delimiter='\\t')\\ndf3 = pd.read_csv('data_10001_15000.xls', delimiter='\\t')\\ndf4 = pd.read_csv('data_15001_20000.xls', delimiter='\\t')\\ndf5 = pd.read_csv('data_20001_25000.xls', delimiter='\\t')\\ndf6 = pd.read_csv('data_25001_30000.xls', delimiter='\\t')\\ndf7 = pd.read_csv('data_30001_30368.xls', delimiter='\\t')\""
      ]
     },
     "execution_count": 7,
     "metadata": {},
     "output_type": "execute_result"
    }
   ],
   "source": [
    "\"\"\"\n",
    "!cd raw_reaxys_data/\n",
    "df1 = pd.read_csv('data_1_5000.xls', delimiter='\\t')\n",
    "df2 = pd.read_csv('data_5001_10000.xls', delimiter='\\t')\n",
    "df3 = pd.read_csv('data_10001_15000.xls', delimiter='\\t')\n",
    "df4 = pd.read_csv('data_15001_20000.xls', delimiter='\\t')\n",
    "df5 = pd.read_csv('data_20001_25000.xls', delimiter='\\t')\n",
    "df6 = pd.read_csv('data_25001_30000.xls', delimiter='\\t')\n",
    "df7 = pd.read_csv('data_30001_30368.xls', delimiter='\\t')\"\"\""
   ]
  },
  {
   "cell_type": "raw",
   "metadata": {},
   "source": [
    "%%time\n",
    "#dataframes = [df1, df2,df3,df4,df5,df6,df7]\n",
    "#df = pd.concat(dataframes, ignore_index=True)\n",
    "file_name = \"Reaxys_Exp_20211216_181121.xlsx\"\n",
    "df = pd.read_excel(file_name, )\n",
    "print(f'Shape of DataFrame: {df.shape}')\n",
    "print(f'Unique compounds in DataFrame: {len(set(list(df[\"Reaction ID\"])))}')"
   ]
  },
  {
   "cell_type": "code",
   "execution_count": 8,
   "metadata": {},
   "outputs": [
    {
     "name": "stdout",
     "output_type": "stream",
     "text": [
      "/Users/hmm/PhD/Reaxys_Datasets/2022-05-06/raw_reaxys_data\n"
     ]
    },
    {
     "name": "stderr",
     "output_type": "stream",
     "text": [
      "/Users/hmm/opt/anaconda3/envs/my-rdkit-env/lib/python3.10/site-packages/openpyxl/styles/stylesheet.py:226: UserWarning: Workbook contains no default style, apply openpyxl's default\n",
      "  warn(\"Workbook contains no default style, apply openpyxl's default\")\n",
      "/Users/hmm/opt/anaconda3/envs/my-rdkit-env/lib/python3.10/site-packages/openpyxl/styles/stylesheet.py:226: UserWarning: Workbook contains no default style, apply openpyxl's default\n",
      "  warn(\"Workbook contains no default style, apply openpyxl's default\")\n",
      "/Users/hmm/opt/anaconda3/envs/my-rdkit-env/lib/python3.10/site-packages/openpyxl/styles/stylesheet.py:226: UserWarning: Workbook contains no default style, apply openpyxl's default\n",
      "  warn(\"Workbook contains no default style, apply openpyxl's default\")\n"
     ]
    },
    {
     "name": "stdout",
     "output_type": "stream",
     "text": [
      "/Users/hmm/PhD/JupyterNotebooks\n",
      "Shape of DataFrame: (27734, 41)\n",
      "Unique compounds in DataFrame: 15478\n",
      "CPU times: user 10.5 s, sys: 74.3 ms, total: 10.6 s\n",
      "Wall time: 10.6 s\n"
     ]
    },
    {
     "name": "stderr",
     "output_type": "stream",
     "text": [
      "/Users/hmm/opt/anaconda3/envs/my-rdkit-env/lib/python3.10/site-packages/openpyxl/styles/stylesheet.py:226: UserWarning: Workbook contains no default style, apply openpyxl's default\n",
      "  warn(\"Workbook contains no default style, apply openpyxl's default\")\n"
     ]
    }
   ],
   "source": [
    "%%time\n",
    "\n",
    "%cd {local_data}/raw_reaxys_data\n",
    "\n",
    "df1 = pd.read_excel(\"Reaxys_Exp_20220506_1-5000.xlsx\", )\n",
    "df2 = pd.read_excel(\"Reaxys_Exp_20220506_5001-10000.xlsx\", )\n",
    "df3 = pd.read_excel(\"Reaxys_Exp_20220506_10001-15000.xlsx\", )\n",
    "df4 = pd.read_excel(\"Reaxys_Exp_20220506_15001-15476.xlsx\", )\n",
    "\n",
    "%cd {work_dir}\n",
    "\n",
    "dataframes = [df1, df2, df3, df4]\n",
    "df = pd.concat(dataframes, ignore_index = True)\n",
    "print(f'Shape of DataFrame: {df.shape}')\n",
    "print(f'Unique compounds in DataFrame: {len(set(list(df[\"Reaction ID\"])))}')"
   ]
  },
  {
   "cell_type": "code",
   "execution_count": 9,
   "metadata": {},
   "outputs": [
    {
     "data": {
      "text/plain": [
       "(27734, 15478)"
      ]
     },
     "execution_count": 9,
     "metadata": {},
     "output_type": "execute_result"
    }
   ],
   "source": [
    "df.head(1)\n",
    "len(df), len(set(df[\"Reaction ID\"]))"
   ]
  },
  {
   "cell_type": "code",
   "execution_count": 10,
   "metadata": {},
   "outputs": [
    {
     "name": "stdout",
     "output_type": "stream",
     "text": [
      "<class 'pandas.core.frame.DataFrame'>\n",
      "RangeIndex: 27734 entries, 0 to 27733\n",
      "Data columns (total 41 columns):\n",
      " #   Column                                           Non-Null Count  Dtype  \n",
      "---  ------                                           --------------  -----  \n",
      " 0   Reaction ID                                      27734 non-null  object \n",
      " 1   Reaction: Links to Reaxys                        27726 non-null  object \n",
      " 2   Data Count                                       27726 non-null  object \n",
      " 3   Number of Reaction Details                       27726 non-null  float64\n",
      " 4   Reaction Rank                                    27726 non-null  float64\n",
      " 5   Record Type                                      27726 non-null  object \n",
      " 6   Reactant                                         27726 non-null  object \n",
      " 7   Product                                          27726 non-null  object \n",
      " 8   Bin                                              24327 non-null  object \n",
      " 9   Reaction                                         27515 non-null  object \n",
      " 10  Reaction Details: Reaction Classification        27726 non-null  object \n",
      " 11  Example label                                    8606 non-null   object \n",
      " 12  Example title                                    8101 non-null   object \n",
      " 13  Fulltext of reaction                             11492 non-null  object \n",
      " 14  Number of Reaction Steps                         27726 non-null  float64\n",
      " 15  Multi-step Scheme                                448 non-null    object \n",
      " 16  Multi-step Details                               448 non-null    object \n",
      " 17  Number of Stages                                 2379 non-null   float64\n",
      " 18  Solid Phase                                      0 non-null      float64\n",
      " 19  Time (Reaction Details) [h]                      19605 non-null  object \n",
      " 20  Temperature (Reaction Details) [C]               16894 non-null  object \n",
      " 21  Pressure (Reaction Details) [Torr]               266 non-null    object \n",
      " 22  pH-Value (Reaction Details)                      305 non-null    object \n",
      " 23  Other Conditions                                 11736 non-null  object \n",
      " 24  Reaction Type                                    742 non-null    object \n",
      " 25  Subject Studied                                  537 non-null    object \n",
      " 26  Prototype Reaction                               850 non-null    object \n",
      " 27  Named Reaction                                   0 non-null      float64\n",
      " 28  Type of reaction description (Reaction Details)  7484 non-null   object \n",
      " 29  Location                                         13698 non-null  object \n",
      " 30  Comment (Reaction Details)                       1990 non-null   object \n",
      " 31  Product.1                                        22220 non-null  object \n",
      " 32  Yield                                            22220 non-null  object \n",
      " 33  Yield (numerical)                                21543 non-null  object \n",
      " 34  Yield (optical)                                  49 non-null     object \n",
      " 35  Stage Reactant                                   2379 non-null   object \n",
      " 36  Reagent                                          26916 non-null  object \n",
      " 37  Catalyst                                         504 non-null    object \n",
      " 38  Solvent (Reaction Details)                       15968 non-null  object \n",
      " 39  References                                       27726 non-null  object \n",
      " 40  Links to Reaxys                                  27726 non-null  object \n",
      "dtypes: float64(6), object(35)\n",
      "memory usage: 8.7+ MB\n"
     ]
    }
   ],
   "source": [
    "df.info()"
   ]
  },
  {
   "cell_type": "markdown",
   "metadata": {},
   "source": [
    "# Analyse Data"
   ]
  },
  {
   "cell_type": "code",
   "execution_count": 11,
   "metadata": {},
   "outputs": [],
   "source": [
    "def FMCS_atoms(mol1, mol2):\n",
    "    \"\"\" Find maximum common substructure.\n",
    "        return: list of atoms indexes for mol2 \"\"\"\n",
    "\n",
    "    mol1_copy = copy.deepcopy(mol1)\n",
    "    mol1_copy.UpdatePropertyCache(strict=False)\n",
    "    rdmolops.SetAromaticity(mol1_copy)\n",
    "\n",
    "    mol2_copy = copy.deepcopy(mol2)\n",
    "    mol2_copy.UpdatePropertyCache(strict=False)\n",
    "    rdmolops.SetAromaticity(mol2_copy)\n",
    "\n",
    "    mols = [mol1_copy, mol2_copy]\n",
    "    res = rdFMCS.FindMCS(mols, atomCompare=rdFMCS.AtomCompare.CompareAnyHeavyAtom, bondCompare=rdFMCS.BondCompare.CompareAny, ringMatchesRingOnly=True)\n",
    "\n",
    "    return mol2_copy.GetSubstructMatch(Chem.MolFromSmarts(res.smartsString))"
   ]
  },
  {
   "cell_type": "code",
   "execution_count": 12,
   "metadata": {},
   "outputs": [],
   "source": [
    "def get_site_selectivity(reac_mol, prod_mol):\n",
    "    \n",
    "    # Make a copy of the mols\n",
    "    reac_mol_copy = copy.deepcopy(reac_mol)\n",
    "    prod_mol_copy = copy.deepcopy(prod_mol)\n",
    "\n",
    "    # Create single bonded mols\n",
    "    single_bonded_reac = single_bonded_mol(reac_mol_copy)\n",
    "    single_bonded_prod = single_bonded_mol(prod_mol_copy)\n",
    "\n",
    "    # Compare reac_mol and prod_mol\n",
    "    MCS_atoms = FMCS_atoms(reac_mol_copy, prod_mol_copy)\n",
    "    atoms = single_bonded_prod.GetSubstructMatch(single_bonded_reac)\n",
    "\n",
    "    if len(MCS_atoms) != reac_mol_copy.GetNumHeavyAtoms(): #check if the atoms in the MCS match the number of atoms in the reactant\n",
    "        #print(len(MCS_atoms), reac_mol_copy.GetNumAtoms())\n",
    "        raise ValueError('Reactant And Product Error I')\n",
    "    elif len(MCS_atoms) == prod_mol_copy.GetNumHeavyAtoms(): #check if the product contains other atoms than just the MCS\n",
    "        #print(len(MCS_atoms), prod_mol_copy.GetNumAtoms())\n",
    "        raise ValueError('Reactant And Product Error II')\n",
    "\n",
    "    for a in single_bonded_prod.GetAtoms():\n",
    "        if a.GetIdx() not in MCS_atoms and a.GetSymbol() != 'Cl': #check if the atoms of the product not included in the MCS are bromine\n",
    "            #print(a.GetIdx(), a.GetSymbol())\n",
    "            raise ValueError('Reactant And Product Error III')\n",
    "\n",
    "\n",
    "    # Find chlorine in product mol\n",
    "    pat = Chem.MolFromSmarts(\"[#17]\")\n",
    "    chlorine_in_product = [atom for element in prod_mol_copy.GetSubstructMatches(pat) for atom in element] \n",
    "        \n",
    "    if len(chlorine_in_product) == prod_mol_copy.GetNumAtoms(): #check if all atoms in products are bromine\n",
    "        #print(len(bromine_in_product), prod_mol_copy.GetNumAtoms())\n",
    "        raise ValueError('Reactant And Product Error IV')\n",
    "\n",
    "\n",
    "    # Find chlorine in reactant mol\n",
    "    pat = Chem.MolFromSmarts(\"[#17]\")\n",
    "    chlorine_in_reactant = [atom for element in reac_mol_copy.GetSubstructMatches(pat) for atom in element]\n",
    "    \n",
    "    if len(chlorine_in_reactant) == reac_mol_copy.GetNumAtoms(): #check if all atoms in reactant are bromine\n",
    "        #print(len(bromine_in_reactant), reac_mol_copy.GetNumAtoms())\n",
    "        raise ValueError('Reactant And Product Error V') \n",
    "    \n",
    "    # Find reaction centers\n",
    "    if len(chlorine_in_reactant):\n",
    "        chlorine_in_reactant = [atoms[idx] for idx in chlorine_in_reactant]\n",
    "    \n",
    "\n",
    "    prod_mol_copy.UpdatePropertyCache(strict=False)\n",
    "    rdmolops.SetAromaticity(prod_mol_copy)\n",
    "    reaction_centers = []\n",
    "    for atom in prod_mol_copy.GetAtoms():\n",
    "        for atomNeighbor in atom.GetNeighbors():\n",
    "\n",
    "            if atomNeighbor.GetSymbol() == 'Cl' and atomNeighbor.GetIdx() not in chlorine_in_reactant:\n",
    "                \n",
    "                if not atom.GetIsAromatic() or atom.GetAtomicNum() != 6: #check if the bromine is attached to an aromatic carbon atom\n",
    "                # if not atom.IsInRing() or atom.GetAtomicNum() != 6 or len(atom.GetBonds()) != 3: #check if the bromine is attached to a cyclic SP2 hybridized carbon atom (THIS COULD ALSO BE USED IN THE FUTURE)\n",
    "                    raise ValueError('Reactant And Product Error VI')\n",
    "                else:\n",
    "                    reaction_centers.append(atom.GetIdx())\n",
    "    \n",
    "    # Make sure that the reaction centers correspond to the atomnumbering of the reactant\n",
    "    reaction_centers = reorder_labels(reac_mol, prod_mol, reaction_centers)\n",
    "\n",
    "    return reaction_centers"
   ]
  },
  {
   "cell_type": "code",
   "execution_count": 13,
   "metadata": {},
   "outputs": [
    {
     "name": "stderr",
     "output_type": "stream",
     "text": [
      "  3%|█▎                                     | 524/15478 [00:08<03:17, 75.78it/s][10:32:43] Explicit valence for atom # 1 N, 5, is greater than permitted\n",
      "  7%|██▋                                   | 1080/15478 [00:24<07:55, 30.29it/s][10:32:59] Explicit valence for atom # 1 Cl, 2, is greater than permitted\n",
      " 13%|█████                                 | 2041/15478 [00:39<04:01, 55.65it/s][10:33:14] Explicit valence for atom # 1 N, 5, is greater than permitted\n",
      " 13%|█████                                 | 2077/15478 [00:40<04:51, 45.96it/s][10:33:15] Explicit valence for atom # 1 B, 4, is greater than permitted\n",
      " 22%|████████▎                             | 3405/15478 [01:48<06:40, 30.17it/s][10:34:23] Explicit valence for atom # 3 C, 5, is greater than permitted\n",
      "[10:34:23] Explicit valence for atom # 3 C, 5, is greater than permitted\n",
      "[10:34:23] SMILES Parse Error: unclosed ring for input: 'ClC1=CC=C(C=C1)[Pt]123[Cl][Pt]4([Cl]1)(C1=CC=C(Cl)C=C1)[CH]1=[CH]4CCC(=C)CCC1'\n",
      "[10:34:23] SMILES Parse Error: unclosed ring for input: 'C=C1CCC[CH]2=[CH]3CC1'\n",
      "[10:34:23] Explicit valence for atom # 3 C, 5, is greater than permitted\n",
      "[10:34:23] Explicit valence for atom # 3 C, 5, is greater than permitted\n",
      "[10:34:23] SMILES Parse Error: unclosed ring for input: 'ClC1=CC=C(C=C1)[Pt]123[Cl][Pt]4([Cl]1)(C1=CC=C(Cl)C=C1)[CH]1=[CH]4CCC(=C)CCC1'\n",
      "[10:34:23] SMILES Parse Error: unclosed ring for input: 'C=C1CCC[CH]2=[CH]3CC1'\n",
      "[10:34:23] Explicit valence for atom # 1 C, 5, is greater than permitted\n",
      "[10:34:23] Explicit valence for atom # 1 C, 5, is greater than permitted\n",
      "[10:34:23] Explicit valence for atom # 1 C, 5, is greater than permitted\n",
      "[10:34:23] Explicit valence for atom # 1 C, 5, is greater than permitted\n",
      "[10:34:23] Explicit valence for atom # 1 C, 5, is greater than permitted\n",
      "[10:34:23] Explicit valence for atom # 1 C, 5, is greater than permitted\n",
      "[10:34:23] Explicit valence for atom # 1 C, 5, is greater than permitted\n",
      "[10:34:23] Explicit valence for atom # 1 C, 5, is greater than permitted\n",
      "[10:34:23] Explicit valence for atom # 1 C, 5, is greater than permitted\n",
      "[10:34:23] Explicit valence for atom # 1 C, 5, is greater than permitted\n",
      "[10:34:23] Explicit valence for atom # 1 C, 5, is greater than permitted\n",
      "[10:34:23] Explicit valence for atom # 1 C, 5, is greater than permitted\n",
      "[10:34:23] Explicit valence for atom # 1 C, 5, is greater than permitted\n",
      "[10:34:23] Explicit valence for atom # 1 C, 5, is greater than permitted\n",
      "[10:34:23] Explicit valence for atom # 1 C, 5, is greater than permitted\n",
      " 22%|████████▍                             | 3441/15478 [01:48<03:09, 63.58it/s][10:34:23] Explicit valence for atom # 2 N, 4, is greater than permitted\n",
      "[10:34:23] Explicit valence for atom # 2 N, 4, is greater than permitted\n",
      "[10:34:23] Explicit valence for atom # 2 N, 4, is greater than permitted\n",
      "[10:34:23] Explicit valence for atom # 2 N, 4, is greater than permitted\n",
      "[10:34:23] Explicit valence for atom # 2 N, 4, is greater than permitted\n",
      "[10:34:23] Explicit valence for atom # 2 N, 4, is greater than permitted\n",
      "[10:34:23] Explicit valence for atom # 2 N, 4, is greater than permitted\n",
      "[10:34:23] Explicit valence for atom # 2 N, 4, is greater than permitted\n",
      " 22%|████████▍                             | 3450/15478 [01:49<02:55, 68.57it/s][10:34:23] SMILES Parse Error: unclosed ring for input: 'Br[Cu+]123[N]4=CC=CC=C4C4=[N]1C=CC=C4'\n",
      "[10:34:23] SMILES Parse Error: unclosed ring for input: 'C1=CC(C4=CC=CC=[N]24)=[N]3C=C1'\n",
      "[10:34:23] Explicit valence for atom # 21 N, 4, is greater than permitted\n",
      " 22%|████████▌                             | 3465/15478 [01:49<02:21, 84.91it/s][10:34:24] Explicit valence for atom # 3 N, 4, is greater than permitted\n",
      "[10:34:24] Explicit valence for atom # 3 N, 4, is greater than permitted\n",
      "[10:34:24] Explicit valence for atom # 3 N, 4, is greater than permitted\n",
      "[10:34:24] Explicit valence for atom # 3 N, 4, is greater than permitted\n",
      " 22%|████████▌                             | 3475/15478 [01:49<04:20, 46.15it/s][10:34:24] Explicit valence for atom # 8 N, 4, is greater than permitted\n",
      "[10:34:24] WARNING: not removing hydrogen atom without neighbors\n",
      "[10:34:24] WARNING: not removing hydrogen atom without neighbors\n",
      "[10:34:24] WARNING: not removing hydrogen atom without neighbors\n",
      "[10:34:24] WARNING: not removing hydrogen atom without neighbors\n",
      "[10:34:24] WARNING: not removing hydrogen atom without neighbors\n",
      "[10:34:24] WARNING: not removing hydrogen atom without neighbors\n",
      "[10:34:24] Explicit valence for atom # 4 H, 2, is greater than permitted\n",
      "[10:34:24] Explicit valence for atom # 4 N, 4, is greater than permitted\n",
      " 23%|████████▌                             | 3491/15478 [01:50<04:15, 46.86it/s][10:34:24] Explicit valence for atom # 0 O, 4, is greater than permitted\n",
      "[10:34:25] Explicit valence for atom # 10 Cl, 2, is greater than permitted\n",
      "[10:34:25] Explicit valence for atom # 10 Cl, 2, is greater than permitted\n",
      " 23%|████████▌                             | 3498/15478 [01:50<04:07, 48.37it/s][10:34:25] Explicit valence for atom # 3 O, 4, is greater than permitted\n",
      "[10:34:25] Explicit valence for atom # 16 O, 3, is greater than permitted\n",
      "[10:34:25] Explicit valence for atom # 7 O, 3, is greater than permitted\n",
      "[10:34:25] Explicit valence for atom # 7 O, 3, is greater than permitted\n",
      " 23%|████████▋                             | 3530/15478 [01:50<02:30, 79.16it/s][10:34:25] SMILES Parse Error: unclosed ring for input: 'CC(C)[O-][Ti+4]123([O-]C(C)C)[O-]CC4=CC=CC=[N]14'\n",
      "[10:34:25] SMILES Parse Error: unclosed ring for input: 'C([O-]2)C1=CC=CC=[N]31'\n",
      "[10:34:25] SMILES Parse Error: unclosed ring for input: 'ClC1=CC(Cl)=C([O-][Ti+4]234([O-]C5=C(Cl)C=C(Cl)C=C5Cl)[O-]CC5=CC=CC=[N]25)C(Cl)=C1'\n",
      "[10:34:25] SMILES Parse Error: unclosed ring for input: 'C([O-]3)C1=CC=CC=[N]41'\n",
      "[10:34:25] Explicit valence for atom # 3 N, 4, is greater than permitted\n",
      " 26%|█████████▉                            | 4055/15478 [02:04<04:07, 46.10it/s][10:34:39] Explicit valence for atom # 2 N, 4, is greater than permitted\n",
      " 28%|██████████▊                           | 4407/15478 [02:29<06:57, 26.54it/s][10:35:04] Explicit valence for atom # 1 B, 4, is greater than permitted\n",
      " 30%|███████████▍                          | 4663/15478 [02:33<02:24, 74.65it/s][10:35:07] Explicit valence for atom # 9 N, 5, is greater than permitted\n",
      " 34%|████████████▊                         | 5239/15478 [02:43<02:19, 73.22it/s][10:35:18] Explicit valence for atom # 18 O, 4, is greater than permitted\n",
      "[10:35:18] Explicit valence for atom # 19 O, 4, is greater than permitted\n",
      "[10:35:18] Explicit valence for atom # 18 O, 4, is greater than permitted\n",
      "[10:35:18] Explicit valence for atom # 19 O, 4, is greater than permitted\n",
      " 37%|█████████████▉                        | 5680/15478 [02:54<01:56, 84.02it/s][10:35:29] Explicit valence for atom # 8 B, 4, is greater than permitted\n",
      "[10:35:29] Explicit valence for atom # 16 B, 4, is greater than permitted\n",
      "[10:35:29] Explicit valence for atom # 1 B, 4, is greater than permitted\n",
      "[10:35:29] Explicit valence for atom # 1 B, 4, is greater than permitted\n",
      "[10:35:29] Explicit valence for atom # 1 B, 4, is greater than permitted\n",
      "[10:35:29] Explicit valence for atom # 7 B, 4, is greater than permitted\n",
      "[10:35:29] Explicit valence for atom # 1 B, 4, is greater than permitted\n",
      "[10:35:29] Explicit valence for atom # 6 B, 4, is greater than permitted\n",
      "[10:35:29] Explicit valence for atom # 8 B, 4, is greater than permitted\n",
      "[10:35:29] Explicit valence for atom # 1 B, 4, is greater than permitted\n",
      " 37%|█████████████▌                       | 5697/15478 [02:54<01:34, 103.48it/s][10:35:29] Explicit valence for atom # 1 B, 4, is greater than permitted\n",
      "[10:35:29] Explicit valence for atom # 15 B, 4, is greater than permitted\n",
      "[10:35:29] Explicit valence for atom # 1 B, 4, is greater than permitted\n",
      " 38%|██████████████▎                       | 5843/15478 [02:56<01:57, 81.90it/s][10:35:31] Explicit valence for atom # 7 N, 4, is greater than permitted\n",
      "[10:35:31] Explicit valence for atom # 7 N, 4, is greater than permitted\n",
      " 42%|███████████████▉                      | 6513/15478 [08:56<05:35, 26.74it/s][10:41:31] Explicit valence for atom # 1 B, 4, is greater than permitted\n",
      "[10:41:31] Explicit valence for atom # 1 B, 4, is greater than permitted\n",
      "[10:41:31] Explicit valence for atom # 1 B, 4, is greater than permitted\n",
      " 44%|████████████████▌                     | 6758/15478 [08:59<01:53, 76.53it/s][10:41:34] Explicit valence for atom # 4 N, 4, is greater than permitted\n",
      " 46%|█████████████████▋                    | 7180/15478 [09:07<02:52, 48.12it/s][10:41:42] WARNING: not removing hydrogen atom without neighbors\n",
      " 49%|██████████████████▋                   | 7587/15478 [09:29<02:56, 44.81it/s][10:42:04] Explicit valence for atom # 1 B, 4, is greater than permitted\n",
      "[10:42:04] Explicit valence for atom # 1 B, 4, is greater than permitted\n",
      " 49%|██████████████████▋                   | 7626/15478 [09:30<02:15, 57.81it/s][10:42:05] Explicit valence for atom # 6 C, 5, is greater than permitted\n",
      "[10:42:05] Explicit valence for atom # 6 C, 5, is greater than permitted\n",
      " 50%|███████████████████▏                  | 7807/15478 [09:32<02:01, 63.29it/s][10:42:07] Explicit valence for atom # 0 O, 3, is greater than permitted\n",
      "[10:42:07] Explicit valence for atom # 5 N, 4, is greater than permitted\n",
      " 52%|███████████████████▋                  | 8010/15478 [09:36<01:38, 76.09it/s][10:42:11] Explicit valence for atom # 8 Cl, 2, is greater than permitted\n",
      "[10:42:11] Explicit valence for atom # 8 Cl, 2, is greater than permitted\n",
      "[10:42:11] Explicit valence for atom # 8 Cl, 2, is greater than permitted\n",
      "[10:42:11] Explicit valence for atom # 8 Br, 2, is greater than permitted\n",
      "[10:42:11] Explicit valence for atom # 8 Cl, 2, is greater than permitted\n",
      "[10:42:11] Explicit valence for atom # 8 Br, 2, is greater than permitted\n",
      " 53%|████████████████████                  | 8171/15478 [09:51<02:03, 59.33it/s][10:42:26] Explicit valence for atom # 6 C, 5, is greater than permitted\n",
      "[10:42:26] Explicit valence for atom # 6 C, 5, is greater than permitted\n",
      " 55%|████████████████████▋                 | 8448/15478 [09:56<01:27, 80.47it/s][10:42:31] Explicit valence for atom # 1 B, 4, is greater than permitted\n",
      "[10:42:31] Explicit valence for atom # 1 B, 4, is greater than permitted\n",
      " 60%|██████████████████████▊               | 9285/15478 [10:08<01:19, 77.82it/s][10:42:43] Explicit valence for atom # 5 N, 4, is greater than permitted\n",
      " 69%|█████████████████████████▋           | 10741/15478 [11:14<01:09, 67.89it/s][10:43:49] Explicit valence for atom # 5 C, 5, is greater than permitted\n",
      "[10:43:49] Explicit valence for atom # 5 C, 5, is greater than permitted\n",
      "[10:43:49] Explicit valence for atom # 7 N, 4, is greater than permitted\n",
      " 70%|█████████████████████████▉           | 10848/15478 [11:15<00:47, 97.98it/s][10:43:50] WARNING: not removing hydrogen atom without neighbors\n",
      " 71%|██████████████████████████▎          | 11031/15478 [11:18<01:36, 46.14it/s][10:43:53] WARNING: not removing hydrogen atom without neighbors\n",
      "[10:43:53] Explicit valence for atom # 1 B, 4, is greater than permitted\n",
      " 74%|███████████████████████████▏         | 11399/15478 [11:22<00:41, 98.90it/s][10:43:58] Explicit valence for atom # 3 N, 5, is greater than permitted\n",
      "[10:43:58] Explicit valence for atom # 1 B, 4, is greater than permitted\n",
      " 76%|███████████████████████████▉         | 11713/15478 [11:27<00:48, 77.76it/s][10:44:02] Explicit valence for atom # 1 B, 4, is greater than permitted\n",
      " 77%|████████████████████████████▎        | 11846/15478 [11:29<00:44, 80.80it/s][10:44:04] Explicit valence for atom # 1 B, 4, is greater than permitted\n",
      "[10:44:04] Explicit valence for atom # 1 B, 4, is greater than permitted\n",
      " 78%|████████████████████████████▋        | 12024/15478 [11:31<00:45, 76.67it/s][10:44:06] Explicit valence for atom # 1 B, 4, is greater than permitted\n",
      " 79%|█████████████████████████████        | 12182/15478 [11:33<00:36, 90.09it/s][10:44:08] Explicit valence for atom # 6 B, 4, is greater than permitted\n",
      "[10:44:08] Explicit valence for atom # 6 B, 4, is greater than permitted\n",
      " 81%|█████████████████████████████       | 12508/15478 [11:36<00:27, 106.62it/s][10:44:11] Explicit valence for atom # 10 N, 4, is greater than permitted\n",
      " 83%|██████████████████████████████▋      | 12813/15478 [11:41<00:26, 99.56it/s][10:44:16] Explicit valence for atom # 6 C, 5, is greater than permitted\n",
      "[10:44:16] Explicit valence for atom # 10 C, 5, is greater than permitted\n",
      "[10:44:16] Explicit valence for atom # 10 C, 5, is greater than permitted\n",
      " 83%|█████████████████████████████▊      | 12825/15478 [11:41<00:25, 104.20it/s][10:44:16] Explicit valence for atom # 6 N, 4, is greater than permitted\n",
      "[10:44:16] Explicit valence for atom # 6 N, 4, is greater than permitted\n",
      "[10:44:16] Explicit valence for atom # 5 N, 4, is greater than permitted\n",
      "[10:44:16] Explicit valence for atom # 5 N, 4, is greater than permitted\n",
      " 83%|█████████████████████████████▉      | 12890/15478 [11:42<00:23, 108.07it/s][10:44:17] Explicit valence for atom # 6 N, 4, is greater than permitted\n",
      "[10:44:17] Explicit valence for atom # 6 N, 4, is greater than permitted\n",
      " 88%|███████████████████████████████▌    | 13547/15478 [11:50<00:18, 103.13it/s][10:44:25] Explicit valence for atom # 13 N, 4, is greater than permitted\n",
      " 90%|█████████████████████████████████▎   | 13910/15478 [12:25<00:52, 30.06it/s][10:45:00] Explicit valence for atom # 13 O, 4, is greater than permitted\n",
      " 90%|█████████████████████████████████▎   | 13919/15478 [12:25<00:43, 35.69it/s][10:45:00] Explicit valence for atom # 1 B, 4, is greater than permitted\n",
      " 92%|█████████████████████████████████▉   | 14213/15478 [15:59<05:37,  3.74it/s][10:48:34] Explicit valence for atom # 1 B, 4, is greater than permitted\n",
      " 98%|████████████████████████████████████▏| 15162/15478 [16:31<00:08, 37.30it/s][10:49:06] Explicit valence for atom # 1 B, 4, is greater than permitted\n",
      "100%|█████████████████████████████████████| 15478/15478 [16:35<00:00, 15.54it/s]\n"
     ]
    },
    {
     "name": "stdout",
     "output_type": "stream",
     "text": [
      "CPU times: user 16min 17s, sys: 9.13 s, total: 16min 26s\n",
      "Wall time: 16min 35s\n"
     ]
    }
   ],
   "source": [
    "%%time\n",
    "reactants_dataset2 = []\n",
    "reaction_centers_dataset2 = []\n",
    "reaction_id2 = []\n",
    "\n",
    "for k, reaction in tqdm(df.groupby(['Reaction ID'])):\n",
    "    reactants = []\n",
    "    reaction_centers = []\n",
    "    for idx, exp_obs in reaction.iterrows():\n",
    "        rxn_smiles = exp_obs['Reaction']\n",
    "        if rxn_smiles is np.nan:\n",
    "           continue\n",
    "\n",
    "        rxn_reactants = rxn_smiles.split('>>')[0].split('.')\n",
    "        rxn_products = rxn_smiles.split('>>')[1].split('.')\n",
    "\n",
    "        reac_mols, reac_smiles = get_unique_reps2(rxn_reactants)\n",
    "        prod_mols, prod_smiles = get_unique_reps2(rxn_products)\n",
    "\n",
    "        for reac_mol, reac_smi in zip(reac_mols, reac_smiles):\n",
    "            reaction_okay = False\n",
    "            for prod_mol, prod_smi in zip(prod_mols, prod_smiles):\n",
    "                \n",
    "                if reac_smi == prod_smi:\n",
    "                    continue\n",
    "                \n",
    "                try:\n",
    "                    rc = get_site_selectivity(reac_mol, prod_mol)\n",
    "                except:\n",
    "                    continue\n",
    "                \n",
    "                reaction_centers.extend(rc)\n",
    "                reaction_okay = True\n",
    "                \n",
    "            if reaction_okay and reac_smi not in reactants:\n",
    "                reactants.append(reac_smi)\n",
    "        reaction_centers = np.unique(reaction_centers).tolist()\n",
    "\n",
    "    if len(reactants) == 1 and len(reaction_centers):\n",
    "        reactants_dataset2.append(reactants)\n",
    "        reaction_centers_dataset2.append(reaction_centers)\n",
    "        reaction_id2.append(k)"
   ]
  },
  {
   "cell_type": "code",
   "execution_count": 14,
   "metadata": {},
   "outputs": [],
   "source": [
    "#set(reactants_dataset2)\n"
   ]
  },
  {
   "cell_type": "code",
   "execution_count": 15,
   "metadata": {},
   "outputs": [
    {
     "data": {
      "text/plain": [
       "0        False\n",
       "1        False\n",
       "2        False\n",
       "3        False\n",
       "4        False\n",
       "         ...  \n",
       "27729    False\n",
       "27730     True\n",
       "27731     True\n",
       "27732    False\n",
       "27733    False\n",
       "Name: Reaction ID, Length: 27734, dtype: bool"
      ]
     },
     "execution_count": 15,
     "metadata": {},
     "output_type": "execute_result"
    }
   ],
   "source": [
    "df['Reaction ID'].isin(reaction_id2)"
   ]
  },
  {
   "cell_type": "code",
   "execution_count": 16,
   "metadata": {},
   "outputs": [
    {
     "data": {
      "text/plain": [
       "['CC1=CC=C(C=C1)C1=NN=C(C=C1)N1N=CC2=C1N=CNC2=O']"
      ]
     },
     "execution_count": 16,
     "metadata": {},
     "output_type": "execute_result"
    }
   ],
   "source": [
    "rxn_reactants"
   ]
  },
  {
   "cell_type": "code",
   "execution_count": 17,
   "metadata": {},
   "outputs": [
    {
     "name": "stderr",
     "output_type": "stream",
     "text": [
      "/var/folders/jp/w62zl0z932s8hz_k3b5m5wk80000gn/T/ipykernel_8770/656130862.py:2: SettingWithCopyWarning: \n",
      "A value is trying to be set on a copy of a slice from a DataFrame\n",
      "\n",
      "See the caveats in the documentation: https://pandas.pydata.org/pandas-docs/stable/user_guide/indexing.html#returning-a-view-versus-a-copy\n",
      "  new_df.sort_values(by=\"Yield\", ascending=False, inplace=True, key=lambda x: natsorted(new_df[\"Yield\"]))\n"
     ]
    },
    {
     "data": {
      "text/plain": [
       "(5504, 41)"
      ]
     },
     "execution_count": 17,
     "metadata": {},
     "output_type": "execute_result"
    }
   ],
   "source": [
    "new_df = df[df['Reaction ID'].isin(reaction_id2)]\n",
    "new_df.sort_values(by=\"Yield\", ascending=False, inplace=True, key=lambda x: natsorted(new_df[\"Yield\"]))\n",
    "new_df = new_df.groupby(['Reaction ID']).head(1)\n",
    "new_df.reset_index(drop=True, inplace=True)\n",
    "new_df.shape"
   ]
  },
  {
   "cell_type": "code",
   "execution_count": 18,
   "metadata": {},
   "outputs": [
    {
     "name": "stderr",
     "output_type": "stream",
     "text": [
      "/var/folders/jp/w62zl0z932s8hz_k3b5m5wk80000gn/T/ipykernel_8770/2616834694.py:1: SettingWithCopyWarning: \n",
      "A value is trying to be set on a copy of a slice from a DataFrame.\n",
      "Try using .loc[row_indexer,col_indexer] = value instead\n",
      "\n",
      "See the caveats in the documentation: https://pandas.pydata.org/pandas-docs/stable/user_guide/indexing.html#returning-a-view-versus-a-copy\n",
      "  new_df['Reactant Smiles'] = None\n",
      "/var/folders/jp/w62zl0z932s8hz_k3b5m5wk80000gn/T/ipykernel_8770/2616834694.py:2: SettingWithCopyWarning: \n",
      "A value is trying to be set on a copy of a slice from a DataFrame.\n",
      "Try using .loc[row_indexer,col_indexer] = value instead\n",
      "\n",
      "See the caveats in the documentation: https://pandas.pydata.org/pandas-docs/stable/user_guide/indexing.html#returning-a-view-versus-a-copy\n",
      "  new_df['Reaction Centers'] = None\n"
     ]
    },
    {
     "data": {
      "text/plain": [
       "(5504, 43)"
      ]
     },
     "execution_count": 18,
     "metadata": {},
     "output_type": "execute_result"
    }
   ],
   "source": [
    "new_df['Reactant Smiles'] = None\n",
    "new_df['Reaction Centers'] = None\n",
    "for index, row in new_df.iterrows():\n",
    "    new_df.at[index, 'Reactant Smiles'] = reactants_dataset2[reaction_id2.index(row['Reaction ID'])][0]\n",
    "    new_df.at[index, 'Reaction Centers'] = reaction_centers_dataset2[reaction_id2.index(row['Reaction ID'])]\n",
    "new_df.shape"
   ]
  },
  {
   "cell_type": "code",
   "execution_count": 19,
   "metadata": {},
   "outputs": [
    {
     "name": "stdout",
     "output_type": "stream",
     "text": [
      "Unique reactions in DataFrame: 15478\n",
      "Compounds left: 5504 5504\n",
      "Unique reactants: 4854\n"
     ]
    }
   ],
   "source": [
    "print(f'Unique reactions in DataFrame: {len(set(list(df[\"Reaction ID\"])))}')\n",
    "print('Compounds left:', len(reactants_dataset2), len(reaction_centers_dataset2))\n",
    "print('Unique reactants:', len(set(reduce(operator.concat, reactants_dataset2))))"
   ]
  },
  {
   "cell_type": "code",
   "execution_count": 20,
   "metadata": {},
   "outputs": [
    {
     "name": "stdout",
     "output_type": "stream",
     "text": [
      "/Users/hmm/PhD/Reaxys_Datasets/2022-05-06\n"
     ]
    },
    {
     "name": "stderr",
     "output_type": "stream",
     "text": [
      "  4%|█▍                                     | 177/4854 [00:00<00:11, 404.81it/s]"
     ]
    },
    {
     "name": "stdout",
     "output_type": "stream",
     "text": [
      "39349381 C=CCOC1=CC(=O)CCC1 [8] [5]\n",
      "39349380 C=CCOC1=CC(=O)CCC1 [10] [5]\n"
     ]
    },
    {
     "name": "stderr",
     "output_type": "stream",
     "text": [
      "  8%|██▉                                    | 367/4854 [00:00<00:09, 461.44it/s]"
     ]
    },
    {
     "name": "stdout",
     "output_type": "stream",
     "text": [
      "39349363 CC(C)(C)C(=O)OC1=CC(=O)CCC1 [11] [8]\n"
     ]
    },
    {
     "name": "stderr",
     "output_type": "stream",
     "text": [
      " 10%|███▋                                   | 465/4854 [00:01<00:09, 463.38it/s]"
     ]
    },
    {
     "name": "stdout",
     "output_type": "stream",
     "text": [
      "39349397 CC(C)(C)OC(=O)OC1=CC(=O)CCC1 [14] [9]\n",
      "39349398 CC(C)(C)OC(=O)OC1=CC(=O)CCC1 [12] [9]\n",
      "39349362 CC(C)(C)OC1=CC(=O)CCC1 [9] [6]\n",
      "50882863 CC(C)(C)n1ccn(C(C)(C)C)[cH+]1 [12] [5, 6]\n"
     ]
    },
    {
     "name": "stderr",
     "output_type": "stream",
     "text": [
      " 13%|████▉                                  | 619/4854 [00:01<00:08, 493.38it/s]"
     ]
    },
    {
     "name": "stdout",
     "output_type": "stream",
     "text": [
      "44704249 CC(C)=CCCC(C)=CCCC(C)=CCC1=C(OC(=O)OC(C)(C)C)CC(C)CC1=O [28] []\n",
      "53963158 CC(C)=CCOC1=CC(=O)CC(c2ccccc2)C1 [10] [7, 13, 14, 15, 16, 17]\n"
     ]
    },
    {
     "name": "stderr",
     "output_type": "stream",
     "text": [
      " 15%|█████▊                                 | 720/4854 [00:01<00:08, 478.88it/s]"
     ]
    },
    {
     "name": "stdout",
     "output_type": "stream",
     "text": [
      "47062678 CC(C)c1cccc(C(C)C)c1N1C=C(C(=O)c2ccccc2)N(c2c(C(C)C)cccc2C(C)C)C1 [36] [4, 5, 6, 13, 18, 19, 20, 21, 22, 29, 30, 31]\n",
      "2029549 CC1=C(C)CC(C)=C(C)C1 [4, 9] []\n",
      "55281492 CC1=C(C)N(C)[CH-]N1C [6] []\n",
      "29153271 CC1=C(C)N(CC(C)(C)C)CN1CC(C)(C)C [10] []\n",
      "56488404 CC1=C(C)N(c2c(C)cc(C)cc2C)CN1c1c(C)cc(C)cc1C [14] [8, 11, 19, 22]\n"
     ]
    },
    {
     "name": "stderr",
     "output_type": "stream",
     "text": [
      " 18%|███████                                | 873/4854 [00:01<00:08, 489.77it/s]"
     ]
    },
    {
     "name": "stdout",
     "output_type": "stream",
     "text": [
      "2832849 CCCC1CC(O)=CC(O)=C1C(=O)OCC [4, 7] [7]\n",
      "42347035 CCCCCCOC1=C(C#N)CSC1 [13] []\n"
     ]
    },
    {
     "name": "stderr",
     "output_type": "stream",
     "text": [
      " 22%|████████▍                             | 1082/4854 [00:02<00:07, 505.09it/s]"
     ]
    },
    {
     "name": "stdout",
     "output_type": "stream",
     "text": [
      "43381321 CCOC(=O)C1CC(Br)=NN1c1ncccc1Cl [6] [13, 14, 15]\n"
     ]
    },
    {
     "name": "stderr",
     "output_type": "stream",
     "text": [
      " 27%|██████████                            | 1287/4854 [00:02<00:07, 490.78it/s]"
     ]
    },
    {
     "name": "stdout",
     "output_type": "stream",
     "text": [
      "39349414 CCOC1=C(C)C(=O)CCC1 [8] []\n",
      "39349413 CCOC1=C(C)C(=O)CCC1 [10] []\n",
      "39349412 CCOC1=CC(=O)C(C)CC1 [10] [4]\n",
      "39349407 CCOC1=CC(=O)CC(c2ccccc2)C1 [15] [4, 10, 11, 12, 13, 14]\n",
      "42662360 CCOC1=CC(=O)CCC1 [7] [4]\n",
      "42662361 CCOC1=CC(=O)CCC1 [7] [4]\n",
      "42662359 CCOC1=CC(=O)CCC1 [7] [4]\n",
      "39349374 CCOC1=CC(=O)CCC1 [9] [4]\n"
     ]
    },
    {
     "name": "stderr",
     "output_type": "stream",
     "text": [
      " 40%|███████████████▎                      | 1948/4854 [00:04<00:05, 496.05it/s]"
     ]
    },
    {
     "name": "stdout",
     "output_type": "stream",
     "text": [
      "39349358 COC1=CC(=O)CCC1 [6] [3]\n",
      "55698244 COC1CC=CN=C1C [3] [4, 5]\n"
     ]
    },
    {
     "name": "stderr",
     "output_type": "stream",
     "text": [
      " 58%|█████████████████████▊                | 2792/4854 [00:05<00:04, 490.99it/s]"
     ]
    },
    {
     "name": "stdout",
     "output_type": "stream",
     "text": [
      "46642675 Cc1cc(C)c(N2C=CN(c3c(C)cc(C)cc3C)C2)c(C)c1 [19] [2, 7, 8, 13, 16, 22]\n",
      "5047910 Cc1cc(C)c(N2CN(c3c(C)cc(C)cc3C)C(Cl)=C2Cl)c(C)c1 [7] [2, 12, 15, 24]\n"
     ]
    },
    {
     "name": "stderr",
     "output_type": "stream",
     "text": [
      " 60%|██████████████████████▋               | 2892/4854 [00:06<00:04, 489.50it/s]"
     ]
    },
    {
     "name": "stdout",
     "output_type": "stream",
     "text": [
      "24593717 Cc1cc2c(n1CC(C)C)CNN=C2 [10] [2, 13]\n"
     ]
    },
    {
     "name": "stderr",
     "output_type": "stream",
     "text": [
      " 77%|█████████████████████████████▏        | 3734/4854 [00:07<00:02, 484.73it/s]"
     ]
    },
    {
     "name": "stdout",
     "output_type": "stream",
     "text": [
      "2216302 Ic1cccc2c1NCC2 [9] [2, 3, 4]\n"
     ]
    },
    {
     "name": "stderr",
     "output_type": "stream",
     "text": [
      " 88%|█████████████████████████████████▍    | 4267/4854 [00:08<00:01, 445.70it/s]"
     ]
    },
    {
     "name": "stdout",
     "output_type": "stream",
     "text": [
      "39349357 O=C1C=C(N2CCCC2)CCC1 [9] [2]\n",
      "39349383 O=C1C=C(OCc2ccccc2)CCC1 [12] [2, 7, 8, 9, 10, 11]\n",
      "39349392 O=C1C=C(Oc2ccccc2)CCC1 [11] [2, 6, 7, 8, 9, 10]\n",
      "39349355 O=C1C=C(Sc2ccccc2)CCC1 [13] [2, 6, 7, 8, 9, 10]\n",
      "53678217 O=C1CCCCN1 [2] []\n",
      "51616666 O=CC1Cc2ccccc2S1 [3] [5, 6, 7, 8]\n"
     ]
    },
    {
     "name": "stderr",
     "output_type": "stream",
     "text": [
      "100%|██████████████████████████████████████| 4854/4854 [00:10<00:00, 467.35it/s]"
     ]
    },
    {
     "name": "stdout",
     "output_type": "stream",
     "text": [
      "/Users/hmm/PhD/JupyterNotebooks\n"
     ]
    },
    {
     "name": "stderr",
     "output_type": "stream",
     "text": [
      "\n"
     ]
    }
   ],
   "source": [
    "# Write data set to file - with some cleaning for reactant and product EAS sites locations\n",
    "%cd {local_data}\n",
    "\n",
    "f = open('./reaxys_chlorination_dataset2.txt','w')\n",
    "\n",
    "for index, reaction in tqdm(new_df.groupby(['Reactant Smiles'])): \n",
    "    if len(reaction) > 1:\n",
    "        reaction_id = []\n",
    "        reaction_smiles = []\n",
    "        reaction_centers = []\n",
    "        for reac_id, reac_smi, rc in zip(reaction['Reaction ID'], reaction['Reactant Smiles'], reaction['Reaction Centers']):\n",
    "            write_okay = True\n",
    "            measured_atoms = rc\n",
    "            measured_atoms = find_identical_atoms(reac_smi, measured_atoms)\n",
    "            rdkit_mol = Chem.MolFromSmiles(reac_smi)\n",
    "            eas_sites = sorted(locate_sites(rdkit_mol))\n",
    "            for matom in measured_atoms:\n",
    "                if matom not in eas_sites:\n",
    "                    print(reac_id, reac_smi, measured_atoms, eas_sites) # reaction does not obey the reaction rules\n",
    "                    write_okay = False\n",
    "                    # raise ValueError('Measured site not in located EAS sites')\n",
    "                    break\n",
    "            if not write_okay:\n",
    "                continue\n",
    "            reaction_id.append(str(reac_id))\n",
    "            reaction_smiles.append(reac_smi)\n",
    "            reaction_centers.extend(rc)\n",
    "        \n",
    "        if len(reaction_smiles):\n",
    "            write_okay = True\n",
    "            reaction_id = '_'.join(reaction_id)\n",
    "            reaction_smiles = reaction_smiles[0]\n",
    "            reaction_centers = ','.join(map(str, np.unique(reaction_centers)))\n",
    "    else:\n",
    "        reaction_id = reaction['Reaction ID'].values[0]\n",
    "        reaction_smiles = reaction['Reactant Smiles'].values[0]\n",
    "        reaction_centers = reaction['Reaction Centers'].values[0]\n",
    "\n",
    "        write_okay = True\n",
    "        measured_atoms = reaction_centers\n",
    "        measured_atoms = find_identical_atoms(reaction_smiles, measured_atoms)\n",
    "        rdkit_mol = Chem.MolFromSmiles(reaction_smiles)\n",
    "        eas_sites = sorted(locate_sites(rdkit_mol))\n",
    "        for matom in measured_atoms:\n",
    "            if matom not in eas_sites:\n",
    "                print(reaction_id, reaction_smiles, measured_atoms, eas_sites) # reaction does not obey the reaction rules\n",
    "                write_okay = False\n",
    "                # raise ValueError('Measured site not in located EAS sites')\n",
    "                break\n",
    "\n",
    "        reaction_centers = ','.join(map(str, np.unique(reaction_centers)))\n",
    "    \n",
    "    if write_okay:\n",
    "        f.write(f\"{reaction_id}    {reaction_smiles}    {reaction_centers}\\n\")\n",
    "f.close()\n",
    "\n",
    "%cd {work_dir}"
   ]
  },
  {
   "cell_type": "code",
   "execution_count": 21,
   "metadata": {},
   "outputs": [],
   "source": [
    "def read_input(smiles_filename, exam=True):\n",
    "\n",
    "    f = open(smiles_filename, \"r\")\n",
    "\n",
    "    names_list = []\n",
    "    input_smiles_list = []\n",
    "    atom_measured_list = []\n",
    "    for line in f:\n",
    "        words = line.split()\n",
    "        names_list.append(words[0])\n",
    "        input_smiles_list.append(words[1])\n",
    "\n",
    "        if exam:\n",
    "            atom_measured = [int(x) for x in words[2].split(\",\")]\n",
    "            atom_measured = find_identical_atoms(words[1], atom_measured)\n",
    "            atom_measured_list.append(atom_measured)\n",
    "        else:\n",
    "            atom_measured_list.append(None)\n",
    "    f.close()\n",
    "\n",
    "    return names_list, input_smiles_list, atom_measured_list"
   ]
  },
  {
   "cell_type": "code",
   "execution_count": 22,
   "metadata": {},
   "outputs": [
    {
     "name": "stdout",
     "output_type": "stream",
     "text": [
      "/Users/hmm/PhD/Reaxys_Datasets/2022-05-06\n",
      "/Users/hmm/PhD/JupyterNotebooks\n"
     ]
    }
   ],
   "source": [
    "%cd {local_data}\n",
    "names_list, input_smiles_list, atom_measured_list = read_input('reaxys_chlorination_dataset2.txt')\n",
    "%cd {work_dir}"
   ]
  },
  {
   "cell_type": "code",
   "execution_count": 23,
   "metadata": {},
   "outputs": [
    {
     "data": {
      "text/plain": [
       "4824"
      ]
     },
     "execution_count": 23,
     "metadata": {},
     "output_type": "execute_result"
    }
   ],
   "source": [
    "len(names_list)"
   ]
  },
  {
   "cell_type": "code",
   "execution_count": 24,
   "metadata": {},
   "outputs": [
    {
     "data": {
      "text/html": [
       "<div>\n",
       "<style scoped>\n",
       "    .dataframe tbody tr th:only-of-type {\n",
       "        vertical-align: middle;\n",
       "    }\n",
       "\n",
       "    .dataframe tbody tr th {\n",
       "        vertical-align: top;\n",
       "    }\n",
       "\n",
       "    .dataframe thead th {\n",
       "        text-align: right;\n",
       "    }\n",
       "</style>\n",
       "<table border=\"1\" class=\"dataframe\">\n",
       "  <thead>\n",
       "    <tr style=\"text-align: right;\">\n",
       "      <th></th>\n",
       "      <th>ID</th>\n",
       "      <th>Reactant</th>\n",
       "      <th>Rxt_Site</th>\n",
       "      <th>Conflict</th>\n",
       "    </tr>\n",
       "  </thead>\n",
       "  <tbody>\n",
       "  </tbody>\n",
       "</table>\n",
       "</div>"
      ],
      "text/plain": [
       "Empty DataFrame\n",
       "Columns: [ID, Reactant, Rxt_Site, Conflict]\n",
       "Index: []"
      ]
     },
     "execution_count": 24,
     "metadata": {},
     "output_type": "execute_result"
    }
   ],
   "source": [
    "reactants_dataset2 = []\n",
    "reaction_centers_dataset2 = []\n",
    "reaction_id2 = []\n",
    "conflicting = []\n",
    "total_df = pd.DataFrame(columns = (\"ID\", \"Reactant\", \"Rxt_Site\", \"Conflict\"))\n",
    "total_df"
   ]
  },
  {
   "cell_type": "code",
   "execution_count": 25,
   "metadata": {},
   "outputs": [
    {
     "name": "stderr",
     "output_type": "stream",
     "text": [
      "  3%|█▎                                     | 531/15478 [00:08<03:16, 75.97it/s][10:49:38] Explicit valence for atom # 1 N, 5, is greater than permitted\n",
      "  7%|██▋                                   | 1082/15478 [00:25<07:37, 31.47it/s][10:49:55] Explicit valence for atom # 1 Cl, 2, is greater than permitted\n",
      " 13%|█████                                 | 2046/15478 [00:44<04:24, 50.76it/s][10:50:14] Explicit valence for atom # 1 N, 5, is greater than permitted\n",
      " 13%|█████                                 | 2077/15478 [00:44<04:54, 45.50it/s][10:50:14] Explicit valence for atom # 1 B, 4, is greater than permitted\n",
      " 22%|████████▎                             | 3404/15478 [01:55<09:43, 20.69it/s][10:51:25] Explicit valence for atom # 3 C, 5, is greater than permitted\n",
      "[10:51:25] Explicit valence for atom # 3 C, 5, is greater than permitted\n",
      "[10:51:25] SMILES Parse Error: unclosed ring for input: 'ClC1=CC=C(C=C1)[Pt]123[Cl][Pt]4([Cl]1)(C1=CC=C(Cl)C=C1)[CH]1=[CH]4CCC(=C)CCC1'\n",
      "[10:51:25] SMILES Parse Error: unclosed ring for input: 'C=C1CCC[CH]2=[CH]3CC1'\n",
      "[10:51:25] Explicit valence for atom # 3 C, 5, is greater than permitted\n",
      "[10:51:25] Explicit valence for atom # 3 C, 5, is greater than permitted\n",
      "[10:51:25] SMILES Parse Error: unclosed ring for input: 'ClC1=CC=C(C=C1)[Pt]123[Cl][Pt]4([Cl]1)(C1=CC=C(Cl)C=C1)[CH]1=[CH]4CCC(=C)CCC1'\n",
      "[10:51:25] SMILES Parse Error: unclosed ring for input: 'C=C1CCC[CH]2=[CH]3CC1'\n",
      "[10:51:25] Explicit valence for atom # 1 C, 5, is greater than permitted\n",
      "[10:51:25] Explicit valence for atom # 1 C, 5, is greater than permitted\n",
      "[10:51:25] Explicit valence for atom # 1 C, 5, is greater than permitted\n",
      "[10:51:25] Explicit valence for atom # 1 C, 5, is greater than permitted\n",
      "[10:51:25] Explicit valence for atom # 1 C, 5, is greater than permitted\n",
      "[10:51:25] Explicit valence for atom # 1 C, 5, is greater than permitted\n",
      "[10:51:25] Explicit valence for atom # 1 C, 5, is greater than permitted\n",
      "[10:51:25] Explicit valence for atom # 1 C, 5, is greater than permitted\n",
      "[10:51:25] Explicit valence for atom # 1 C, 5, is greater than permitted\n",
      "[10:51:25] Explicit valence for atom # 1 C, 5, is greater than permitted\n",
      "[10:51:25] Explicit valence for atom # 1 C, 5, is greater than permitted\n",
      "[10:51:25] Explicit valence for atom # 1 C, 5, is greater than permitted\n",
      "[10:51:25] Explicit valence for atom # 1 C, 5, is greater than permitted\n",
      "[10:51:25] Explicit valence for atom # 1 C, 5, is greater than permitted\n",
      "[10:51:25] Explicit valence for atom # 1 C, 5, is greater than permitted\n",
      " 22%|████████▍                             | 3439/15478 [01:56<03:45, 53.36it/s][10:51:25] Explicit valence for atom # 2 N, 4, is greater than permitted\n",
      "[10:51:25] Explicit valence for atom # 2 N, 4, is greater than permitted\n",
      "[10:51:25] Explicit valence for atom # 2 N, 4, is greater than permitted\n",
      "[10:51:25] Explicit valence for atom # 2 N, 4, is greater than permitted\n",
      "[10:51:25] Explicit valence for atom # 2 N, 4, is greater than permitted\n",
      "[10:51:25] Explicit valence for atom # 2 N, 4, is greater than permitted\n",
      "[10:51:25] Explicit valence for atom # 2 N, 4, is greater than permitted\n",
      "[10:51:25] Explicit valence for atom # 2 N, 4, is greater than permitted\n",
      " 22%|████████▍                             | 3447/15478 [01:56<03:29, 57.55it/s][10:51:26] SMILES Parse Error: unclosed ring for input: 'Br[Cu+]123[N]4=CC=CC=C4C4=[N]1C=CC=C4'\n",
      "[10:51:26] SMILES Parse Error: unclosed ring for input: 'C1=CC(C4=CC=CC=[N]24)=[N]3C=C1'\n",
      "[10:51:26] Explicit valence for atom # 21 N, 4, is greater than permitted\n",
      " 22%|████████▍                             | 3462/15478 [01:56<02:35, 77.34it/s][10:51:26] Explicit valence for atom # 3 N, 4, is greater than permitted\n",
      "[10:51:26] Explicit valence for atom # 3 N, 4, is greater than permitted\n",
      "[10:51:26] Explicit valence for atom # 3 N, 4, is greater than permitted\n",
      "[10:51:26] Explicit valence for atom # 3 N, 4, is greater than permitted\n",
      " 22%|████████▌                             | 3472/15478 [01:56<03:16, 61.14it/s][10:51:26] Explicit valence for atom # 8 N, 4, is greater than permitted\n",
      "[10:51:26] WARNING: not removing hydrogen atom without neighbors\n",
      "[10:51:26] WARNING: not removing hydrogen atom without neighbors\n",
      "[10:51:26] WARNING: not removing hydrogen atom without neighbors\n",
      "[10:51:26] WARNING: not removing hydrogen atom without neighbors\n",
      "[10:51:26] WARNING: not removing hydrogen atom without neighbors\n",
      "[10:51:26] WARNING: not removing hydrogen atom without neighbors\n",
      "[10:51:26] Explicit valence for atom # 4 H, 2, is greater than permitted\n",
      " 22%|████████▌                             | 3480/15478 [01:56<05:15, 38.04it/s][10:51:26] Explicit valence for atom # 4 N, 4, is greater than permitted\n",
      " 23%|████████▌                             | 3493/15478 [01:57<04:58, 40.21it/s][10:51:27] Explicit valence for atom # 0 O, 4, is greater than permitted\n",
      "[10:51:27] Explicit valence for atom # 10 Cl, 2, is greater than permitted\n",
      "[10:51:27] Explicit valence for atom # 10 Cl, 2, is greater than permitted\n",
      "[10:51:27] Explicit valence for atom # 3 O, 4, is greater than permitted\n",
      "[10:51:27] Explicit valence for atom # 16 O, 3, is greater than permitted\n",
      " 23%|████████▌                             | 3500/15478 [01:57<04:24, 45.33it/s][10:51:27] Explicit valence for atom # 7 O, 3, is greater than permitted\n",
      "[10:51:27] Explicit valence for atom # 7 O, 3, is greater than permitted\n",
      " 23%|████████▋                             | 3526/15478 [01:57<02:55, 68.05it/s][10:51:27] SMILES Parse Error: unclosed ring for input: 'CC(C)[O-][Ti+4]123([O-]C(C)C)[O-]CC4=CC=CC=[N]14'\n",
      "[10:51:27] SMILES Parse Error: unclosed ring for input: 'C([O-]2)C1=CC=CC=[N]31'\n",
      "[10:51:27] SMILES Parse Error: unclosed ring for input: 'ClC1=CC(Cl)=C([O-][Ti+4]234([O-]C5=C(Cl)C=C(Cl)C=C5Cl)[O-]CC5=CC=CC=[N]25)C(Cl)=C1'\n",
      "[10:51:27] SMILES Parse Error: unclosed ring for input: 'C([O-]3)C1=CC=CC=[N]41'\n",
      " 23%|████████▋                             | 3534/15478 [01:57<03:24, 58.44it/s][10:51:27] Explicit valence for atom # 3 N, 4, is greater than permitted\n",
      " 26%|█████████▉                            | 4057/15478 [02:11<03:50, 49.62it/s][10:51:41] Explicit valence for atom # 2 N, 4, is greater than permitted\n",
      " 28%|██████████▊                           | 4407/15478 [02:36<07:16, 25.36it/s][10:52:06] Explicit valence for atom # 1 B, 4, is greater than permitted\n",
      " 30%|███████████▍                          | 4660/15478 [02:40<03:35, 50.15it/s][10:52:10] Explicit valence for atom # 9 N, 5, is greater than permitted\n",
      " 34%|████████████▊                         | 5232/15478 [02:53<03:14, 52.61it/s][10:52:23] Explicit valence for atom # 18 O, 4, is greater than permitted\n",
      "[10:52:23] Explicit valence for atom # 19 O, 4, is greater than permitted\n",
      "[10:52:23] Explicit valence for atom # 18 O, 4, is greater than permitted\n",
      "[10:52:23] Explicit valence for atom # 19 O, 4, is greater than permitted\n",
      " 37%|█████████████▉                        | 5681/15478 [03:05<02:28, 65.78it/s][10:52:35] Explicit valence for atom # 8 B, 4, is greater than permitted\n",
      "[10:52:35] Explicit valence for atom # 16 B, 4, is greater than permitted\n",
      "[10:52:35] Explicit valence for atom # 1 B, 4, is greater than permitted\n",
      "[10:52:35] Explicit valence for atom # 1 B, 4, is greater than permitted\n",
      "[10:52:35] Explicit valence for atom # 1 B, 4, is greater than permitted\n",
      "[10:52:35] Explicit valence for atom # 7 B, 4, is greater than permitted\n",
      "[10:52:35] Explicit valence for atom # 1 B, 4, is greater than permitted\n",
      "[10:52:35] Explicit valence for atom # 6 B, 4, is greater than permitted\n",
      "[10:52:35] Explicit valence for atom # 8 B, 4, is greater than permitted\n",
      "[10:52:35] Explicit valence for atom # 1 B, 4, is greater than permitted\n",
      "[10:52:35] Explicit valence for atom # 1 B, 4, is greater than permitted\n",
      " 37%|█████████████▉                        | 5698/15478 [03:06<01:51, 87.94it/s][10:52:35] Explicit valence for atom # 15 B, 4, is greater than permitted\n",
      "[10:52:35] Explicit valence for atom # 1 B, 4, is greater than permitted\n",
      " 38%|██████████████▎                       | 5838/15478 [03:08<02:51, 56.12it/s][10:52:38] Explicit valence for atom # 7 N, 4, is greater than permitted\n",
      "[10:52:38] Explicit valence for atom # 7 N, 4, is greater than permitted\n",
      " 42%|██████████████▎                   | 6516/15478 [2:07:45<2:47:58,  1.12s/it][12:57:15] Explicit valence for atom # 1 B, 4, is greater than permitted\n",
      "[12:57:15] Explicit valence for atom # 1 B, 4, is greater than permitted\n",
      "[12:57:15] Explicit valence for atom # 1 B, 4, is greater than permitted\n",
      " 44%|███████████████▋                    | 6762/15478 [2:07:48<02:24, 60.11it/s][12:57:18] Explicit valence for atom # 4 N, 4, is greater than permitted\n",
      " 46%|████████████████▋                   | 7166/15478 [2:07:56<04:06, 33.71it/s][12:57:26] WARNING: not removing hydrogen atom without neighbors\n",
      " 49%|█████████████████▋                  | 7591/15478 [2:09:33<03:58, 33.02it/s][12:59:03] Explicit valence for atom # 1 B, 4, is greater than permitted\n",
      "[12:59:03] Explicit valence for atom # 1 B, 4, is greater than permitted\n",
      " 49%|█████████████████▋                  | 7628/15478 [2:09:34<02:54, 44.94it/s][12:59:04] Explicit valence for atom # 6 C, 5, is greater than permitted\n",
      "[12:59:04] Explicit valence for atom # 6 C, 5, is greater than permitted\n",
      " 50%|██████████████████▏                 | 7815/15478 [2:09:37<02:13, 57.36it/s][12:59:06] Explicit valence for atom # 0 O, 3, is greater than permitted\n",
      "[12:59:06] Explicit valence for atom # 5 N, 4, is greater than permitted\n",
      " 52%|██████████████████▋                 | 8009/15478 [2:09:41<02:06, 58.86it/s][12:59:11] Explicit valence for atom # 8 Cl, 2, is greater than permitted\n",
      "[12:59:11] Explicit valence for atom # 8 Cl, 2, is greater than permitted\n",
      "[12:59:11] Explicit valence for atom # 8 Cl, 2, is greater than permitted\n",
      "[12:59:11] Explicit valence for atom # 8 Br, 2, is greater than permitted\n",
      "[12:59:11] Explicit valence for atom # 8 Cl, 2, is greater than permitted\n",
      "[12:59:11] Explicit valence for atom # 8 Br, 2, is greater than permitted\n",
      " 53%|█████████████████▍               | 8170/15478 [2:41:54<22:19:56, 11.00s/it][13:31:24] Explicit valence for atom # 6 C, 5, is greater than permitted\n",
      "[13:31:24] Explicit valence for atom # 6 C, 5, is greater than permitted\n",
      " 55%|███████████████████▋                | 8453/15478 [2:46:43<02:15, 52.01it/s][13:36:13] Explicit valence for atom # 1 B, 4, is greater than permitted\n",
      "[13:36:13] Explicit valence for atom # 1 B, 4, is greater than permitted\n",
      " 60%|█████████████████████▌              | 9291/15478 [2:46:59<01:29, 69.32it/s][13:36:28] Explicit valence for atom # 5 N, 4, is greater than permitted\n",
      " 69%|████████████████████████▎          | 10746/15478 [2:48:10<01:13, 64.72it/s][13:37:40] Explicit valence for atom # 5 C, 5, is greater than permitted\n",
      "[13:37:40] Explicit valence for atom # 5 C, 5, is greater than permitted\n",
      "[13:37:40] Explicit valence for atom # 7 N, 4, is greater than permitted\n",
      " 70%|████████████████████████▌          | 10849/15478 [2:48:11<01:01, 75.08it/s][13:37:41] WARNING: not removing hydrogen atom without neighbors\n",
      " 71%|████████████████████████▉          | 11034/15478 [2:48:14<01:58, 37.44it/s][13:37:44] WARNING: not removing hydrogen atom without neighbors\n",
      "[13:37:44] Explicit valence for atom # 1 B, 4, is greater than permitted\n",
      " 74%|█████████████████████████▊         | 11402/15478 [2:48:19<00:44, 91.36it/s][13:37:50] Explicit valence for atom # 3 N, 5, is greater than permitted\n",
      "[13:37:50] Explicit valence for atom # 1 B, 4, is greater than permitted\n",
      " 76%|██████████████████████████▍        | 11716/15478 [2:48:24<00:47, 79.13it/s][13:37:54] Explicit valence for atom # 1 B, 4, is greater than permitted\n",
      " 77%|██████████████████████████▊        | 11847/15478 [2:48:27<00:41, 87.92it/s][13:37:56] Explicit valence for atom # 1 B, 4, is greater than permitted\n",
      "[13:37:56] Explicit valence for atom # 1 B, 4, is greater than permitted\n",
      " 78%|███████████████████████████▏       | 12032/15478 [2:48:29<01:04, 53.12it/s][13:37:59] Explicit valence for atom # 1 B, 4, is greater than permitted\n",
      " 79%|███████████████████████████▌       | 12187/15478 [2:48:32<00:43, 74.80it/s][13:38:01] Explicit valence for atom # 6 B, 4, is greater than permitted\n",
      "[13:38:01] Explicit valence for atom # 6 B, 4, is greater than permitted\n",
      " 81%|████████████████████████████▎      | 12510/15478 [2:48:35<00:32, 91.82it/s][13:38:05] Explicit valence for atom # 10 N, 4, is greater than permitted\n",
      " 83%|████████████████████████████▉      | 12811/15478 [2:48:40<00:33, 78.45it/s][13:38:10] Explicit valence for atom # 6 C, 5, is greater than permitted\n",
      "[13:38:10] Explicit valence for atom # 10 C, 5, is greater than permitted\n",
      "[13:38:10] Explicit valence for atom # 10 C, 5, is greater than permitted\n",
      " 83%|████████████████████████████▉      | 12824/15478 [2:48:40<00:32, 81.49it/s][13:38:10] Explicit valence for atom # 6 N, 4, is greater than permitted\n",
      "[13:38:10] Explicit valence for atom # 6 N, 4, is greater than permitted\n",
      "[13:38:10] Explicit valence for atom # 5 N, 4, is greater than permitted\n",
      "[13:38:10] Explicit valence for atom # 5 N, 4, is greater than permitted\n",
      " 83%|█████████████████████████████▏     | 12900/15478 [2:48:42<01:05, 39.46it/s][13:38:12] Explicit valence for atom # 6 N, 4, is greater than permitted\n",
      "[13:38:12] Explicit valence for atom # 6 N, 4, is greater than permitted\n",
      " 88%|██████████████████████████████▋    | 13547/15478 [2:48:50<00:22, 85.50it/s][13:38:20] Explicit valence for atom # 13 N, 4, is greater than permitted\n",
      " 90%|███████████████████████████████▍   | 13910/15478 [2:49:24<00:51, 30.22it/s][13:38:54] Explicit valence for atom # 13 O, 4, is greater than permitted\n",
      " 90%|███████████████████████████████▍   | 13919/15478 [2:49:25<00:43, 35.85it/s][13:38:54] Explicit valence for atom # 1 B, 4, is greater than permitted\n",
      " 92%|████████████████████████████████▏  | 14222/15478 [2:53:03<04:17,  4.88it/s][13:42:33] Explicit valence for atom # 1 B, 4, is greater than permitted\n",
      " 98%|██████████████████████████████████▎| 15168/15478 [2:53:39<00:06, 48.89it/s][13:43:09] Explicit valence for atom # 1 B, 4, is greater than permitted\n",
      "100%|███████████████████████████████████| 15478/15478 [2:53:43<00:00,  1.48it/s]\n"
     ]
    }
   ],
   "source": [
    "# Iterate over the reaction list and create an output that gives the following:\n",
    "# For each reaction, the rxt ID + reactant + reaction site + conflicting (T/F)\n",
    "\n",
    "reactants_dataset2 = []\n",
    "reaction_centers_dataset2 = []\n",
    "reaction_id2 = []\n",
    "conflicting = []\n",
    "\n",
    "for k, reaction in tqdm(df.groupby(['Reaction ID'])):\n",
    "    reactants = []\n",
    "    reaction_centers = []\n",
    "    for idx, exp_obs in reaction.iterrows():\n",
    "        rxn_smiles = exp_obs['Reaction']\n",
    "        if rxn_smiles is np.nan:\n",
    "           continue\n",
    "\n",
    "        rxn_reactants = rxn_smiles.split('>>')[0].split('.')\n",
    "        rxn_products = rxn_smiles.split('>>')[1].split('.')\n",
    "\n",
    "        reac_mols, reac_smiles = get_reps2(rxn_reactants)\n",
    "        prod_mols, prod_smiles = get_reps2(rxn_products)\n",
    "\n",
    "        for reac_mol, reac_smi in zip(reac_mols, reac_smiles):\n",
    "            reaction_okay = False\n",
    "            for prod_mol, prod_smi in zip(prod_mols, prod_smiles):\n",
    "                \n",
    "                if reac_smi == prod_smi:\n",
    "                    continue\n",
    "                \n",
    "                try:\n",
    "                    rc = get_site_selectivity(reac_mol, prod_mol)\n",
    "                except:\n",
    "                    continue\n",
    "                \n",
    "                reaction_centers.extend(rc)\n",
    "                reaction_okay = True\n",
    "                \n",
    "            if reaction_okay and reac_smi not in reactants:\n",
    "                reactants.append(reac_smi)\n",
    "        reaction_centers = np.unique(reaction_centers).tolist()\n",
    "\n",
    "    if len(reactants) == 1 and len(reaction_centers):\n",
    "        reactants_dataset2.append(reactants[0])\n",
    "        reaction_centers_dataset2.append(reaction_centers)\n",
    "        reaction_id2.append(k)\n",
    "        conflicting.append(False)"
   ]
  },
  {
   "cell_type": "code",
   "execution_count": 26,
   "metadata": {},
   "outputs": [
    {
     "data": {
      "text/plain": [
       "(5504, 5504, 5504, 5504)"
      ]
     },
     "execution_count": 26,
     "metadata": {},
     "output_type": "execute_result"
    }
   ],
   "source": [
    "len(reactants_dataset2) , len(reaction_centers_dataset2), len(reaction_id2), len(conflicting)"
   ]
  },
  {
   "cell_type": "code",
   "execution_count": 27,
   "metadata": {},
   "outputs": [
    {
     "data": {
      "text/html": [
       "<div>\n",
       "<style scoped>\n",
       "    .dataframe tbody tr th:only-of-type {\n",
       "        vertical-align: middle;\n",
       "    }\n",
       "\n",
       "    .dataframe tbody tr th {\n",
       "        vertical-align: top;\n",
       "    }\n",
       "\n",
       "    .dataframe thead th {\n",
       "        text-align: right;\n",
       "    }\n",
       "</style>\n",
       "<table border=\"1\" class=\"dataframe\">\n",
       "  <thead>\n",
       "    <tr style=\"text-align: right;\">\n",
       "      <th></th>\n",
       "      <th>ID</th>\n",
       "      <th>Reactant</th>\n",
       "      <th>Rxt_Site</th>\n",
       "      <th>Conflict</th>\n",
       "    </tr>\n",
       "  </thead>\n",
       "  <tbody>\n",
       "    <tr>\n",
       "      <th>0</th>\n",
       "      <td>10002925</td>\n",
       "      <td>CC(C)(C)OC(=O)c1cn(-c2ccc(Cl)cc2)c(-c2ccc(Cl)c...</td>\n",
       "      <td>[8]</td>\n",
       "      <td>False</td>\n",
       "    </tr>\n",
       "    <tr>\n",
       "      <th>1</th>\n",
       "      <td>10023067</td>\n",
       "      <td>COc1cccc(N)n1</td>\n",
       "      <td>[3, 5]</td>\n",
       "      <td>False</td>\n",
       "    </tr>\n",
       "    <tr>\n",
       "      <th>2</th>\n",
       "      <td>10026626</td>\n",
       "      <td>Fc1cccnc1F</td>\n",
       "      <td>[2]</td>\n",
       "      <td>False</td>\n",
       "    </tr>\n",
       "    <tr>\n",
       "      <th>3</th>\n",
       "      <td>10027100</td>\n",
       "      <td>Fc1ncccc1Cl</td>\n",
       "      <td>[5]</td>\n",
       "      <td>False</td>\n",
       "    </tr>\n",
       "    <tr>\n",
       "      <th>4</th>\n",
       "      <td>10027717</td>\n",
       "      <td>Fc1ccccn1</td>\n",
       "      <td>[2]</td>\n",
       "      <td>False</td>\n",
       "    </tr>\n",
       "    <tr>\n",
       "      <th>...</th>\n",
       "      <td>...</td>\n",
       "      <td>...</td>\n",
       "      <td>...</td>\n",
       "      <td>...</td>\n",
       "    </tr>\n",
       "    <tr>\n",
       "      <th>5499</th>\n",
       "      <td>9993498</td>\n",
       "      <td>CCN(CC)C(=O)Oc1cccc(I)c1</td>\n",
       "      <td>[14]</td>\n",
       "      <td>False</td>\n",
       "    </tr>\n",
       "    <tr>\n",
       "      <th>5500</th>\n",
       "      <td>9993501</td>\n",
       "      <td>CCN(CC)C(=O)Oc1cccc(Br)c1</td>\n",
       "      <td>[14]</td>\n",
       "      <td>False</td>\n",
       "    </tr>\n",
       "    <tr>\n",
       "      <th>5501</th>\n",
       "      <td>9993991</td>\n",
       "      <td>CC(C)(C)OC(=O)Oc1ccc2cc[nH]c2c1</td>\n",
       "      <td>[12]</td>\n",
       "      <td>False</td>\n",
       "    </tr>\n",
       "    <tr>\n",
       "      <th>5502</th>\n",
       "      <td>9997597</td>\n",
       "      <td>CCCCCC(=O)c1c(O)cc(OC)cc1O</td>\n",
       "      <td>[10, 14]</td>\n",
       "      <td>False</td>\n",
       "    </tr>\n",
       "    <tr>\n",
       "      <th>5503</th>\n",
       "      <td>9997598</td>\n",
       "      <td>CCCCCC(=O)c1c(O)cc(OC)cc1O</td>\n",
       "      <td>[14]</td>\n",
       "      <td>False</td>\n",
       "    </tr>\n",
       "  </tbody>\n",
       "</table>\n",
       "<p>5504 rows × 4 columns</p>\n",
       "</div>"
      ],
      "text/plain": [
       "            ID                                           Reactant  Rxt_Site  \\\n",
       "0     10002925  CC(C)(C)OC(=O)c1cn(-c2ccc(Cl)cc2)c(-c2ccc(Cl)c...       [8]   \n",
       "1     10023067                                      COc1cccc(N)n1    [3, 5]   \n",
       "2     10026626                                         Fc1cccnc1F       [2]   \n",
       "3     10027100                                        Fc1ncccc1Cl       [5]   \n",
       "4     10027717                                          Fc1ccccn1       [2]   \n",
       "...        ...                                                ...       ...   \n",
       "5499   9993498                           CCN(CC)C(=O)Oc1cccc(I)c1      [14]   \n",
       "5500   9993501                          CCN(CC)C(=O)Oc1cccc(Br)c1      [14]   \n",
       "5501   9993991                    CC(C)(C)OC(=O)Oc1ccc2cc[nH]c2c1      [12]   \n",
       "5502   9997597                         CCCCCC(=O)c1c(O)cc(OC)cc1O  [10, 14]   \n",
       "5503   9997598                         CCCCCC(=O)c1c(O)cc(OC)cc1O      [14]   \n",
       "\n",
       "      Conflict  \n",
       "0        False  \n",
       "1        False  \n",
       "2        False  \n",
       "3        False  \n",
       "4        False  \n",
       "...        ...  \n",
       "5499     False  \n",
       "5500     False  \n",
       "5501     False  \n",
       "5502     False  \n",
       "5503     False  \n",
       "\n",
       "[5504 rows x 4 columns]"
      ]
     },
     "execution_count": 27,
     "metadata": {},
     "output_type": "execute_result"
    }
   ],
   "source": [
    "total_df = pd.DataFrame(columns = (\"ID\", \"Reactant\", \"Rxt_Site\", \"Conflict\"))\n",
    "total_df[\"ID\"] = reaction_id2\n",
    "total_df[\"Reactant\"] = reactants_dataset2\n",
    "total_df[\"Rxt_Site\"] = reaction_centers_dataset2\n",
    "total_df[\"Conflict\"] = conflicting\n",
    "total_df"
   ]
  },
  {
   "cell_type": "code",
   "execution_count": 28,
   "metadata": {},
   "outputs": [
    {
     "data": {
      "text/plain": [
       "'CC(C)(C)OC(=O)c1cn(-c2ccc(Cl)cc2)c(-c2ccc(Cl)cc2Cl)n1'"
      ]
     },
     "execution_count": 28,
     "metadata": {},
     "output_type": "execute_result"
    }
   ],
   "source": [
    "total_df[\"Reactant\"][0]"
   ]
  },
  {
   "cell_type": "code",
   "execution_count": 29,
   "metadata": {},
   "outputs": [
    {
     "name": "stderr",
     "output_type": "stream",
     "text": [
      "/var/folders/jp/w62zl0z932s8hz_k3b5m5wk80000gn/T/ipykernel_8770/4124123186.py:15: SettingWithCopyWarning: \n",
      "A value is trying to be set on a copy of a slice from a DataFrame\n",
      "\n",
      "See the caveats in the documentation: https://pandas.pydata.org/pandas-docs/stable/user_guide/indexing.html#returning-a-view-versus-a-copy\n",
      "  total_df[\"Conflict\"][react_iter] = True\n"
     ]
    },
    {
     "data": {
      "text/plain": [
       "900"
      ]
     },
     "execution_count": 29,
     "metadata": {},
     "output_type": "execute_result"
    }
   ],
   "source": [
    "## Get the previous list and for each entry look for:\n",
    "    # If another entry with same reactant && conflicting == False\n",
    "        ## If reaction sites are different, conflicting = True\n",
    "        \n",
    "for react_iter in range(len(total_df[\"Reactant\"])):\n",
    "    for compare_iter in range(len(total_df[\"Reactant\"])):\n",
    "        react = total_df[\"Reactant\"][react_iter]\n",
    "        compare = total_df[\"Reactant\"][compare_iter]\n",
    "    # If another entry with same reactant AND conflicting == False\n",
    "        if react == compare and react_iter != compare_iter and total_df[\"Conflict\"][react_iter] == False:\n",
    "            rxt_site = total_df[\"Rxt_Site\"][react_iter]\n",
    "            compare_site = total_df[\"Rxt_Site\"][compare_iter]\n",
    "            \n",
    "            if rxt_site != compare_site:\n",
    "                total_df[\"Conflict\"][react_iter] = True\n",
    "                \n",
    "sum(total_df[\"Conflict\"])"
   ]
  },
  {
   "cell_type": "code",
   "execution_count": 30,
   "metadata": {},
   "outputs": [
    {
     "data": {
      "text/plain": [
       "range(0, 5504)"
      ]
     },
     "execution_count": 30,
     "metadata": {},
     "output_type": "execute_result"
    }
   ],
   "source": [
    "range(len(total_df[\"Reactant\"]))"
   ]
  },
  {
   "cell_type": "code",
   "execution_count": 31,
   "metadata": {},
   "outputs": [],
   "source": [
    "conflicting_df = total_df.copy()\n",
    "conflicting_df = conflicting_df[conflicting_df.Conflict == True]\n",
    "conflicting_df = conflicting_df.sort_values(by = [\"Reactant\"])"
   ]
  },
  {
   "cell_type": "code",
   "execution_count": 32,
   "metadata": {},
   "outputs": [
    {
     "data": {
      "text/html": [
       "<div>\n",
       "<style scoped>\n",
       "    .dataframe tbody tr th:only-of-type {\n",
       "        vertical-align: middle;\n",
       "    }\n",
       "\n",
       "    .dataframe tbody tr th {\n",
       "        vertical-align: top;\n",
       "    }\n",
       "\n",
       "    .dataframe thead th {\n",
       "        text-align: right;\n",
       "    }\n",
       "</style>\n",
       "<table border=\"1\" class=\"dataframe\">\n",
       "  <thead>\n",
       "    <tr style=\"text-align: right;\">\n",
       "      <th></th>\n",
       "      <th>ID</th>\n",
       "      <th>Reactant</th>\n",
       "      <th>Rxt_Site</th>\n",
       "      <th>Conflict</th>\n",
       "    </tr>\n",
       "  </thead>\n",
       "  <tbody>\n",
       "    <tr>\n",
       "      <th>2631</th>\n",
       "      <td>39565104</td>\n",
       "      <td>Brc1ccc(-c2ccccn2)cc1</td>\n",
       "      <td>[3]</td>\n",
       "      <td>True</td>\n",
       "    </tr>\n",
       "    <tr>\n",
       "      <th>2304</th>\n",
       "      <td>37125432</td>\n",
       "      <td>Brc1ccc(-c2ccccn2)cc1</td>\n",
       "      <td>[3, 11]</td>\n",
       "      <td>True</td>\n",
       "    </tr>\n",
       "    <tr>\n",
       "      <th>1285</th>\n",
       "      <td>29236441</td>\n",
       "      <td>C=C(Cl)CNc1ccc([N+](=O)[O-])cc1</td>\n",
       "      <td>[13]</td>\n",
       "      <td>True</td>\n",
       "    </tr>\n",
       "    <tr>\n",
       "      <th>1286</th>\n",
       "      <td>29236442</td>\n",
       "      <td>C=C(Cl)CNc1ccc([N+](=O)[O-])cc1</td>\n",
       "      <td>[6, 13]</td>\n",
       "      <td>True</td>\n",
       "    </tr>\n",
       "    <tr>\n",
       "      <th>2584</th>\n",
       "      <td>39349381</td>\n",
       "      <td>C=CCOC1=CC(=O)CCC1</td>\n",
       "      <td>[8]</td>\n",
       "      <td>True</td>\n",
       "    </tr>\n",
       "    <tr>\n",
       "      <th>...</th>\n",
       "      <td>...</td>\n",
       "      <td>...</td>\n",
       "      <td>...</td>\n",
       "      <td>...</td>\n",
       "    </tr>\n",
       "    <tr>\n",
       "      <th>544</th>\n",
       "      <td>2189389</td>\n",
       "      <td>c1csc(-c2cccs2)c1</td>\n",
       "      <td>[1, 5, 7, 9]</td>\n",
       "      <td>True</td>\n",
       "    </tr>\n",
       "    <tr>\n",
       "      <th>3622</th>\n",
       "      <td>4726774</td>\n",
       "      <td>c1csc(-c2cccs2)c1</td>\n",
       "      <td>[1, 6, 7, 9]</td>\n",
       "      <td>True</td>\n",
       "    </tr>\n",
       "    <tr>\n",
       "      <th>3621</th>\n",
       "      <td>4726773</td>\n",
       "      <td>c1csc(-c2cccs2)c1</td>\n",
       "      <td>[1, 5, 7]</td>\n",
       "      <td>True</td>\n",
       "    </tr>\n",
       "    <tr>\n",
       "      <th>3690</th>\n",
       "      <td>47634166</td>\n",
       "      <td>c1cscn1</td>\n",
       "      <td>[1, 3]</td>\n",
       "      <td>True</td>\n",
       "    </tr>\n",
       "    <tr>\n",
       "      <th>4350</th>\n",
       "      <td>5255176</td>\n",
       "      <td>c1cscn1</td>\n",
       "      <td>[3]</td>\n",
       "      <td>True</td>\n",
       "    </tr>\n",
       "  </tbody>\n",
       "</table>\n",
       "<p>900 rows × 4 columns</p>\n",
       "</div>"
      ],
      "text/plain": [
       "            ID                         Reactant      Rxt_Site  Conflict\n",
       "2631  39565104            Brc1ccc(-c2ccccn2)cc1           [3]      True\n",
       "2304  37125432            Brc1ccc(-c2ccccn2)cc1       [3, 11]      True\n",
       "1285  29236441  C=C(Cl)CNc1ccc([N+](=O)[O-])cc1          [13]      True\n",
       "1286  29236442  C=C(Cl)CNc1ccc([N+](=O)[O-])cc1       [6, 13]      True\n",
       "2584  39349381               C=CCOC1=CC(=O)CCC1           [8]      True\n",
       "...        ...                              ...           ...       ...\n",
       "544    2189389                c1csc(-c2cccs2)c1  [1, 5, 7, 9]      True\n",
       "3622   4726774                c1csc(-c2cccs2)c1  [1, 6, 7, 9]      True\n",
       "3621   4726773                c1csc(-c2cccs2)c1     [1, 5, 7]      True\n",
       "3690  47634166                          c1cscn1        [1, 3]      True\n",
       "4350   5255176                          c1cscn1           [3]      True\n",
       "\n",
       "[900 rows x 4 columns]"
      ]
     },
     "execution_count": 32,
     "metadata": {},
     "output_type": "execute_result"
    }
   ],
   "source": [
    "conflicting_df"
   ]
  },
  {
   "cell_type": "code",
   "execution_count": 33,
   "metadata": {},
   "outputs": [],
   "source": [
    "#conflicting_df.sort_values(by = [\"Reactant\"]).to_csv(\"conflicts.csv\")"
   ]
  },
  {
   "cell_type": "code",
   "execution_count": 34,
   "metadata": {},
   "outputs": [
    {
     "name": "stdout",
     "output_type": "stream",
     "text": [
      "/Users/hmm/PhD/JupyterNotebooks\n"
     ]
    }
   ],
   "source": [
    "!pwd"
   ]
  },
  {
   "cell_type": "raw",
   "metadata": {},
   "source": [
    "for i_react in range(len(conflicting_df[\"Reactant\"])):\n",
    "    for i_compare in range(len(conflicting_df[\"Reactant\"])):\n",
    "        q = 0\n",
    "        if conflicting_df[\"Reactant\"].iloc[[i_react]] == conflicting_df[\"Reactant\"].iloc[[i_compare]]:\n",
    "            if len(conflicting_df[\"Rxt_Site\"].iloc[[i_react]]) < len(conflicting_df[\"Rxt_Site\"].iloc[[i_compare]]):\n",
    "                if conflicting_df[\"Rxt_Site\"].iloc[[i_react]] in conflicting_df[\"Rxt_Site\"].iloc[[i_compare]]:\n",
    "                    if conflicting_df[\"Conflict\"].iloc[[i_react]] == True :\n",
    "                        conflicting_df[\"Conflict\"].iloc[[i_react]] = False\n",
    "            elif conflicting_df[\"Rxt_Site\"].iloc[[i_compare]] in conflicting_df[\"Rxt_Site\"].iloc[[i_react]]:\n",
    "                if conflicting_df[\"Conflict\"].iloc[[i_compare]] == True :\n",
    "                    conflicting_df[\"Conflict\"].iloc[[i_compare]] = False\n",
    "conflicting_df"
   ]
  },
  {
   "cell_type": "code",
   "execution_count": 35,
   "metadata": {},
   "outputs": [
    {
     "data": {
      "text/plain": [
       "2631    Brc1ccc(-c2ccccn2)cc1\n",
       "Name: Reactant, dtype: object"
      ]
     },
     "execution_count": 35,
     "metadata": {},
     "output_type": "execute_result"
    }
   ],
   "source": [
    "i_react = 0\n",
    "conflicting_df[\"Reactant\"].iloc[[i_react]]"
   ]
  },
  {
   "cell_type": "code",
   "execution_count": 36,
   "metadata": {},
   "outputs": [
    {
     "data": {
      "text/plain": [
       "'39565104'"
      ]
     },
     "execution_count": 36,
     "metadata": {},
     "output_type": "execute_result"
    }
   ],
   "source": [
    "idx = pd.Index(conflicting_df)[0][0]\n",
    "idx"
   ]
  },
  {
   "cell_type": "code",
   "execution_count": 37,
   "metadata": {},
   "outputs": [
    {
     "data": {
      "text/plain": [
       "('39565104', 'Brc1ccc(-c2ccccn2)cc1', [3], True)"
      ]
     },
     "execution_count": 37,
     "metadata": {},
     "output_type": "execute_result"
    }
   ],
   "source": [
    "pd.Index(conflicting_df)[0]"
   ]
  },
  {
   "cell_type": "code",
   "execution_count": 38,
   "metadata": {
    "tags": []
   },
   "outputs": [
    {
     "data": {
      "text/html": [
       "<div>\n",
       "<style scoped>\n",
       "    .dataframe tbody tr th:only-of-type {\n",
       "        vertical-align: middle;\n",
       "    }\n",
       "\n",
       "    .dataframe tbody tr th {\n",
       "        vertical-align: top;\n",
       "    }\n",
       "\n",
       "    .dataframe thead th {\n",
       "        text-align: right;\n",
       "    }\n",
       "</style>\n",
       "<table border=\"1\" class=\"dataframe\">\n",
       "  <thead>\n",
       "    <tr style=\"text-align: right;\">\n",
       "      <th></th>\n",
       "      <th>ID</th>\n",
       "      <th>Reactant</th>\n",
       "      <th>Rxt_Site</th>\n",
       "      <th>Conflict</th>\n",
       "      <th>Not Subset</th>\n",
       "    </tr>\n",
       "  </thead>\n",
       "  <tbody>\n",
       "    <tr>\n",
       "      <th>2631</th>\n",
       "      <td>39565104</td>\n",
       "      <td>Brc1ccc(-c2ccccn2)cc1</td>\n",
       "      <td>[3]</td>\n",
       "      <td>True</td>\n",
       "      <td>False</td>\n",
       "    </tr>\n",
       "    <tr>\n",
       "      <th>2304</th>\n",
       "      <td>37125432</td>\n",
       "      <td>Brc1ccc(-c2ccccn2)cc1</td>\n",
       "      <td>[3, 11]</td>\n",
       "      <td>True</td>\n",
       "      <td>False</td>\n",
       "    </tr>\n",
       "    <tr>\n",
       "      <th>1285</th>\n",
       "      <td>29236441</td>\n",
       "      <td>C=C(Cl)CNc1ccc([N+](=O)[O-])cc1</td>\n",
       "      <td>[13]</td>\n",
       "      <td>True</td>\n",
       "      <td>False</td>\n",
       "    </tr>\n",
       "    <tr>\n",
       "      <th>1286</th>\n",
       "      <td>29236442</td>\n",
       "      <td>C=C(Cl)CNc1ccc([N+](=O)[O-])cc1</td>\n",
       "      <td>[6, 13]</td>\n",
       "      <td>True</td>\n",
       "      <td>False</td>\n",
       "    </tr>\n",
       "    <tr>\n",
       "      <th>2584</th>\n",
       "      <td>39349381</td>\n",
       "      <td>C=CCOC1=CC(=O)CCC1</td>\n",
       "      <td>[8]</td>\n",
       "      <td>True</td>\n",
       "      <td>False</td>\n",
       "    </tr>\n",
       "    <tr>\n",
       "      <th>...</th>\n",
       "      <td>...</td>\n",
       "      <td>...</td>\n",
       "      <td>...</td>\n",
       "      <td>...</td>\n",
       "      <td>...</td>\n",
       "    </tr>\n",
       "    <tr>\n",
       "      <th>544</th>\n",
       "      <td>2189389</td>\n",
       "      <td>c1csc(-c2cccs2)c1</td>\n",
       "      <td>[1, 5, 7, 9]</td>\n",
       "      <td>True</td>\n",
       "      <td>False</td>\n",
       "    </tr>\n",
       "    <tr>\n",
       "      <th>3622</th>\n",
       "      <td>4726774</td>\n",
       "      <td>c1csc(-c2cccs2)c1</td>\n",
       "      <td>[1, 6, 7, 9]</td>\n",
       "      <td>True</td>\n",
       "      <td>False</td>\n",
       "    </tr>\n",
       "    <tr>\n",
       "      <th>3621</th>\n",
       "      <td>4726773</td>\n",
       "      <td>c1csc(-c2cccs2)c1</td>\n",
       "      <td>[1, 5, 7]</td>\n",
       "      <td>True</td>\n",
       "      <td>False</td>\n",
       "    </tr>\n",
       "    <tr>\n",
       "      <th>3690</th>\n",
       "      <td>47634166</td>\n",
       "      <td>c1cscn1</td>\n",
       "      <td>[1, 3]</td>\n",
       "      <td>True</td>\n",
       "      <td>False</td>\n",
       "    </tr>\n",
       "    <tr>\n",
       "      <th>4350</th>\n",
       "      <td>5255176</td>\n",
       "      <td>c1cscn1</td>\n",
       "      <td>[3]</td>\n",
       "      <td>True</td>\n",
       "      <td>False</td>\n",
       "    </tr>\n",
       "  </tbody>\n",
       "</table>\n",
       "<p>900 rows × 5 columns</p>\n",
       "</div>"
      ],
      "text/plain": [
       "            ID                         Reactant      Rxt_Site  Conflict  \\\n",
       "2631  39565104            Brc1ccc(-c2ccccn2)cc1           [3]      True   \n",
       "2304  37125432            Brc1ccc(-c2ccccn2)cc1       [3, 11]      True   \n",
       "1285  29236441  C=C(Cl)CNc1ccc([N+](=O)[O-])cc1          [13]      True   \n",
       "1286  29236442  C=C(Cl)CNc1ccc([N+](=O)[O-])cc1       [6, 13]      True   \n",
       "2584  39349381               C=CCOC1=CC(=O)CCC1           [8]      True   \n",
       "...        ...                              ...           ...       ...   \n",
       "544    2189389                c1csc(-c2cccs2)c1  [1, 5, 7, 9]      True   \n",
       "3622   4726774                c1csc(-c2cccs2)c1  [1, 6, 7, 9]      True   \n",
       "3621   4726773                c1csc(-c2cccs2)c1     [1, 5, 7]      True   \n",
       "3690  47634166                          c1cscn1        [1, 3]      True   \n",
       "4350   5255176                          c1cscn1           [3]      True   \n",
       "\n",
       "      Not Subset  \n",
       "2631       False  \n",
       "2304       False  \n",
       "1285       False  \n",
       "1286       False  \n",
       "2584       False  \n",
       "...          ...  \n",
       "544        False  \n",
       "3622       False  \n",
       "3621       False  \n",
       "3690       False  \n",
       "4350       False  \n",
       "\n",
       "[900 rows x 5 columns]"
      ]
     },
     "execution_count": 38,
     "metadata": {},
     "output_type": "execute_result"
    }
   ],
   "source": [
    "conflicting_df[\"Not Subset\"] = False\n",
    "#conflicting_df[\"Reactant\"] = map(str, conflicting_df[\"Reactant\"])\n",
    "conflicting_df"
   ]
  },
  {
   "cell_type": "code",
   "execution_count": 39,
   "metadata": {},
   "outputs": [
    {
     "data": {
      "text/html": [
       "<div>\n",
       "<style scoped>\n",
       "    .dataframe tbody tr th:only-of-type {\n",
       "        vertical-align: middle;\n",
       "    }\n",
       "\n",
       "    .dataframe tbody tr th {\n",
       "        vertical-align: top;\n",
       "    }\n",
       "\n",
       "    .dataframe thead th {\n",
       "        text-align: right;\n",
       "    }\n",
       "</style>\n",
       "<table border=\"1\" class=\"dataframe\">\n",
       "  <thead>\n",
       "    <tr style=\"text-align: right;\">\n",
       "      <th></th>\n",
       "      <th>ID</th>\n",
       "      <th>Reactant</th>\n",
       "      <th>Rxt_Site</th>\n",
       "      <th>Conflict</th>\n",
       "      <th>Not Subset</th>\n",
       "    </tr>\n",
       "  </thead>\n",
       "  <tbody>\n",
       "    <tr>\n",
       "      <th>0</th>\n",
       "      <td>39565104</td>\n",
       "      <td>Brc1ccc(-c2ccccn2)cc1</td>\n",
       "      <td>[3]</td>\n",
       "      <td>True</td>\n",
       "      <td>False</td>\n",
       "    </tr>\n",
       "    <tr>\n",
       "      <th>1</th>\n",
       "      <td>37125432</td>\n",
       "      <td>Brc1ccc(-c2ccccn2)cc1</td>\n",
       "      <td>[3, 11]</td>\n",
       "      <td>True</td>\n",
       "      <td>False</td>\n",
       "    </tr>\n",
       "    <tr>\n",
       "      <th>2</th>\n",
       "      <td>29236441</td>\n",
       "      <td>C=C(Cl)CNc1ccc([N+](=O)[O-])cc1</td>\n",
       "      <td>[13]</td>\n",
       "      <td>True</td>\n",
       "      <td>False</td>\n",
       "    </tr>\n",
       "    <tr>\n",
       "      <th>3</th>\n",
       "      <td>29236442</td>\n",
       "      <td>C=C(Cl)CNc1ccc([N+](=O)[O-])cc1</td>\n",
       "      <td>[6, 13]</td>\n",
       "      <td>True</td>\n",
       "      <td>False</td>\n",
       "    </tr>\n",
       "    <tr>\n",
       "      <th>4</th>\n",
       "      <td>39349381</td>\n",
       "      <td>C=CCOC1=CC(=O)CCC1</td>\n",
       "      <td>[8]</td>\n",
       "      <td>True</td>\n",
       "      <td>False</td>\n",
       "    </tr>\n",
       "    <tr>\n",
       "      <th>...</th>\n",
       "      <td>...</td>\n",
       "      <td>...</td>\n",
       "      <td>...</td>\n",
       "      <td>...</td>\n",
       "      <td>...</td>\n",
       "    </tr>\n",
       "    <tr>\n",
       "      <th>895</th>\n",
       "      <td>2189389</td>\n",
       "      <td>c1csc(-c2cccs2)c1</td>\n",
       "      <td>[1, 5, 7, 9]</td>\n",
       "      <td>True</td>\n",
       "      <td>False</td>\n",
       "    </tr>\n",
       "    <tr>\n",
       "      <th>896</th>\n",
       "      <td>4726774</td>\n",
       "      <td>c1csc(-c2cccs2)c1</td>\n",
       "      <td>[1, 6, 7, 9]</td>\n",
       "      <td>True</td>\n",
       "      <td>False</td>\n",
       "    </tr>\n",
       "    <tr>\n",
       "      <th>897</th>\n",
       "      <td>4726773</td>\n",
       "      <td>c1csc(-c2cccs2)c1</td>\n",
       "      <td>[1, 5, 7]</td>\n",
       "      <td>True</td>\n",
       "      <td>False</td>\n",
       "    </tr>\n",
       "    <tr>\n",
       "      <th>898</th>\n",
       "      <td>47634166</td>\n",
       "      <td>c1cscn1</td>\n",
       "      <td>[1, 3]</td>\n",
       "      <td>True</td>\n",
       "      <td>False</td>\n",
       "    </tr>\n",
       "    <tr>\n",
       "      <th>899</th>\n",
       "      <td>5255176</td>\n",
       "      <td>c1cscn1</td>\n",
       "      <td>[3]</td>\n",
       "      <td>True</td>\n",
       "      <td>False</td>\n",
       "    </tr>\n",
       "  </tbody>\n",
       "</table>\n",
       "<p>900 rows × 5 columns</p>\n",
       "</div>"
      ],
      "text/plain": [
       "           ID                         Reactant      Rxt_Site  Conflict  \\\n",
       "0    39565104            Brc1ccc(-c2ccccn2)cc1           [3]      True   \n",
       "1    37125432            Brc1ccc(-c2ccccn2)cc1       [3, 11]      True   \n",
       "2    29236441  C=C(Cl)CNc1ccc([N+](=O)[O-])cc1          [13]      True   \n",
       "3    29236442  C=C(Cl)CNc1ccc([N+](=O)[O-])cc1       [6, 13]      True   \n",
       "4    39349381               C=CCOC1=CC(=O)CCC1           [8]      True   \n",
       "..        ...                              ...           ...       ...   \n",
       "895   2189389                c1csc(-c2cccs2)c1  [1, 5, 7, 9]      True   \n",
       "896   4726774                c1csc(-c2cccs2)c1  [1, 6, 7, 9]      True   \n",
       "897   4726773                c1csc(-c2cccs2)c1     [1, 5, 7]      True   \n",
       "898  47634166                          c1cscn1        [1, 3]      True   \n",
       "899   5255176                          c1cscn1           [3]      True   \n",
       "\n",
       "     Not Subset  \n",
       "0         False  \n",
       "1         False  \n",
       "2         False  \n",
       "3         False  \n",
       "4         False  \n",
       "..          ...  \n",
       "895       False  \n",
       "896       False  \n",
       "897       False  \n",
       "898       False  \n",
       "899       False  \n",
       "\n",
       "[900 rows x 5 columns]"
      ]
     },
     "execution_count": 39,
     "metadata": {},
     "output_type": "execute_result"
    }
   ],
   "source": [
    "conflicting_df.index = pd.RangeIndex(len(conflicting_df.index))\n",
    "conflicting_df"
   ]
  },
  {
   "cell_type": "code",
   "execution_count": 40,
   "metadata": {},
   "outputs": [
    {
     "data": {
      "text/plain": [
       "[3]"
      ]
     },
     "execution_count": 40,
     "metadata": {},
     "output_type": "execute_result"
    }
   ],
   "source": [
    "type(list(conflicting_df[\"Rxt_Site\"][0]))\n",
    "list(conflicting_df[\"Rxt_Site\"][0])"
   ]
  },
  {
   "cell_type": "code",
   "execution_count": 41,
   "metadata": {},
   "outputs": [
    {
     "name": "stderr",
     "output_type": "stream",
     "text": [
      "/var/folders/jp/w62zl0z932s8hz_k3b5m5wk80000gn/T/ipykernel_8770/2581484815.py:22: SettingWithCopyWarning: \n",
      "A value is trying to be set on a copy of a slice from a DataFrame\n",
      "\n",
      "See the caveats in the documentation: https://pandas.pydata.org/pandas-docs/stable/user_guide/indexing.html#returning-a-view-versus-a-copy\n",
      "  conflicting_df[\"Not Subset\"][react_iter] = True\n",
      "/var/folders/jp/w62zl0z932s8hz_k3b5m5wk80000gn/T/ipykernel_8770/2581484815.py:25: SettingWithCopyWarning: \n",
      "A value is trying to be set on a copy of a slice from a DataFrame\n",
      "\n",
      "See the caveats in the documentation: https://pandas.pydata.org/pandas-docs/stable/user_guide/indexing.html#returning-a-view-versus-a-copy\n",
      "  conflicting_df[\"Not Subset\"][react_iter] = False\n"
     ]
    },
    {
     "data": {
      "text/plain": [
       "492"
      ]
     },
     "execution_count": 41,
     "metadata": {},
     "output_type": "execute_result"
    }
   ],
   "source": [
    "for react_iter in range(len(conflicting_df[\"Reactant\"])):\n",
    "    \n",
    "    most_rxt_centers = []\n",
    "    rxt_centers = []\n",
    "    \n",
    "    for compare_iter in range(len(conflicting_df[\"Reactant\"])):\n",
    "        react = conflicting_df[\"Reactant\"][react_iter]\n",
    "        compare = conflicting_df[\"Reactant\"][compare_iter]\n",
    "# If another entry with same reactant && not subset == False\n",
    "        if react == compare and react_iter != compare_iter and conflicting_df[\"Not Subset\"][react_iter] == False:\n",
    "            #\n",
    "            compare_site = conflicting_df[\"Rxt_Site\"][compare_iter]\n",
    "            rxt_centers.append(compare_site)\n",
    "            \n",
    "    rxt_site = conflicting_df[\"Rxt_Site\"][react_iter]        \n",
    "    long_rxt_centers = max(rxt_centers, key = len)\n",
    "    test = max(rxt_centers, key = len)\n",
    "    \n",
    "    #rxt_site.remove(test)\n",
    "    \n",
    "    if all(x in long_rxt_centers for x in rxt_site):\n",
    "        conflicting_df[\"Not Subset\"][react_iter] = True\n",
    "        \n",
    "    else:\n",
    "        conflicting_df[\"Not Subset\"][react_iter] = False\n",
    "                \n",
    "sum(conflicting_df[\"Not Subset\"])\n",
    "\n",
    "## most_rxt_centers.append(max([rxn_site], key = len))"
   ]
  },
  {
   "cell_type": "code",
   "execution_count": 42,
   "metadata": {},
   "outputs": [
    {
     "data": {
      "text/plain": [
       "[1, 3]"
      ]
     },
     "execution_count": 42,
     "metadata": {},
     "output_type": "execute_result"
    }
   ],
   "source": [
    "long_rxt_centers = max(rxt_centers, key = len)\n",
    "rxt_centers\n",
    "long_rxt_centers"
   ]
  },
  {
   "cell_type": "code",
   "execution_count": 43,
   "metadata": {},
   "outputs": [
    {
     "data": {
      "text/plain": [
       "361"
      ]
     },
     "execution_count": 43,
     "metadata": {},
     "output_type": "execute_result"
    }
   ],
   "source": [
    "len(set(list(conflicting_df[\"Reactant\"])))"
   ]
  },
  {
   "cell_type": "raw",
   "metadata": {},
   "source": [
    "new_df = copy.deepcopy(conflicting_df)\n",
    "\n",
    "most_rxt_centers = []\n",
    "reactants = conflicting_df['Reactant']\n",
    "rxt_sites = conflicting_df[\"Rxt_Site\"]\n",
    "\n",
    "\n",
    "for reactant in range(len(reactants)):\n",
    "    starting_material = []\n",
    "    reaction_centers = []\n",
    "    \n",
    "    for comparison in range(len(reactants)):\n",
    "        if reactants.loc(comparison) == reactants[reactant]:    \n",
    "            rxn_site = rxt_sites.loc(comparison)\n",
    "            if rxn_site is np.nan:\n",
    "                continue\n",
    "            reaction_centers.append(rxn_site)\n",
    "    \n",
    "    most_rxt_centers.append(max([rxn_site], key = len))\n",
    "\"\"\"    \n",
    "    for idx, exp_obs in reactant.iterrows():\n",
    "        rxn_site = exp_obs['Rxt_Site']\n",
    "        if rxn_site not in most_rxt_centers:\n",
    "            new_df[\"Not Subset\"].iloc[idx] = True\n",
    "            \n",
    "\n",
    "            \"\"\"\n",
    "#conflicting_df   \n",
    "most_rxt_centers\n",
    "        \n",
    "        \n",
    "        \n",
    "        \n",
    " "
   ]
  },
  {
   "cell_type": "code",
   "execution_count": 44,
   "metadata": {},
   "outputs": [
    {
     "data": {
      "text/plain": [
       "False"
      ]
     },
     "execution_count": 44,
     "metadata": {},
     "output_type": "execute_result"
    }
   ],
   "source": [
    "conflicting_df[\"Not Subset\"].iloc[5]"
   ]
  },
  {
   "cell_type": "code",
   "execution_count": 46,
   "metadata": {},
   "outputs": [
    {
     "data": {
      "text/plain": [
       "[]"
      ]
     },
     "execution_count": 46,
     "metadata": {},
     "output_type": "execute_result"
    }
   ],
   "source": [
    "sum(conflicting_df[\"Not Subset\"])\n",
    "most_rxt_centers"
   ]
  },
  {
   "cell_type": "code",
   "execution_count": 47,
   "metadata": {},
   "outputs": [
    {
     "data": {
      "text/plain": [
       "'C'"
      ]
     },
     "execution_count": 47,
     "metadata": {},
     "output_type": "execute_result"
    }
   ],
   "source": [
    "conflicting_df[\"Reactant\"][5][0]"
   ]
  },
  {
   "cell_type": "raw",
   "metadata": {},
   "source": [
    "       \n",
    "        rxn_reactants = rxn_smiles.split('>>')[0].split('.')\n",
    "        rxn_products = rxn_smiles.split('>>')[1].split('.')\n",
    "\n",
    "        reac_mols, reac_smiles = get_unique_reps2(rxn_reactants)\n",
    "        prod_mols, prod_smiles = get_unique_reps2(rxn_products)\n",
    "\n",
    "        for reac_mol, reac_smi in zip(reac_mols, reac_smiles):\n",
    "            reaction_okay = False\n",
    "            for prod_mol, prod_smi in zip(prod_mols, prod_smiles):\n",
    "                \n",
    "                if reac_smi == prod_smi:\n",
    "                    continue\n",
    "                \n",
    "                try:\n",
    "                    rc = get_site_selectivity(reac_mol, prod_mol)\n",
    "                except:\n",
    "                    continue\n",
    "                \n",
    "                reaction_centers.extend(rc)\n",
    "                reaction_okay = True\n",
    "                \n",
    "            if reaction_okay and reac_smi not in reactants:\n",
    "                reactants.append(reac_smi)\n",
    "        reaction_centers = np.unique(reaction_centers).tolist()\n",
    "\n",
    "    if len(reactants) == 1 and len(reaction_centers):\n",
    "        reactants_dataset2.append(reactants)\n",
    "        reaction_centers_dataset2.append(reaction_centers)\n",
    "        reaction_id2.append(k)"
   ]
  },
  {
   "cell_type": "code",
   "execution_count": 48,
   "metadata": {},
   "outputs": [
    {
     "ename": "TypeError",
     "evalue": "string indices must be integers",
     "output_type": "error",
     "traceback": [
      "\u001b[0;31m---------------------------------------------------------------------------\u001b[0m",
      "\u001b[0;31mTypeError\u001b[0m                                 Traceback (most recent call last)",
      "Input \u001b[0;32mIn [48]\u001b[0m, in \u001b[0;36m<cell line: 1>\u001b[0;34m()\u001b[0m\n\u001b[1;32m      1\u001b[0m \u001b[38;5;28;01mfor\u001b[39;00m df \u001b[38;5;129;01min\u001b[39;00m total_df:\n\u001b[0;32m----> 2\u001b[0m     \u001b[38;5;28;01mif\u001b[39;00m \u001b[38;5;28mlen\u001b[39m(\u001b[43mdf\u001b[49m\u001b[43m[\u001b[49m\u001b[38;5;124;43m\"\u001b[39;49m\u001b[38;5;124;43mRxt_site\u001b[39;49m\u001b[38;5;124;43m\"\u001b[39;49m\u001b[43m]\u001b[49m) \u001b[38;5;241m>\u001b[39m \u001b[38;5;241m1\u001b[39m \u001b[38;5;129;01mand\u001b[39;00m df[\u001b[38;5;124m\"\u001b[39m\u001b[38;5;124mConflict\u001b[39m\u001b[38;5;124m\"\u001b[39m] \u001b[38;5;241m==\u001b[39m \u001b[38;5;28;01mFalse\u001b[39;00m:\n\u001b[1;32m      3\u001b[0m         new_df\u001b[38;5;241m.\u001b[39mappend(df)\n",
      "\u001b[0;31mTypeError\u001b[0m: string indices must be integers"
     ]
    }
   ],
   "source": [
    "for df in total_df:\n",
    "    if len(df[\"Rxt_site\"]) > 1 and df[\"Conflict\"] == False:\n",
    "        new_df.append(df)"
   ]
  },
  {
   "cell_type": "code",
   "execution_count": 4,
   "metadata": {},
   "outputs": [
    {
     "data": {
      "image/png": "[encoded data removed]",
      "text/plain": [
       "<rdkit.Chem.rdchem.Mol at 0x10de854e0>"
      ]
     },
     "execution_count": 4,
     "metadata": {},
     "output_type": "execute_result"
    }
   ],
   "source": [
    "smiles =\"O=C1C=C(Sc2ccccc2)CCC1\" \n",
    "def mol_with_atom_index(mol):\n",
    "    for atom in mol.GetAtoms():\n",
    "        atom.SetAtomMapNum(atom.GetIdx())\n",
    "    return mol\n",
    "\n",
    "molecule = Chem.MolFromSmiles(smiles)\n",
    "mol_with_atom_index(molecule)\n"
   ]
  },
  {
   "cell_type": "code",
   "execution_count": null,
   "metadata": {},
   "outputs": [],
   "source": []
  }
 ],
 "metadata": {
  "kernelspec": {
   "display_name": "Python 3 (ipykernel)",
   "language": "python",
   "name": "python3"
  },
  "language_info": {
   "codemirror_mode": {
    "name": "ipython",
    "version": 3
   },
   "file_extension": ".py",
   "mimetype": "text/x-python",
   "name": "python",
   "nbconvert_exporter": "python",
   "pygments_lexer": "ipython3",
   "version": "3.9.12"
  },
  "toc-autonumbering": false,
  "vscode": {
   "interpreter": {
    "hash": "a8fbd04c4d2ce7cd5b3b5bd9de222360c0918031833ded07a919f41589efefe3"
   }
  }
 },
 "nbformat": 4,
 "nbformat_minor": 4
}
